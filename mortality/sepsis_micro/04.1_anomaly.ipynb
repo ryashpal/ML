{
 "cells": [
  {
   "cell_type": "markdown",
   "id": "cd04f745-36ea-401b-9730-a724c4b5745f",
   "metadata": {},
   "source": [
    "## Load libraries"
   ]
  },
  {
   "cell_type": "code",
   "execution_count": 1,
   "id": "f33fadff-c5c6-4ac3-8047-3562802bcb50",
   "metadata": {},
   "outputs": [],
   "source": [
    "library(outlierensembles)\n",
    "library(DDoutlier)"
   ]
  },
  {
   "cell_type": "markdown",
   "id": "a70e254d-1790-4162-9bcf-c9c6b8211864",
   "metadata": {},
   "source": [
    "## Load data"
   ]
  },
  {
   "cell_type": "code",
   "execution_count": 2,
   "id": "bbbcf4d3-7bd4-4d1d-907b-2274bfe0fdae",
   "metadata": {},
   "outputs": [],
   "source": [
    "data.dir <- paste(getwd(), \"data\", sep=\"/\")\n",
    "data.matrix.original <- paste(data.dir, \"data_matrix_original.csv\", sep=\"/\")"
   ]
  },
  {
   "cell_type": "markdown",
   "id": "30fe1cf6-5a34-4a9d-8eb2-f8651e8029fa",
   "metadata": {},
   "source": [
    "## Format data"
   ]
  },
  {
   "cell_type": "code",
   "execution_count": 3,
   "id": "117220ef-0df5-4cea-ab21-4c7a40c44d7b",
   "metadata": {},
   "outputs": [
    {
     "data": {
      "text/html": [
       "<table class=\"dataframe\">\n",
       "<caption>A data.frame: 6 × 165</caption>\n",
       "<thead>\n",
       "\t<tr><th></th><th scope=col>seven_day_mortality</th><th scope=col>fourteen_day_mortality</th><th scope=col>twentyone_day_mortality</th><th scope=col>twentyeight_day_mortality</th><th scope=col>sixty_day_mortality</th><th scope=col>ninety_day_mortality</th><th scope=col>onetwenty_day_mortality</th><th scope=col>Ambulatory.Clinic...Center</th><th scope=col>Ambulatory.Surgical.Center</th><th scope=col>Emergency.Room...Hospital</th><th scope=col>⋯</th><th scope=col>bicarbonate_first</th><th scope=col>hemoglobin_first</th><th scope=col>creatinine_first</th><th scope=col>potassium_last</th><th scope=col>chloride_last</th><th scope=col>glucose_last</th><th scope=col>sodium_last</th><th scope=col>bicarbonate_last</th><th scope=col>hemoglobin_last</th><th scope=col>creatinine_last</th></tr>\n",
       "\t<tr><th></th><th scope=col>&lt;dbl&gt;</th><th scope=col>&lt;dbl&gt;</th><th scope=col>&lt;dbl&gt;</th><th scope=col>&lt;dbl&gt;</th><th scope=col>&lt;dbl&gt;</th><th scope=col>&lt;dbl&gt;</th><th scope=col>&lt;dbl&gt;</th><th scope=col>&lt;dbl&gt;</th><th scope=col>&lt;dbl&gt;</th><th scope=col>&lt;dbl&gt;</th><th scope=col>⋯</th><th scope=col>&lt;dbl&gt;</th><th scope=col>&lt;dbl&gt;</th><th scope=col>&lt;dbl&gt;</th><th scope=col>&lt;dbl&gt;</th><th scope=col>&lt;dbl&gt;</th><th scope=col>&lt;dbl&gt;</th><th scope=col>&lt;dbl&gt;</th><th scope=col>&lt;dbl&gt;</th><th scope=col>&lt;dbl&gt;</th><th scope=col>&lt;dbl&gt;</th></tr>\n",
       "</thead>\n",
       "<tbody>\n",
       "\t<tr><th scope=row>9769904</th><td>0</td><td>0</td><td>0</td><td>0</td><td>0</td><td>0</td><td>0</td><td>0</td><td>0</td><td>1</td><td>⋯</td><td> 0.2324370</td><td> 0.6725906</td><td>-0.8264525</td><td>-0.05648535</td><td>-0.2134402</td><td>-0.7724418</td><td>-0.6155762</td><td> 0.04677541</td><td> 0.3824809</td><td>-0.7101768</td></tr>\n",
       "\t<tr><th scope=row>2985612</th><td>0</td><td>0</td><td>0</td><td>0</td><td>0</td><td>0</td><td>0</td><td>0</td><td>0</td><td>1</td><td>⋯</td><td>-0.9051665</td><td>-1.3038165</td><td>-0.6865942</td><td>-1.60893745</td><td> 1.8592971</td><td>-0.3449661</td><td> 1.0887199</td><td>-0.71820295</td><td> 0.3230233</td><td>-0.4964765</td></tr>\n",
       "\t<tr><th scope=row>2871076</th><td>0</td><td>0</td><td>0</td><td>0</td><td>0</td><td>0</td><td>0</td><td>0</td><td>0</td><td>1</td><td>⋯</td><td> 0.2324370</td><td>-0.3916286</td><td>-0.6865942</td><td>-0.74646406</td><td> 1.1190338</td><td>-0.7724418</td><td> 0.8993537</td><td> 0.42926460</td><td> 2.7013267</td><td>-0.6389433</td></tr>\n",
       "\t<tr><th scope=row>6894504</th><td>0</td><td>0</td><td>0</td><td>0</td><td>1</td><td>1</td><td>1</td><td>0</td><td>0</td><td>1</td><td>⋯</td><td>-0.1467641</td><td> 0.7232677</td><td>-0.7565233</td><td> 0.97848271</td><td>-0.6575982</td><td>-0.3077943</td><td>-0.2368437</td><td> 0.42926460</td><td> 1.0959719</td><td>-0.7814102</td></tr>\n",
       "\t<tr><th scope=row>8752252</th><td>1</td><td>1</td><td>1</td><td>1</td><td>1</td><td>1</td><td>1</td><td>0</td><td>1</td><td>0</td><td>⋯</td><td> 1.3700405</td><td>-0.6956912</td><td>-0.4068774</td><td>-0.57396938</td><td> 0.5268231</td><td>-0.9954726</td><td> 0.3312550</td><td> 0.23802000</td><td>-0.5093829</td><td>-0.7101768</td></tr>\n",
       "\t<tr><th scope=row>231719</th><td>0</td><td>0</td><td>0</td><td>0</td><td>0</td><td>0</td><td>0</td><td>0</td><td>0</td><td>1</td><td>⋯</td><td> 0.6116382</td><td>-0.8477225</td><td> 0.1525561</td><td>-0.22898003</td><td> 0.0826651</td><td>-0.7724418</td><td> 0.1418888</td><td> 0.23802000</td><td>-0.4499253</td><td> 0.4295579</td></tr>\n",
       "</tbody>\n",
       "</table>\n"
      ],
      "text/latex": [
       "A data.frame: 6 × 165\n",
       "\\begin{tabular}{r|lllllllllllllllllllll}\n",
       "  & seven\\_day\\_mortality & fourteen\\_day\\_mortality & twentyone\\_day\\_mortality & twentyeight\\_day\\_mortality & sixty\\_day\\_mortality & ninety\\_day\\_mortality & onetwenty\\_day\\_mortality & Ambulatory.Clinic...Center & Ambulatory.Surgical.Center & Emergency.Room...Hospital & ⋯ & bicarbonate\\_first & hemoglobin\\_first & creatinine\\_first & potassium\\_last & chloride\\_last & glucose\\_last & sodium\\_last & bicarbonate\\_last & hemoglobin\\_last & creatinine\\_last\\\\\n",
       "  & <dbl> & <dbl> & <dbl> & <dbl> & <dbl> & <dbl> & <dbl> & <dbl> & <dbl> & <dbl> & ⋯ & <dbl> & <dbl> & <dbl> & <dbl> & <dbl> & <dbl> & <dbl> & <dbl> & <dbl> & <dbl>\\\\\n",
       "\\hline\n",
       "\t9769904 & 0 & 0 & 0 & 0 & 0 & 0 & 0 & 0 & 0 & 1 & ⋯ &  0.2324370 &  0.6725906 & -0.8264525 & -0.05648535 & -0.2134402 & -0.7724418 & -0.6155762 &  0.04677541 &  0.3824809 & -0.7101768\\\\\n",
       "\t2985612 & 0 & 0 & 0 & 0 & 0 & 0 & 0 & 0 & 0 & 1 & ⋯ & -0.9051665 & -1.3038165 & -0.6865942 & -1.60893745 &  1.8592971 & -0.3449661 &  1.0887199 & -0.71820295 &  0.3230233 & -0.4964765\\\\\n",
       "\t2871076 & 0 & 0 & 0 & 0 & 0 & 0 & 0 & 0 & 0 & 1 & ⋯ &  0.2324370 & -0.3916286 & -0.6865942 & -0.74646406 &  1.1190338 & -0.7724418 &  0.8993537 &  0.42926460 &  2.7013267 & -0.6389433\\\\\n",
       "\t6894504 & 0 & 0 & 0 & 0 & 1 & 1 & 1 & 0 & 0 & 1 & ⋯ & -0.1467641 &  0.7232677 & -0.7565233 &  0.97848271 & -0.6575982 & -0.3077943 & -0.2368437 &  0.42926460 &  1.0959719 & -0.7814102\\\\\n",
       "\t8752252 & 1 & 1 & 1 & 1 & 1 & 1 & 1 & 0 & 1 & 0 & ⋯ &  1.3700405 & -0.6956912 & -0.4068774 & -0.57396938 &  0.5268231 & -0.9954726 &  0.3312550 &  0.23802000 & -0.5093829 & -0.7101768\\\\\n",
       "\t231719 & 0 & 0 & 0 & 0 & 0 & 0 & 0 & 0 & 0 & 1 & ⋯ &  0.6116382 & -0.8477225 &  0.1525561 & -0.22898003 &  0.0826651 & -0.7724418 &  0.1418888 &  0.23802000 & -0.4499253 &  0.4295579\\\\\n",
       "\\end{tabular}\n"
      ],
      "text/markdown": [
       "\n",
       "A data.frame: 6 × 165\n",
       "\n",
       "| <!--/--> | seven_day_mortality &lt;dbl&gt; | fourteen_day_mortality &lt;dbl&gt; | twentyone_day_mortality &lt;dbl&gt; | twentyeight_day_mortality &lt;dbl&gt; | sixty_day_mortality &lt;dbl&gt; | ninety_day_mortality &lt;dbl&gt; | onetwenty_day_mortality &lt;dbl&gt; | Ambulatory.Clinic...Center &lt;dbl&gt; | Ambulatory.Surgical.Center &lt;dbl&gt; | Emergency.Room...Hospital &lt;dbl&gt; | ⋯ ⋯ | bicarbonate_first &lt;dbl&gt; | hemoglobin_first &lt;dbl&gt; | creatinine_first &lt;dbl&gt; | potassium_last &lt;dbl&gt; | chloride_last &lt;dbl&gt; | glucose_last &lt;dbl&gt; | sodium_last &lt;dbl&gt; | bicarbonate_last &lt;dbl&gt; | hemoglobin_last &lt;dbl&gt; | creatinine_last &lt;dbl&gt; |\n",
       "|---|---|---|---|---|---|---|---|---|---|---|---|---|---|---|---|---|---|---|---|---|---|\n",
       "| 9769904 | 0 | 0 | 0 | 0 | 0 | 0 | 0 | 0 | 0 | 1 | ⋯ |  0.2324370 |  0.6725906 | -0.8264525 | -0.05648535 | -0.2134402 | -0.7724418 | -0.6155762 |  0.04677541 |  0.3824809 | -0.7101768 |\n",
       "| 2985612 | 0 | 0 | 0 | 0 | 0 | 0 | 0 | 0 | 0 | 1 | ⋯ | -0.9051665 | -1.3038165 | -0.6865942 | -1.60893745 |  1.8592971 | -0.3449661 |  1.0887199 | -0.71820295 |  0.3230233 | -0.4964765 |\n",
       "| 2871076 | 0 | 0 | 0 | 0 | 0 | 0 | 0 | 0 | 0 | 1 | ⋯ |  0.2324370 | -0.3916286 | -0.6865942 | -0.74646406 |  1.1190338 | -0.7724418 |  0.8993537 |  0.42926460 |  2.7013267 | -0.6389433 |\n",
       "| 6894504 | 0 | 0 | 0 | 0 | 1 | 1 | 1 | 0 | 0 | 1 | ⋯ | -0.1467641 |  0.7232677 | -0.7565233 |  0.97848271 | -0.6575982 | -0.3077943 | -0.2368437 |  0.42926460 |  1.0959719 | -0.7814102 |\n",
       "| 8752252 | 1 | 1 | 1 | 1 | 1 | 1 | 1 | 0 | 1 | 0 | ⋯ |  1.3700405 | -0.6956912 | -0.4068774 | -0.57396938 |  0.5268231 | -0.9954726 |  0.3312550 |  0.23802000 | -0.5093829 | -0.7101768 |\n",
       "| 231719 | 0 | 0 | 0 | 0 | 0 | 0 | 0 | 0 | 0 | 1 | ⋯ |  0.6116382 | -0.8477225 |  0.1525561 | -0.22898003 |  0.0826651 | -0.7724418 |  0.1418888 |  0.23802000 | -0.4499253 |  0.4295579 |\n",
       "\n"
      ],
      "text/plain": [
       "        seven_day_mortality fourteen_day_mortality twentyone_day_mortality\n",
       "9769904 0                   0                      0                      \n",
       "2985612 0                   0                      0                      \n",
       "2871076 0                   0                      0                      \n",
       "6894504 0                   0                      0                      \n",
       "8752252 1                   1                      1                      \n",
       "231719  0                   0                      0                      \n",
       "        twentyeight_day_mortality sixty_day_mortality ninety_day_mortality\n",
       "9769904 0                         0                   0                   \n",
       "2985612 0                         0                   0                   \n",
       "2871076 0                         0                   0                   \n",
       "6894504 0                         1                   1                   \n",
       "8752252 1                         1                   1                   \n",
       "231719  0                         0                   0                   \n",
       "        onetwenty_day_mortality Ambulatory.Clinic...Center\n",
       "9769904 0                       0                         \n",
       "2985612 0                       0                         \n",
       "2871076 0                       0                         \n",
       "6894504 1                       0                         \n",
       "8752252 1                       0                         \n",
       "231719  0                       0                         \n",
       "        Ambulatory.Surgical.Center Emergency.Room...Hospital ⋯\n",
       "9769904 0                          1                         ⋯\n",
       "2985612 0                          1                         ⋯\n",
       "2871076 0                          1                         ⋯\n",
       "6894504 0                          1                         ⋯\n",
       "8752252 1                          0                         ⋯\n",
       "231719  0                          1                         ⋯\n",
       "        bicarbonate_first hemoglobin_first creatinine_first potassium_last\n",
       "9769904  0.2324370         0.6725906       -0.8264525       -0.05648535   \n",
       "2985612 -0.9051665        -1.3038165       -0.6865942       -1.60893745   \n",
       "2871076  0.2324370        -0.3916286       -0.6865942       -0.74646406   \n",
       "6894504 -0.1467641         0.7232677       -0.7565233        0.97848271   \n",
       "8752252  1.3700405        -0.6956912       -0.4068774       -0.57396938   \n",
       "231719   0.6116382        -0.8477225        0.1525561       -0.22898003   \n",
       "        chloride_last glucose_last sodium_last bicarbonate_last hemoglobin_last\n",
       "9769904 -0.2134402    -0.7724418   -0.6155762   0.04677541       0.3824809     \n",
       "2985612  1.8592971    -0.3449661    1.0887199  -0.71820295       0.3230233     \n",
       "2871076  1.1190338    -0.7724418    0.8993537   0.42926460       2.7013267     \n",
       "6894504 -0.6575982    -0.3077943   -0.2368437   0.42926460       1.0959719     \n",
       "8752252  0.5268231    -0.9954726    0.3312550   0.23802000      -0.5093829     \n",
       "231719   0.0826651    -0.7724418    0.1418888   0.23802000      -0.4499253     \n",
       "        creatinine_last\n",
       "9769904 -0.7101768     \n",
       "2985612 -0.4964765     \n",
       "2871076 -0.6389433     \n",
       "6894504 -0.7814102     \n",
       "8752252 -0.7101768     \n",
       "231719   0.4295579     "
      ]
     },
     "metadata": {},
     "output_type": "display_data"
    }
   ],
   "source": [
    "data <- read.csv(data.matrix.original)\n",
    "rownames(data) <- data$micro_specimen_id\n",
    "index <- data[, (ncol(data)-1):ncol(data)]\n",
    "data <- subset(data, select = -c(X, micro_specimen_id, person_id))\n",
    "data[is.na(data)] <- 0\n",
    "head(data)"
   ]
  },
  {
   "cell_type": "markdown",
   "id": "c5ff646e-c630-48f8-8395-4ac1d60be062",
   "metadata": {},
   "source": [
    "## Unsupervized Outlier detection algorithms"
   ]
  },
  {
   "cell_type": "code",
   "execution_count": 4,
   "id": "f463af09-c665-4c11-be9d-bf6b5805c6e6",
   "metadata": {},
   "outputs": [],
   "source": [
    "y1 <- DDoutlier::KNN_AGG(data)"
   ]
  },
  {
   "cell_type": "code",
   "execution_count": 5,
   "id": "b6f2b43b-4838-4d84-a93d-2837615c8cc3",
   "metadata": {},
   "outputs": [],
   "source": [
    "y2 <- DDoutlier::LOF(data)"
   ]
  },
  {
   "cell_type": "code",
   "execution_count": 6,
   "id": "3cb464f1-9278-49e5-b1ed-ce7ac522bc2e",
   "metadata": {},
   "outputs": [],
   "source": [
    "# y3 <- DDoutlier::COF(data, k=10)"
   ]
  },
  {
   "cell_type": "code",
   "execution_count": 7,
   "id": "3d9b7ae0-4554-40b6-b1ef-44049260b749",
   "metadata": {},
   "outputs": [],
   "source": [
    "y4 <- DDoutlier::INFLO(data)"
   ]
  },
  {
   "cell_type": "code",
   "execution_count": 8,
   "id": "eb5a1b57-cd0e-4097-a4fa-dcdfc30a005c",
   "metadata": {},
   "outputs": [],
   "source": [
    "y5 <- DDoutlier::KDEOS(data)"
   ]
  },
  {
   "cell_type": "code",
   "execution_count": 9,
   "id": "8a796afb-dc0d-4ec7-bd6c-1f79481d12ea",
   "metadata": {},
   "outputs": [],
   "source": [
    "y6 <- DDoutlier::LDF(data)"
   ]
  },
  {
   "cell_type": "code",
   "execution_count": 10,
   "id": "ca72e096-a559-43a2-9c51-3e74a7e132e0",
   "metadata": {},
   "outputs": [],
   "source": [
    "# y7 <- DDoutlier::LDOF(data, k=10)"
   ]
  },
  {
   "cell_type": "code",
   "execution_count": 20,
   "id": "a411b518-2fd2-4e85-8bb6-6cdb2fa35399",
   "metadata": {},
   "outputs": [],
   "source": [
    "# Y <- cbind.data.frame(y1, y2, y3, y4, y5, y6$LDF, y7)\n",
    "# Y <- cbind.data.frame(y1, y2, y4, y6$LDF)\n",
    "Y <- cbind.data.frame(y1, y4)"
   ]
  },
  {
   "cell_type": "code",
   "execution_count": 23,
   "id": "2a4fdae7-430c-45ac-817d-1a84ee1e76c6",
   "metadata": {},
   "outputs": [
    {
     "data": {
      "text/html": [
       "<table class=\"dataframe\">\n",
       "<caption>A data.frame: 6 × 2</caption>\n",
       "<thead>\n",
       "\t<tr><th></th><th scope=col>y1</th><th scope=col>y4</th></tr>\n",
       "\t<tr><th></th><th scope=col>&lt;dbl&gt;</th><th scope=col>&lt;dbl&gt;</th></tr>\n",
       "</thead>\n",
       "<tbody>\n",
       "\t<tr><th scope=row>1</th><td>273.5416</td><td>0.8958666</td></tr>\n",
       "\t<tr><th scope=row>2</th><td>331.3549</td><td>1.0000000</td></tr>\n",
       "\t<tr><th scope=row>3</th><td>318.0614</td><td>1.4217910</td></tr>\n",
       "\t<tr><th scope=row>4</th><td>401.9014</td><td>1.2877158</td></tr>\n",
       "\t<tr><th scope=row>5</th><td>453.7460</td><td>1.0000000</td></tr>\n",
       "\t<tr><th scope=row>6</th><td>303.7111</td><td>0.9094021</td></tr>\n",
       "</tbody>\n",
       "</table>\n"
      ],
      "text/latex": [
       "A data.frame: 6 × 2\n",
       "\\begin{tabular}{r|ll}\n",
       "  & y1 & y4\\\\\n",
       "  & <dbl> & <dbl>\\\\\n",
       "\\hline\n",
       "\t1 & 273.5416 & 0.8958666\\\\\n",
       "\t2 & 331.3549 & 1.0000000\\\\\n",
       "\t3 & 318.0614 & 1.4217910\\\\\n",
       "\t4 & 401.9014 & 1.2877158\\\\\n",
       "\t5 & 453.7460 & 1.0000000\\\\\n",
       "\t6 & 303.7111 & 0.9094021\\\\\n",
       "\\end{tabular}\n"
      ],
      "text/markdown": [
       "\n",
       "A data.frame: 6 × 2\n",
       "\n",
       "| <!--/--> | y1 &lt;dbl&gt; | y4 &lt;dbl&gt; |\n",
       "|---|---|---|\n",
       "| 1 | 273.5416 | 0.8958666 |\n",
       "| 2 | 331.3549 | 1.0000000 |\n",
       "| 3 | 318.0614 | 1.4217910 |\n",
       "| 4 | 401.9014 | 1.2877158 |\n",
       "| 5 | 453.7460 | 1.0000000 |\n",
       "| 6 | 303.7111 | 0.9094021 |\n",
       "\n"
      ],
      "text/plain": [
       "  y1       y4       \n",
       "1 273.5416 0.8958666\n",
       "2 331.3549 1.0000000\n",
       "3 318.0614 1.4217910\n",
       "4 401.9014 1.2877158\n",
       "5 453.7460 1.0000000\n",
       "6 303.7111 0.9094021"
      ]
     },
     "metadata": {},
     "output_type": "display_data"
    }
   ],
   "source": [
    "head(Y)"
   ]
  },
  {
   "cell_type": "markdown",
   "id": "803a5cb7-ba41-4163-bfca-664d1e2d475f",
   "metadata": {},
   "source": [
    "## Item Response Theory (IRT) emsemble"
   ]
  },
  {
   "cell_type": "code",
   "execution_count": 22,
   "id": "f9e2c146-fe47-42f8-b9f2-e33c3aa8be57",
   "metadata": {},
   "outputs": [
    {
     "name": "stderr",
     "output_type": "stream",
     "text": [
      "Warning message in max(na.omit(data[, i])):\n",
      "“no non-missing arguments to max; returning -Inf”\n",
      "Warning message in min(na.omit(data[, i])):\n",
      "“no non-missing arguments to min; returning Inf”\n",
      "Warning message in min(data[, i], na.rm = TRUE):\n",
      "“no non-missing arguments to min; returning Inf”\n",
      "Warning message in max(data[, i], na.rm = TRUE):\n",
      "“no non-missing arguments to max; returning -Inf”\n"
     ]
    },
    {
     "ename": "ERROR",
     "evalue": "Error in while (abs(d) > converge && iter < max.EMCycle) {: missing value where TRUE/FALSE needed\n",
     "output_type": "error",
     "traceback": [
      "Error in while (abs(d) > converge && iter < max.EMCycle) {: missing value where TRUE/FALSE needed\nTraceback:\n",
      "1. irt_ensemble(Y)",
      "2. airt::cirtmodel(X, max.item = rep(1, dd), min.item = rep(0, dd))",
      "3. EstCRMitem2(df, max.item, min.item, max.EMCycle = 200, type = \"Shojima\")"
     ]
    }
   ],
   "source": [
    "ens1 <- irt_ensemble(Y)"
   ]
  },
  {
   "cell_type": "markdown",
   "id": "634b1b5b-35df-48f4-b0be-537668c3ff22",
   "metadata": {},
   "source": [
    "## IRT emsemble scores"
   ]
  },
  {
   "cell_type": "code",
   "execution_count": null,
   "id": "3ddad5ad-95bb-46f2-a0a6-6b3936e18ecf",
   "metadata": {},
   "outputs": [],
   "source": [
    "summary(ens1$scores)"
   ]
  },
  {
   "cell_type": "code",
   "execution_count": null,
   "id": "6d941ba1-5be3-4b9f-9029-3899de2bf5bf",
   "metadata": {},
   "outputs": [],
   "source": [
    "hist(ens1$scores, breaks = sqrt(length(ens1$scores)))"
   ]
  },
  {
   "cell_type": "code",
   "execution_count": null,
   "id": "ceea15b2-7849-4db9-b3b4-09fd465b9df6",
   "metadata": {},
   "outputs": [],
   "source": [
    "boxplot(ens1$scores,\n",
    "  ylab = \"Ensemble anomaly scores\"\n",
    ")"
   ]
  },
  {
   "cell_type": "markdown",
   "id": "6231dfb6-b7ff-4b65-bfe2-1497461cdade",
   "metadata": {},
   "source": [
    "## Export"
   ]
  },
  {
   "cell_type": "code",
   "execution_count": null,
   "id": "b1e8d861-b25e-42d8-a136-f1893dcffc85",
   "metadata": {},
   "outputs": [],
   "source": [
    "df <- cbind.data.frame(index, data, y1, y2, y4, y5, y6$LDF, ens1$scores)"
   ]
  },
  {
   "cell_type": "code",
   "execution_count": null,
   "id": "347aa8d5-3335-4da0-ba74-229873c1b59a",
   "metadata": {},
   "outputs": [],
   "source": [
    "colnames(df) <- c('micro_specimen_id', 'person_id', colnames(data), 'y_knn_agg', 'y_lof', 'y_inflo', 'y_kdeos', 'y_ldf', 'ensemble_scores')"
   ]
  },
  {
   "cell_type": "code",
   "execution_count": null,
   "id": "f486e9b6-83eb-4f04-bb2b-3c78db5f281e",
   "metadata": {},
   "outputs": [],
   "source": [
    "head(df)"
   ]
  },
  {
   "cell_type": "code",
   "execution_count": null,
   "id": "3cdc78ac-b5c9-410d-b399-7b55446b9d33",
   "metadata": {},
   "outputs": [],
   "source": [
    "data.dir <- paste(getwd(), \"data\", sep=\"/\")\n",
    "data.matrix.final <- paste(data.dir, \"data_matrix_final.csv\", sep=\"/\")\n",
    "write.csv(df, data.matrix.final, row.names = FALSE)"
   ]
  }
 ],
 "metadata": {
  "kernelspec": {
   "display_name": "R",
   "language": "R",
   "name": "ir"
  },
  "language_info": {
   "codemirror_mode": "r",
   "file_extension": ".r",
   "mimetype": "text/x-r-source",
   "name": "R",
   "pygments_lexer": "r",
   "version": "4.0.2"
  }
 },
 "nbformat": 4,
 "nbformat_minor": 5
}
