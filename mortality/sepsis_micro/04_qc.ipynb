{
 "cells": [
  {
   "cell_type": "markdown",
   "id": "e04fa206-91b9-4632-afad-eac43377f62c",
   "metadata": {},
   "source": [
    "## Read data matrix"
   ]
  },
  {
   "cell_type": "code",
   "execution_count": 1,
   "id": "64434998-af96-4a2e-8ab9-97f4ddbfcd2d",
   "metadata": {},
   "outputs": [],
   "source": [
    "import pandas as pd\n",
    "import psycopg2\n",
    "\n",
    "# information used to create a database connection\n",
    "sqluser = 'postgres'\n",
    "dbname = 'mimic4'\n",
    "hostname = 'localhost'\n",
    "port_number = 5434\n",
    "schema_name = 'omop_cdm'\n",
    "\n",
    "# Connect to postgres with a copy of the MIMIC-III database\n",
    "con = psycopg2.connect(dbname=dbname, user=sqluser, host=hostname, port=port_number, password='mysecretpassword')\n",
    "\n",
    "# the below statement is prepended to queries to ensure they select from the right schema\n",
    "query_schema = 'set search_path to ' + schema_name + ';'"
   ]
  },
  {
   "cell_type": "code",
   "execution_count": null,
   "id": "682b2d7d-baac-40e4-a085-3767f78d67e4",
   "metadata": {},
   "outputs": [],
   "source": [
    "dataQuery = \"\"\"select * from sepsis_micro.data_matrix where sepsis = 1;\"\"\"\n",
    "dataDf = pd.read_sql_query(dataQuery, con)\n",
    "dataDf"
   ]
  }
 ],
 "metadata": {
  "kernelspec": {
   "display_name": "Python 3 (ipykernel)",
   "language": "python",
   "name": "python3"
  },
  "language_info": {
   "codemirror_mode": {
    "name": "ipython",
    "version": 3
   },
   "file_extension": ".py",
   "mimetype": "text/x-python",
   "name": "python",
   "nbconvert_exporter": "python",
   "pygments_lexer": "ipython3",
   "version": "3.9.1"
  }
 },
 "nbformat": 4,
 "nbformat_minor": 5
}
