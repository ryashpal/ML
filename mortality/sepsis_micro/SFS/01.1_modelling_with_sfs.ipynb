{
 "cells": [
  {
   "cell_type": "markdown",
   "id": "b6f1e03d-5f05-4662-b2e1-c9a862c4ba76",
   "metadata": {},
   "source": [
    "# Modelling with SFS"
   ]
  },
  {
   "cell_type": "markdown",
   "id": "a27584b1-0cda-44ad-aa1a-c7273383799e",
   "metadata": {},
   "source": [
    "# Read Data"
   ]
  },
  {
   "cell_type": "code",
   "execution_count": 1,
   "id": "93001692-f16f-4b0b-a359-dfd336995367",
   "metadata": {},
   "outputs": [
    {
     "data": {
      "text/html": [
       "<div>\n",
       "<style scoped>\n",
       "    .dataframe tbody tr th:only-of-type {\n",
       "        vertical-align: middle;\n",
       "    }\n",
       "\n",
       "    .dataframe tbody tr th {\n",
       "        vertical-align: top;\n",
       "    }\n",
       "\n",
       "    .dataframe thead th {\n",
       "        text-align: right;\n",
       "    }\n",
       "</style>\n",
       "<table border=\"1\" class=\"dataframe\">\n",
       "  <thead>\n",
       "    <tr style=\"text-align: right;\">\n",
       "      <th></th>\n",
       "      <th>micro_specimen_id</th>\n",
       "      <th>person_id</th>\n",
       "      <th>seven_day_mortality</th>\n",
       "      <th>fourteen_day_mortality</th>\n",
       "      <th>twentyone_day_mortality</th>\n",
       "      <th>twentyeight_day_mortality</th>\n",
       "      <th>sixty_day_mortality</th>\n",
       "      <th>ninety_day_mortality</th>\n",
       "      <th>onetwenty_day_mortality</th>\n",
       "      <th>Ambulatory Clinic / Center</th>\n",
       "      <th>...</th>\n",
       "      <th>hemoglobin_first</th>\n",
       "      <th>creatinine_first</th>\n",
       "      <th>potassium_last</th>\n",
       "      <th>chloride_last</th>\n",
       "      <th>glucose_last</th>\n",
       "      <th>sodium_last</th>\n",
       "      <th>bicarbonate_last</th>\n",
       "      <th>hemoglobin_last</th>\n",
       "      <th>creatinine_last</th>\n",
       "      <th>time_to_antibiotic</th>\n",
       "    </tr>\n",
       "  </thead>\n",
       "  <tbody>\n",
       "    <tr>\n",
       "      <th>0</th>\n",
       "      <td>2940</td>\n",
       "      <td>-470494077</td>\n",
       "      <td>0</td>\n",
       "      <td>0</td>\n",
       "      <td>0</td>\n",
       "      <td>1</td>\n",
       "      <td>1</td>\n",
       "      <td>1</td>\n",
       "      <td>1</td>\n",
       "      <td>0</td>\n",
       "      <td>...</td>\n",
       "      <td>-0.586379</td>\n",
       "      <td>2.441041</td>\n",
       "      <td>-0.053360</td>\n",
       "      <td>-0.804726</td>\n",
       "      <td>0.726778</td>\n",
       "      <td>-0.800329</td>\n",
       "      <td>0.048541</td>\n",
       "      <td>-0.857543</td>\n",
       "      <td>-0.077536</td>\n",
       "      <td>0.018778</td>\n",
       "    </tr>\n",
       "    <tr>\n",
       "      <th>1</th>\n",
       "      <td>3236</td>\n",
       "      <td>-762840899</td>\n",
       "      <td>0</td>\n",
       "      <td>1</td>\n",
       "      <td>1</td>\n",
       "      <td>1</td>\n",
       "      <td>1</td>\n",
       "      <td>1</td>\n",
       "      <td>1</td>\n",
       "      <td>0</td>\n",
       "      <td>...</td>\n",
       "      <td>-0.942367</td>\n",
       "      <td>-0.066982</td>\n",
       "      <td>1.677597</td>\n",
       "      <td>-1.840315</td>\n",
       "      <td>0.615396</td>\n",
       "      <td>-1.745000</td>\n",
       "      <td>0.621905</td>\n",
       "      <td>-1.037712</td>\n",
       "      <td>0.988716</td>\n",
       "      <td>0.018778</td>\n",
       "    </tr>\n",
       "    <tr>\n",
       "      <th>2</th>\n",
       "      <td>3720</td>\n",
       "      <td>-1481508426</td>\n",
       "      <td>0</td>\n",
       "      <td>0</td>\n",
       "      <td>0</td>\n",
       "      <td>0</td>\n",
       "      <td>0</td>\n",
       "      <td>0</td>\n",
       "      <td>0</td>\n",
       "      <td>0</td>\n",
       "      <td>...</td>\n",
       "      <td>-0.535524</td>\n",
       "      <td>-0.345652</td>\n",
       "      <td>-1.438125</td>\n",
       "      <td>-1.692373</td>\n",
       "      <td>1.376502</td>\n",
       "      <td>-0.989263</td>\n",
       "      <td>1.004149</td>\n",
       "      <td>-0.377094</td>\n",
       "      <td>-0.290787</td>\n",
       "      <td>0.022081</td>\n",
       "    </tr>\n",
       "    <tr>\n",
       "      <th>3</th>\n",
       "      <td>5214</td>\n",
       "      <td>2090709572</td>\n",
       "      <td>0</td>\n",
       "      <td>0</td>\n",
       "      <td>0</td>\n",
       "      <td>0</td>\n",
       "      <td>0</td>\n",
       "      <td>0</td>\n",
       "      <td>0</td>\n",
       "      <td>0</td>\n",
       "      <td>...</td>\n",
       "      <td>-0.789801</td>\n",
       "      <td>-0.554654</td>\n",
       "      <td>0.292832</td>\n",
       "      <td>-0.508844</td>\n",
       "      <td>-0.164272</td>\n",
       "      <td>-1.745000</td>\n",
       "      <td>-1.098189</td>\n",
       "      <td>-0.677375</td>\n",
       "      <td>-0.504037</td>\n",
       "      <td>-1.107961</td>\n",
       "    </tr>\n",
       "    <tr>\n",
       "      <th>4</th>\n",
       "      <td>10611</td>\n",
       "      <td>-961491032</td>\n",
       "      <td>0</td>\n",
       "      <td>0</td>\n",
       "      <td>0</td>\n",
       "      <td>0</td>\n",
       "      <td>0</td>\n",
       "      <td>0</td>\n",
       "      <td>0</td>\n",
       "      <td>0</td>\n",
       "      <td>...</td>\n",
       "      <td>1.091850</td>\n",
       "      <td>-0.763656</td>\n",
       "      <td>-0.399551</td>\n",
       "      <td>1.414391</td>\n",
       "      <td>0.763905</td>\n",
       "      <td>0.333277</td>\n",
       "      <td>-0.333703</td>\n",
       "      <td>0.043300</td>\n",
       "      <td>-0.859455</td>\n",
       "      <td>0.034054</td>\n",
       "    </tr>\n",
       "    <tr>\n",
       "      <th>...</th>\n",
       "      <td>...</td>\n",
       "      <td>...</td>\n",
       "      <td>...</td>\n",
       "      <td>...</td>\n",
       "      <td>...</td>\n",
       "      <td>...</td>\n",
       "      <td>...</td>\n",
       "      <td>...</td>\n",
       "      <td>...</td>\n",
       "      <td>...</td>\n",
       "      <td>...</td>\n",
       "      <td>...</td>\n",
       "      <td>...</td>\n",
       "      <td>...</td>\n",
       "      <td>...</td>\n",
       "      <td>...</td>\n",
       "      <td>...</td>\n",
       "      <td>...</td>\n",
       "      <td>...</td>\n",
       "      <td>...</td>\n",
       "      <td>...</td>\n",
       "    </tr>\n",
       "    <tr>\n",
       "      <th>7097</th>\n",
       "      <td>9986222</td>\n",
       "      <td>-1199717531</td>\n",
       "      <td>0</td>\n",
       "      <td>0</td>\n",
       "      <td>0</td>\n",
       "      <td>0</td>\n",
       "      <td>0</td>\n",
       "      <td>0</td>\n",
       "      <td>0</td>\n",
       "      <td>0</td>\n",
       "      <td>...</td>\n",
       "      <td>1.447838</td>\n",
       "      <td>-0.554654</td>\n",
       "      <td>0.465927</td>\n",
       "      <td>-0.065021</td>\n",
       "      <td>-0.498416</td>\n",
       "      <td>0.900080</td>\n",
       "      <td>2.533121</td>\n",
       "      <td>-0.377094</td>\n",
       "      <td>-0.575121</td>\n",
       "      <td>0.017126</td>\n",
       "    </tr>\n",
       "    <tr>\n",
       "      <th>7098</th>\n",
       "      <td>9989349</td>\n",
       "      <td>-1246337626</td>\n",
       "      <td>0</td>\n",
       "      <td>0</td>\n",
       "      <td>0</td>\n",
       "      <td>0</td>\n",
       "      <td>0</td>\n",
       "      <td>0</td>\n",
       "      <td>0</td>\n",
       "      <td>0</td>\n",
       "      <td>...</td>\n",
       "      <td>1.244416</td>\n",
       "      <td>1.953370</td>\n",
       "      <td>-0.399551</td>\n",
       "      <td>-1.248550</td>\n",
       "      <td>1.357938</td>\n",
       "      <td>-1.745000</td>\n",
       "      <td>-0.715946</td>\n",
       "      <td>0.463693</td>\n",
       "      <td>1.841718</td>\n",
       "      <td>0.031577</td>\n",
       "    </tr>\n",
       "    <tr>\n",
       "      <th>7099</th>\n",
       "      <td>9989996</td>\n",
       "      <td>-1704051650</td>\n",
       "      <td>1</td>\n",
       "      <td>1</td>\n",
       "      <td>1</td>\n",
       "      <td>1</td>\n",
       "      <td>1</td>\n",
       "      <td>1</td>\n",
       "      <td>1</td>\n",
       "      <td>0</td>\n",
       "      <td>...</td>\n",
       "      <td>-1.247500</td>\n",
       "      <td>-0.693988</td>\n",
       "      <td>0.119736</td>\n",
       "      <td>0.082921</td>\n",
       "      <td>-0.758306</td>\n",
       "      <td>-1.178197</td>\n",
       "      <td>-0.907067</td>\n",
       "      <td>-1.337993</td>\n",
       "      <td>-0.646204</td>\n",
       "      <td>0.018778</td>\n",
       "    </tr>\n",
       "    <tr>\n",
       "      <th>7100</th>\n",
       "      <td>9996881</td>\n",
       "      <td>768076701</td>\n",
       "      <td>0</td>\n",
       "      <td>0</td>\n",
       "      <td>1</td>\n",
       "      <td>1</td>\n",
       "      <td>1</td>\n",
       "      <td>1</td>\n",
       "      <td>1</td>\n",
       "      <td>0</td>\n",
       "      <td>...</td>\n",
       "      <td>-0.586379</td>\n",
       "      <td>-0.833323</td>\n",
       "      <td>-0.572647</td>\n",
       "      <td>-0.656785</td>\n",
       "      <td>-0.609797</td>\n",
       "      <td>0.144343</td>\n",
       "      <td>2.150878</td>\n",
       "      <td>-0.437150</td>\n",
       "      <td>-0.788371</td>\n",
       "      <td>0.031990</td>\n",
       "    </tr>\n",
       "    <tr>\n",
       "      <th>7101</th>\n",
       "      <td>9999939</td>\n",
       "      <td>-1316464833</td>\n",
       "      <td>0</td>\n",
       "      <td>0</td>\n",
       "      <td>0</td>\n",
       "      <td>0</td>\n",
       "      <td>0</td>\n",
       "      <td>0</td>\n",
       "      <td>1</td>\n",
       "      <td>0</td>\n",
       "      <td>...</td>\n",
       "      <td>0.685006</td>\n",
       "      <td>0.490356</td>\n",
       "      <td>-0.918838</td>\n",
       "      <td>2.597920</td>\n",
       "      <td>-0.201399</td>\n",
       "      <td>2.978357</td>\n",
       "      <td>-0.142581</td>\n",
       "      <td>0.643862</td>\n",
       "      <td>0.135714</td>\n",
       "      <td>0.022494</td>\n",
       "    </tr>\n",
       "  </tbody>\n",
       "</table>\n",
       "<p>7102 rows × 168 columns</p>\n",
       "</div>"
      ],
      "text/plain": [
       "      micro_specimen_id   person_id  seven_day_mortality  \\\n",
       "0                  2940  -470494077                    0   \n",
       "1                  3236  -762840899                    0   \n",
       "2                  3720 -1481508426                    0   \n",
       "3                  5214  2090709572                    0   \n",
       "4                 10611  -961491032                    0   \n",
       "...                 ...         ...                  ...   \n",
       "7097            9986222 -1199717531                    0   \n",
       "7098            9989349 -1246337626                    0   \n",
       "7099            9989996 -1704051650                    1   \n",
       "7100            9996881   768076701                    0   \n",
       "7101            9999939 -1316464833                    0   \n",
       "\n",
       "      fourteen_day_mortality  twentyone_day_mortality  \\\n",
       "0                          0                        0   \n",
       "1                          1                        1   \n",
       "2                          0                        0   \n",
       "3                          0                        0   \n",
       "4                          0                        0   \n",
       "...                      ...                      ...   \n",
       "7097                       0                        0   \n",
       "7098                       0                        0   \n",
       "7099                       1                        1   \n",
       "7100                       0                        1   \n",
       "7101                       0                        0   \n",
       "\n",
       "      twentyeight_day_mortality  sixty_day_mortality  ninety_day_mortality  \\\n",
       "0                             1                    1                     1   \n",
       "1                             1                    1                     1   \n",
       "2                             0                    0                     0   \n",
       "3                             0                    0                     0   \n",
       "4                             0                    0                     0   \n",
       "...                         ...                  ...                   ...   \n",
       "7097                          0                    0                     0   \n",
       "7098                          0                    0                     0   \n",
       "7099                          1                    1                     1   \n",
       "7100                          1                    1                     1   \n",
       "7101                          0                    0                     0   \n",
       "\n",
       "      onetwenty_day_mortality  Ambulatory Clinic / Center  ...  \\\n",
       "0                           1                           0  ...   \n",
       "1                           1                           0  ...   \n",
       "2                           0                           0  ...   \n",
       "3                           0                           0  ...   \n",
       "4                           0                           0  ...   \n",
       "...                       ...                         ...  ...   \n",
       "7097                        0                           0  ...   \n",
       "7098                        0                           0  ...   \n",
       "7099                        1                           0  ...   \n",
       "7100                        1                           0  ...   \n",
       "7101                        1                           0  ...   \n",
       "\n",
       "      hemoglobin_first  creatinine_first  potassium_last  chloride_last  \\\n",
       "0            -0.586379          2.441041       -0.053360      -0.804726   \n",
       "1            -0.942367         -0.066982        1.677597      -1.840315   \n",
       "2            -0.535524         -0.345652       -1.438125      -1.692373   \n",
       "3            -0.789801         -0.554654        0.292832      -0.508844   \n",
       "4             1.091850         -0.763656       -0.399551       1.414391   \n",
       "...                ...               ...             ...            ...   \n",
       "7097          1.447838         -0.554654        0.465927      -0.065021   \n",
       "7098          1.244416          1.953370       -0.399551      -1.248550   \n",
       "7099         -1.247500         -0.693988        0.119736       0.082921   \n",
       "7100         -0.586379         -0.833323       -0.572647      -0.656785   \n",
       "7101          0.685006          0.490356       -0.918838       2.597920   \n",
       "\n",
       "      glucose_last  sodium_last  bicarbonate_last  hemoglobin_last  \\\n",
       "0         0.726778    -0.800329          0.048541        -0.857543   \n",
       "1         0.615396    -1.745000          0.621905        -1.037712   \n",
       "2         1.376502    -0.989263          1.004149        -0.377094   \n",
       "3        -0.164272    -1.745000         -1.098189        -0.677375   \n",
       "4         0.763905     0.333277         -0.333703         0.043300   \n",
       "...            ...          ...               ...              ...   \n",
       "7097     -0.498416     0.900080          2.533121        -0.377094   \n",
       "7098      1.357938    -1.745000         -0.715946         0.463693   \n",
       "7099     -0.758306    -1.178197         -0.907067        -1.337993   \n",
       "7100     -0.609797     0.144343          2.150878        -0.437150   \n",
       "7101     -0.201399     2.978357         -0.142581         0.643862   \n",
       "\n",
       "      creatinine_last  time_to_antibiotic  \n",
       "0           -0.077536            0.018778  \n",
       "1            0.988716            0.018778  \n",
       "2           -0.290787            0.022081  \n",
       "3           -0.504037           -1.107961  \n",
       "4           -0.859455            0.034054  \n",
       "...               ...                 ...  \n",
       "7097        -0.575121            0.017126  \n",
       "7098         1.841718            0.031577  \n",
       "7099        -0.646204            0.018778  \n",
       "7100        -0.788371            0.031990  \n",
       "7101         0.135714            0.022494  \n",
       "\n",
       "[7102 rows x 168 columns]"
      ]
     },
     "execution_count": 1,
     "metadata": {},
     "output_type": "execute_result"
    }
   ],
   "source": [
    "import pandas as pd\n",
    "import psycopg2\n",
    "\n",
    "# information used to create a database connection\n",
    "sqluser = 'postgres'\n",
    "dbname = 'mimic4'\n",
    "hostname = 'localhost'\n",
    "port_number = 5434\n",
    "schema_name = 'sepsis_micro'\n",
    "\n",
    "# Connect to postgres with a copy of the MIMIC-III database\n",
    "con = psycopg2.connect(dbname=dbname, user=sqluser, host=hostname, port=port_number, password='mysecretpassword')\n",
    "\n",
    "# the below statement is prepended to queries to ensure they select from the right schema\n",
    "query_schema = 'set search_path to ' + schema_name + ';'\n",
    "\n",
    "dataQuery = \"\"\"select * from sepsis_micro.data_matrix_qc_1;\"\"\"\n",
    "dataDf = pd.read_sql_query(dataQuery, con)\n",
    "dataDf"
   ]
  },
  {
   "cell_type": "markdown",
   "id": "31a31662-6e40-4015-9f9d-cca452bfac54",
   "metadata": {},
   "source": [
    "## Extract data"
   ]
  },
  {
   "cell_type": "code",
   "execution_count": 2,
   "id": "7ce27230-73cd-46f1-ba42-9b4f3d8cd3df",
   "metadata": {},
   "outputs": [],
   "source": [
    "X = dataDf.drop(['micro_specimen_id', 'person_id', 'seven_day_mortality', 'fourteen_day_mortality', 'twentyone_day_mortality', 'twentyeight_day_mortality', 'sixty_day_mortality', 'ninety_day_mortality', 'onetwenty_day_mortality'], axis = 1)\n",
    "y_seven_day = dataDf['seven_day_mortality']"
   ]
  },
  {
   "cell_type": "markdown",
   "id": "380bde0b-08d0-4632-9d54-dbfe4d519add",
   "metadata": {},
   "source": [
    "## Perform SFS"
   ]
  },
  {
   "cell_type": "code",
   "execution_count": 3,
   "id": "ad29b5d5-8e6d-4453-9a92-c39218057cda",
   "metadata": {},
   "outputs": [
    {
     "data": {
      "text/plain": [
       "SequentialFeatureSelector(estimator=DecisionTreeClassifier(),\n",
       "                          n_features_to_select=10)"
      ]
     },
     "execution_count": 3,
     "metadata": {},
     "output_type": "execute_result"
    }
   ],
   "source": [
    "from sklearn.feature_selection import SequentialFeatureSelector\n",
    "from sklearn.tree import DecisionTreeClassifier\n",
    "\n",
    "sfs = SequentialFeatureSelector(estimator = DecisionTreeClassifier(), n_features_to_select=10)\n",
    "sfs.fit(X, y_seven_day)"
   ]
  },
  {
   "cell_type": "code",
   "execution_count": 4,
   "id": "1eb8552e-287c-4439-9b95-6cab801b3e3b",
   "metadata": {},
   "outputs": [
    {
     "data": {
      "text/plain": [
       "array(['Ambulatory Surgical Center', 'AMBULATORY OBSERVATION', 'ELECTIVE',\n",
       "       'AMBULATORY SURGERY TRANSFER',\n",
       "       'INTERNAL TRANSFER TO OR FROM PSYCH', 'WALK-IN/SELF REFERRAL',\n",
       "       'visit_duration_hrs', 'gcs_motor_last', 'chloride_max',\n",
       "       'sodium_last'], dtype=object)"
      ]
     },
     "execution_count": 4,
     "metadata": {},
     "output_type": "execute_result"
    }
   ],
   "source": [
    "sfs.get_feature_names_out()"
   ]
  },
  {
   "cell_type": "markdown",
   "id": "c6dd4eb6-1ec1-486d-8759-a75fd6b75a7b",
   "metadata": {},
   "source": [
    "## Obtained selected feature set"
   ]
  },
  {
   "cell_type": "code",
   "execution_count": 5,
   "id": "17a459b4-3905-4e6e-9c2c-238d1a0a0147",
   "metadata": {},
   "outputs": [],
   "source": [
    "X_min = X[sfs.get_feature_names_out()]"
   ]
  },
  {
   "cell_type": "code",
   "execution_count": 26,
   "id": "8a3f51e6-9525-4e57-a934-a920df071998",
   "metadata": {},
   "outputs": [],
   "source": [
    "from sklearn.model_selection import train_test_split\n",
    "\n",
    "X_train, X_test, X_min_train, X_min_test, y_seven_day_train, y_seven_day_test = train_test_split(X, X_min, y_seven_day, test_size=0.2, random_state=42)"
   ]
  },
  {
   "cell_type": "code",
   "execution_count": 27,
   "id": "eaa0ab71-f9a7-44de-8040-18405f997c93",
   "metadata": {},
   "outputs": [
    {
     "data": {
      "text/plain": [
       "((5681, 159), (1421, 159))"
      ]
     },
     "execution_count": 27,
     "metadata": {},
     "output_type": "execute_result"
    }
   ],
   "source": [
    "X_train.shape, X_test.shape"
   ]
  },
  {
   "cell_type": "code",
   "execution_count": 7,
   "id": "98a34e6a-15ca-4cdb-ac8f-862bfe18602e",
   "metadata": {},
   "outputs": [
    {
     "data": {
      "text/plain": [
       "((5681, 10), (1421, 10))"
      ]
     },
     "execution_count": 7,
     "metadata": {},
     "output_type": "execute_result"
    }
   ],
   "source": [
    "X_min_train.shape, X_min_test.shape"
   ]
  },
  {
   "cell_type": "code",
   "execution_count": 8,
   "id": "751b0f6f-4bbe-44cd-a4e6-20fb6347a3d0",
   "metadata": {},
   "outputs": [
    {
     "data": {
      "text/plain": [
       "((5681,), (1421,))"
      ]
     },
     "execution_count": 8,
     "metadata": {},
     "output_type": "execute_result"
    }
   ],
   "source": [
    "y_seven_day_train.shape, y_seven_day_test.shape"
   ]
  },
  {
   "cell_type": "markdown",
   "id": "17f4f4aa-9d4b-440f-a4aa-15de42672d93",
   "metadata": {},
   "source": [
    "## Function to plot confusion matrix"
   ]
  },
  {
   "cell_type": "code",
   "execution_count": 9,
   "id": "0cbff2d7-bee1-446e-b910-936b4fb883c9",
   "metadata": {},
   "outputs": [],
   "source": [
    "import numpy as np\n",
    "import pandas as pd\n",
    "import matplotlib.pyplot as plt\n",
    "import seaborn as sns\n",
    "from sklearn.metrics import confusion_matrix\n",
    "\n",
    "def cm_analysis(y_true, y_pred, labels, ymap=None, figsize=(10,10), title='Confusion Matrix for the classifier'):\n",
    "    \"\"\"\n",
    "    Generate matrix plot of confusion matrix with pretty annotations.\n",
    "    The plot image is saved to disk.\n",
    "    args: \n",
    "      y_true:    true label of the data, with shape (nsamples,)\n",
    "      y_pred:    prediction of the data, with shape (nsamples,)\n",
    "      filename:  filename of figure file to save\n",
    "      labels:    string array, name the order of class labels in the confusion matrix.\n",
    "                 use `clf.classes_` if using scikit-learn models.\n",
    "                 with shape (nclass,).\n",
    "      ymap:      dict: any -> string, length == nclass.\n",
    "                 if not None, map the labels & ys to more understandable strings.\n",
    "                 Caution: original y_true, y_pred and labels must align.\n",
    "      figsize:   the size of the figure plotted.\n",
    "    \"\"\"\n",
    "    if ymap is not None:\n",
    "        y_pred = [ymap[yi] for yi in y_pred]\n",
    "        y_true = [ymap[yi] for yi in y_true]\n",
    "        labels = [ymap[yi] for yi in labels]\n",
    "    cm = confusion_matrix(y_true, y_pred, labels=labels)\n",
    "    cm_sum = np.sum(cm, axis=1, keepdims=True)\n",
    "    cm_perc = cm / cm_sum.astype(float) * 100\n",
    "    annot = np.empty_like(cm).astype(str)\n",
    "    nrows, ncols = cm.shape\n",
    "    for i in range(nrows):\n",
    "        for j in range(ncols):\n",
    "            c = cm[i, j]\n",
    "            p = cm_perc[i, j]\n",
    "            if i == j:\n",
    "                s = cm_sum[i]\n",
    "                annot[i, j] = '%.1f%%\\n%d/%d' % (p, c, s)\n",
    "            elif c == 0:\n",
    "                annot[i, j] = ''\n",
    "            else:\n",
    "                annot[i, j] = '%.1f%%\\n%d' % (p, c)\n",
    "    cm = pd.DataFrame(cm, index=labels, columns=labels)\n",
    "    cm.index.name = 'Actual'\n",
    "    cm.columns.name = 'Predicted'\n",
    "    fig, ax = plt.subplots(figsize=figsize)\n",
    "    sns.heatmap(cm, annot=annot, fmt='', ax=ax)\n",
    "    #plt.savefig(filename)\n",
    "    plt.title(title)\n",
    "    plt.show()"
   ]
  },
  {
   "cell_type": "markdown",
   "id": "ab3ebd33-0fe0-4108-9158-74966856e7c5",
   "metadata": {
    "tags": []
   },
   "source": [
    "## XGBoost classifier"
   ]
  },
  {
   "cell_type": "code",
   "execution_count": 11,
   "id": "353727f5-8ae1-4007-8e38-4dc7d437b2b6",
   "metadata": {},
   "outputs": [
    {
     "name": "stdout",
     "output_type": "stream",
     "text": [
      "[09:21:23] WARNING: ../src/learner.cc:1115: Starting in XGBoost 1.3.0, the default evaluation metric used with the objective 'binary:logistic' was changed from 'error' to 'logloss'. Explicitly set eval_metric if you'd like to restore the old behavior.\n"
     ]
    }
   ],
   "source": [
    "from xgboost import XGBClassifier\n",
    "from matplotlib import pyplot as plt"
   ]
  },
  {
   "cell_type": "code",
   "execution_count": 24,
   "id": "5d24d067-124b-47e4-a198-7d022fd08766",
   "metadata": {},
   "outputs": [
    {
     "name": "stderr",
     "output_type": "stream",
     "text": [
      "/superbugai-data/yash/chapter_1/workspace/ML/mortality/.venv/lib/python3.9/site-packages/xgboost/sklearn.py:1224: UserWarning: The use of label encoder in XGBClassifier is deprecated and will be removed in a future release. To remove this warning, do the following: 1) Pass option use_label_encoder=False when constructing XGBClassifier object; and 2) Encode your labels (y) as integers starting with 0, i.e. 0, 1, 2, ..., [num_class - 1].\n",
      "  warnings.warn(label_encoder_deprecation_msg, UserWarning)\n"
     ]
    },
    {
     "name": "stdout",
     "output_type": "stream",
     "text": [
      "[09:24:40] WARNING: ../src/learner.cc:1115: Starting in XGBoost 1.3.0, the default evaluation metric used with the objective 'binary:logistic' was changed from 'error' to 'logloss'. Explicitly set eval_metric if you'd like to restore the old behavior.\n"
     ]
    }
   ],
   "source": [
    "xgb_min = XGBClassifier()\n",
    "xgb_min.fit(X_min_train, y_seven_day_train)\n",
    "xgb_min_pred = xgb_min.predict(X_min_test)\n",
    "xgb_min_prob = xgb_min.predict_proba(X_min_test)"
   ]
  },
  {
   "cell_type": "code",
   "execution_count": 29,
   "id": "8ebfa190-e825-4be9-91ef-ea83c0dc5751",
   "metadata": {},
   "outputs": [
    {
     "name": "stdout",
     "output_type": "stream",
     "text": [
      "[09:26:31] WARNING: ../src/learner.cc:1115: Starting in XGBoost 1.3.0, the default evaluation metric used with the objective 'binary:logistic' was changed from 'error' to 'logloss'. Explicitly set eval_metric if you'd like to restore the old behavior.\n"
     ]
    }
   ],
   "source": [
    "xgb = XGBClassifier()\n",
    "xgb.fit(X_train, y_seven_day_train)\n",
    "xgb_pred = xgb.predict(X_test)\n",
    "xgb_prob = xgb.predict_proba(X_test)"
   ]
  },
  {
   "cell_type": "markdown",
   "id": "140428ad-1935-4791-8a00-3f5838956081",
   "metadata": {},
   "source": [
    "### Confusion matrix"
   ]
  },
  {
   "cell_type": "code",
   "execution_count": 12,
   "id": "b1faa00c-155e-4a5a-ae3e-bf9abac8335e",
   "metadata": {},
   "outputs": [
    {
     "data": {
      "image/png": "[encoded data removed]",
      "text/plain": [
       "<Figure size 360x360 with 2 Axes>"
      ]
     },
     "metadata": {
      "needs_background": "light"
     },
     "output_type": "display_data"
    }
   ],
   "source": [
    "from sklearn.metrics import confusion_matrix\n",
    "from matplotlib import pyplot as plt\n",
    "\n",
    "labels = [0, 1]\n",
    "\n",
    "cm_analysis(xgb_min_pred, y_seven_day_test, labels, ymap=None, figsize=(5, 5), title='Seven Day Mortality Classifier')"
   ]
  },
  {
   "cell_type": "code",
   "execution_count": 30,
   "id": "d6ee042d-e48c-4a96-9c51-0103956c9f69",
   "metadata": {},
   "outputs": [
    {
     "data": {
      "image/png": "[encoded data removed]",
      "text/plain": [
       "<Figure size 360x360 with 2 Axes>"
      ]
     },
     "metadata": {
      "needs_background": "light"
     },
     "output_type": "display_data"
    }
   ],
   "source": [
    "from sklearn.metrics import confusion_matrix\n",
    "from matplotlib import pyplot as plt\n",
    "\n",
    "labels = [0, 1]\n",
    "\n",
    "cm_analysis(xgb_pred, y_seven_day_test, labels, ymap=None, figsize=(5, 5), title='Seven Day Mortality Classifier')"
   ]
  },
  {
   "cell_type": "markdown",
   "id": "ecb068d2-69fe-4942-8679-987a9e3ce9b2",
   "metadata": {},
   "source": [
    "## Logistic Regression"
   ]
  },
  {
   "cell_type": "code",
   "execution_count": 31,
   "id": "6ad1399c-bb53-4c4b-98c0-4f81906a26c4",
   "metadata": {},
   "outputs": [],
   "source": [
    "from sklearn.linear_model import LogisticRegression\n",
    "from matplotlib import pyplot as plt"
   ]
  },
  {
   "cell_type": "code",
   "execution_count": 32,
   "id": "8a9febee-0519-4a9c-a62e-e63ccbca9e7e",
   "metadata": {},
   "outputs": [],
   "source": [
    "lr_min = LogisticRegression(fit_intercept=True, max_iter=500)\n",
    "lr_min.fit(X_min_train, y_seven_day_train)\n",
    "lr_min_pred = lr_min.predict(X_min_test)\n",
    "lr_min_prob = lr_min.predict_proba(X_min_test)"
   ]
  },
  {
   "cell_type": "code",
   "execution_count": 33,
   "id": "a67ba1d8-c849-49eb-a73f-8a01c270693f",
   "metadata": {},
   "outputs": [],
   "source": [
    "lr = LogisticRegression(fit_intercept=True, max_iter=500)\n",
    "lr.fit(X_train, y_seven_day_train)\n",
    "lr_pred = lr.predict(X_test)\n",
    "lr_prob = lr.predict_proba(X_test)"
   ]
  },
  {
   "cell_type": "markdown",
   "id": "bf3d96b9-f5f7-40de-9306-88dc488fd141",
   "metadata": {},
   "source": [
    "### Confusion matrix"
   ]
  },
  {
   "cell_type": "code",
   "execution_count": 34,
   "id": "1317d976-5c7b-4470-b3a2-1feff1551587",
   "metadata": {},
   "outputs": [
    {
     "data": {
      "image/png": "[encoded data removed]",
      "text/plain": [
       "<Figure size 360x360 with 2 Axes>"
      ]
     },
     "metadata": {
      "needs_background": "light"
     },
     "output_type": "display_data"
    }
   ],
   "source": [
    "from sklearn.metrics import confusion_matrix\n",
    "from matplotlib import pyplot as plt\n",
    "\n",
    "labels = [0, 1]\n",
    "\n",
    "cm_analysis(lr_min_pred, y_seven_day_test, labels, ymap=None, figsize=(5, 5), title='Seven Day Mortality Classifier')"
   ]
  },
  {
   "cell_type": "code",
   "execution_count": 35,
   "id": "676e60ca-15e2-4dc0-b673-8bfcd83abd28",
   "metadata": {},
   "outputs": [
    {
     "data": {
      "image/png": "[encoded data removed]",
      "text/plain": [
       "<Figure size 360x360 with 2 Axes>"
      ]
     },
     "metadata": {
      "needs_background": "light"
     },
     "output_type": "display_data"
    }
   ],
   "source": [
    "from sklearn.metrics import confusion_matrix\n",
    "from matplotlib import pyplot as plt\n",
    "\n",
    "labels = [0, 1]\n",
    "\n",
    "cm_analysis(lr_pred, y_seven_day_test, labels, ymap=None, figsize=(5, 5), title='Seven Day Mortality Classifier')"
   ]
  },
  {
   "cell_type": "markdown",
   "id": "260b8e4d-5432-4263-ba68-e00a4cb6c461",
   "metadata": {},
   "source": [
    "## LGBM"
   ]
  },
  {
   "cell_type": "code",
   "execution_count": 37,
   "id": "b3dfb2c9-1923-4275-aa7f-b73ce648eebb",
   "metadata": {},
   "outputs": [],
   "source": [
    "from lightgbm import LGBMClassifier\n",
    "from matplotlib import pyplot as plt"
   ]
  },
  {
   "cell_type": "code",
   "execution_count": 38,
   "id": "15cc5b39-94a6-4b28-b1cc-7675b88d7ed5",
   "metadata": {},
   "outputs": [],
   "source": [
    "lgbm_min = LGBMClassifier()\n",
    "lgbm_min.fit(X_min_train, y_seven_day_train)\n",
    "lgbm_min_pred = lgbm_min.predict(X_min_test)\n",
    "lgbm_min_prob = lgbm_min.predict_proba(X_min_test)"
   ]
  },
  {
   "cell_type": "code",
   "execution_count": 39,
   "id": "93c3c0dd-cb49-483d-affa-3c5f6d7b072b",
   "metadata": {},
   "outputs": [],
   "source": [
    "lgbm = LGBMClassifier()\n",
    "lgbm.fit(X_train, y_seven_day_train)\n",
    "lgbm_pred = lgbm.predict(X_test)\n",
    "lgbm_prob = lgbm.predict_proba(X_test)"
   ]
  },
  {
   "cell_type": "markdown",
   "id": "4cb4f154-d4f9-4fdd-b270-8682e05354c1",
   "metadata": {},
   "source": [
    "### Confusion matrix"
   ]
  },
  {
   "cell_type": "code",
   "execution_count": 40,
   "id": "3e435029-6c60-45f1-8e4f-3568c6148022",
   "metadata": {},
   "outputs": [
    {
     "data": {
      "image/png": "[encoded data removed]",
      "text/plain": [
       "<Figure size 360x360 with 2 Axes>"
      ]
     },
     "metadata": {
      "needs_background": "light"
     },
     "output_type": "display_data"
    }
   ],
   "source": [
    "from sklearn.metrics import confusion_matrix\n",
    "from matplotlib import pyplot as plt\n",
    "\n",
    "labels = [0, 1]\n",
    "\n",
    "cm_analysis(lgbm_min_pred, y_seven_day_test, labels, ymap=None, figsize=(5, 5), title='Seven Day Mortality Classifier')"
   ]
  },
  {
   "cell_type": "code",
   "execution_count": 41,
   "id": "7a10573b-ebe1-4b5d-836c-d1152676bc45",
   "metadata": {},
   "outputs": [
    {
     "data": {
      "image/png": "[encoded data removed]",
      "text/plain": [
       "<Figure size 360x360 with 2 Axes>"
      ]
     },
     "metadata": {
      "needs_background": "light"
     },
     "output_type": "display_data"
    }
   ],
   "source": [
    "from sklearn.metrics import confusion_matrix\n",
    "from matplotlib import pyplot as plt\n",
    "\n",
    "labels = [0, 1]\n",
    "\n",
    "cm_analysis(lgbm_pred, y_seven_day_test, labels, ymap=None, figsize=(5, 5), title='Seven Day Mortality Classifier')"
   ]
  },
  {
   "cell_type": "markdown",
   "id": "4a9f82c9-3211-442d-a4b4-fa91200bdd35",
   "metadata": {},
   "source": [
    "### MLP"
   ]
  },
  {
   "cell_type": "code",
   "execution_count": 42,
   "id": "1824afef-a814-48fb-99ce-7fff6aae09e4",
   "metadata": {},
   "outputs": [],
   "source": [
    "from sklearn.neural_network import MLPClassifier\n",
    "from matplotlib import pyplot as plt"
   ]
  },
  {
   "cell_type": "code",
   "execution_count": 43,
   "id": "0ccf78a7-50b3-4665-96c7-9ea173209359",
   "metadata": {},
   "outputs": [
    {
     "name": "stderr",
     "output_type": "stream",
     "text": [
      "/superbugai-data/yash/chapter_1/workspace/ML/mortality/.venv/lib/python3.9/site-packages/sklearn/neural_network/_multilayer_perceptron.py:692: ConvergenceWarning: Stochastic Optimizer: Maximum iterations (300) reached and the optimization hasn't converged yet.\n",
      "  warnings.warn(\n"
     ]
    }
   ],
   "source": [
    "mlp_min = MLPClassifier(random_state=1, max_iter=300)\n",
    "mlp_min.fit(X_min_train, y_seven_day_train)\n",
    "mlp_min_pred = mlp_min.predict(X_min_test)\n",
    "mlp_min_prob = mlp_min.predict_proba(X_min_test)"
   ]
  },
  {
   "cell_type": "code",
   "execution_count": 44,
   "id": "3aa72d79-94f8-4cd7-a809-d0e807b753e2",
   "metadata": {},
   "outputs": [],
   "source": [
    "mlp = MLPClassifier(random_state=1, max_iter=300)\n",
    "mlp.fit(X_train, y_seven_day_train)\n",
    "mlp_pred = mlp.predict(X_test)\n",
    "mlp_prob = mlp.predict_proba(X_test)"
   ]
  },
  {
   "cell_type": "markdown",
   "id": "e9928aea-96bf-434c-acf2-0cf035e9e7b9",
   "metadata": {},
   "source": [
    "### Confusion matrix"
   ]
  },
  {
   "cell_type": "code",
   "execution_count": 45,
   "id": "e6c3e238-92aa-40fb-a1ec-5390c87f73a0",
   "metadata": {},
   "outputs": [
    {
     "data": {
      "image/png": "[encoded data removed]",
      "text/plain": [
       "<Figure size 360x360 with 2 Axes>"
      ]
     },
     "metadata": {
      "needs_background": "light"
     },
     "output_type": "display_data"
    }
   ],
   "source": [
    "from sklearn.metrics import confusion_matrix\n",
    "from matplotlib import pyplot as plt\n",
    "\n",
    "labels = [0, 1]\n",
    "\n",
    "cm_analysis(mlp_min_pred, y_seven_day_test, labels, ymap=None, figsize=(5, 5), title='Seven Day Mortality Classifier')"
   ]
  },
  {
   "cell_type": "code",
   "execution_count": 47,
   "id": "11cb24b0-04b8-4ba5-a48a-b3de52a649ae",
   "metadata": {},
   "outputs": [
    {
     "data": {
      "image/png": "[encoded data removed]",
      "text/plain": [
       "<Figure size 360x360 with 2 Axes>"
      ]
     },
     "metadata": {
      "needs_background": "light"
     },
     "output_type": "display_data"
    }
   ],
   "source": [
    "from sklearn.metrics import confusion_matrix\n",
    "from matplotlib import pyplot as plt\n",
    "\n",
    "labels = [0, 1]\n",
    "\n",
    "cm_analysis(mlp_pred, y_seven_day_test, labels, ymap=None, figsize=(5, 5), title='Seven Day Mortality Classifier')"
   ]
  },
  {
   "cell_type": "markdown",
   "id": "4a15937d-f102-45fc-b4af-267bf71724f0",
   "metadata": {},
   "source": [
    "### AUROC"
   ]
  },
  {
   "cell_type": "code",
   "execution_count": 48,
   "id": "817c9a4d-e886-4799-9eee-516d5be4c3ef",
   "metadata": {},
   "outputs": [
    {
     "data": {
      "image/png": "[encoded data removed]",
      "text/plain": [
       "<Figure size 1080x720 with 1 Axes>"
      ]
     },
     "metadata": {
      "needs_background": "light"
     },
     "output_type": "display_data"
    }
   ],
   "source": [
    "from sklearn.metrics import roc_curve\n",
    "\n",
    "plt.figure(figsize=(15,10))\n",
    "\n",
    "for (test, prob, label) in [\n",
    "        (y_seven_day_test, xgb_min_prob, 'XGBoost_min')\n",
    "        , (y_seven_day_test, lr_min_prob, 'LR_min')\n",
    "        , (y_seven_day_test, lgbm_min_prob, 'LGBM_min')\n",
    "        , (y_seven_day_test, mlp_min_prob, 'MLP_min')\n",
    "        , (y_seven_day_test, xgb_prob, 'XGBoost')\n",
    "        , (y_seven_day_test, lr_prob, 'LR')\n",
    "        , (y_seven_day_test, lgbm_prob, 'LGBM')\n",
    "        , (y_seven_day_test, mlp_prob, 'MLP')\n",
    "    ]:\n",
    "    fpr, tpr, _ = roc_curve(test, [p2 for p1, p2 in prob])\n",
    "    plt.plot(fpr, tpr, marker='.', label=label)\n",
    "\n",
    "# axis labels\n",
    "plt.xlabel('False Positive Rate')\n",
    "plt.ylabel('True Positive Rate')\n",
    "# show the legend\n",
    "plt.legend()\n",
    "# show the plot\n",
    "plt.show()"
   ]
  },
  {
   "cell_type": "markdown",
   "id": "d3f96fe3-9694-4368-8d65-a418f0058baa",
   "metadata": {},
   "source": [
    "## Performance metrics"
   ]
  },
  {
   "cell_type": "code",
   "execution_count": 49,
   "id": "6ac6a19f-4726-4be1-b5c5-b47570161d1c",
   "metadata": {},
   "outputs": [
    {
     "data": {
      "text/html": [
       "<div>\n",
       "<style scoped>\n",
       "    .dataframe tbody tr th:only-of-type {\n",
       "        vertical-align: middle;\n",
       "    }\n",
       "\n",
       "    .dataframe tbody tr th {\n",
       "        vertical-align: top;\n",
       "    }\n",
       "\n",
       "    .dataframe thead th {\n",
       "        text-align: right;\n",
       "    }\n",
       "</style>\n",
       "<table border=\"1\" class=\"dataframe\">\n",
       "  <thead>\n",
       "    <tr style=\"text-align: right;\">\n",
       "      <th></th>\n",
       "      <th>Label</th>\n",
       "      <th>Accuracy</th>\n",
       "      <th>F1</th>\n",
       "      <th>MCC</th>\n",
       "      <th>ROC</th>\n",
       "    </tr>\n",
       "  </thead>\n",
       "  <tbody>\n",
       "    <tr>\n",
       "      <th>0</th>\n",
       "      <td>XGB</td>\n",
       "      <td>0.976777</td>\n",
       "      <td>0.925508</td>\n",
       "      <td>0.912961</td>\n",
       "      <td>0.972738</td>\n",
       "    </tr>\n",
       "    <tr>\n",
       "      <th>1</th>\n",
       "      <td>LR</td>\n",
       "      <td>0.922590</td>\n",
       "      <td>0.736842</td>\n",
       "      <td>0.697362</td>\n",
       "      <td>0.880565</td>\n",
       "    </tr>\n",
       "    <tr>\n",
       "      <th>2</th>\n",
       "      <td>LGBM</td>\n",
       "      <td>0.976073</td>\n",
       "      <td>0.922727</td>\n",
       "      <td>0.910207</td>\n",
       "      <td>0.974095</td>\n",
       "    </tr>\n",
       "    <tr>\n",
       "      <th>3</th>\n",
       "      <td>MLP</td>\n",
       "      <td>0.955665</td>\n",
       "      <td>0.859688</td>\n",
       "      <td>0.833881</td>\n",
       "      <td>0.926867</td>\n",
       "    </tr>\n",
       "    <tr>\n",
       "      <th>4</th>\n",
       "      <td>XGB_MIN</td>\n",
       "      <td>0.942998</td>\n",
       "      <td>0.812933</td>\n",
       "      <td>0.781928</td>\n",
       "      <td>0.913084</td>\n",
       "    </tr>\n",
       "    <tr>\n",
       "      <th>5</th>\n",
       "      <td>LR_MIN</td>\n",
       "      <td>0.863476</td>\n",
       "      <td>0.432749</td>\n",
       "      <td>0.397705</td>\n",
       "      <td>0.773410</td>\n",
       "    </tr>\n",
       "    <tr>\n",
       "      <th>6</th>\n",
       "      <td>LGBM_MIN</td>\n",
       "      <td>0.936664</td>\n",
       "      <td>0.790698</td>\n",
       "      <td>0.756536</td>\n",
       "      <td>0.902177</td>\n",
       "    </tr>\n",
       "    <tr>\n",
       "      <th>7</th>\n",
       "      <td>MLP_MIN</td>\n",
       "      <td>0.908515</td>\n",
       "      <td>0.661458</td>\n",
       "      <td>0.628426</td>\n",
       "      <td>0.874023</td>\n",
       "    </tr>\n",
       "  </tbody>\n",
       "</table>\n",
       "</div>"
      ],
      "text/plain": [
       "      Label  Accuracy        F1       MCC       ROC\n",
       "0       XGB  0.976777  0.925508  0.912961  0.972738\n",
       "1        LR  0.922590  0.736842  0.697362  0.880565\n",
       "2      LGBM  0.976073  0.922727  0.910207  0.974095\n",
       "3       MLP  0.955665  0.859688  0.833881  0.926867\n",
       "4   XGB_MIN  0.942998  0.812933  0.781928  0.913084\n",
       "5    LR_MIN  0.863476  0.432749  0.397705  0.773410\n",
       "6  LGBM_MIN  0.936664  0.790698  0.756536  0.902177\n",
       "7   MLP_MIN  0.908515  0.661458  0.628426  0.874023"
      ]
     },
     "execution_count": 49,
     "metadata": {},
     "output_type": "execute_result"
    }
   ],
   "source": [
    "import pandas as pd\n",
    "\n",
    "from sklearn.metrics import accuracy_score\n",
    "from sklearn.metrics import f1_score\n",
    "from sklearn.metrics import matthews_corrcoef\n",
    "from sklearn.metrics import roc_auc_score\n",
    "\n",
    "data = []\n",
    "data.append([\"XGB\", accuracy_score(xgb_pred, y_seven_day_test), f1_score(xgb_pred, y_seven_day_test), matthews_corrcoef(xgb_pred, y_seven_day_test), roc_auc_score(xgb_pred, y_seven_day_test)])\n",
    "data.append([\"LR\", accuracy_score(lr_pred, y_seven_day_test), f1_score(lr_pred, y_seven_day_test), matthews_corrcoef(lr_pred, y_seven_day_test), roc_auc_score(lr_pred, y_seven_day_test)])\n",
    "data.append([\"LGBM\", accuracy_score(lgbm_pred, y_seven_day_test), f1_score(lgbm_pred, y_seven_day_test), matthews_corrcoef(lgbm_pred, y_seven_day_test), roc_auc_score(lgbm_pred, y_seven_day_test)])\n",
    "data.append([\"MLP\", accuracy_score(mlp_pred, y_seven_day_test), f1_score(mlp_pred, y_seven_day_test), matthews_corrcoef(mlp_pred, y_seven_day_test), roc_auc_score(mlp_pred, y_seven_day_test)])\n",
    "data.append([\"XGB_MIN\", accuracy_score(xgb_min_pred, y_seven_day_test), f1_score(xgb_min_pred, y_seven_day_test), matthews_corrcoef(xgb_min_pred, y_seven_day_test), roc_auc_score(xgb_min_pred, y_seven_day_test)])\n",
    "data.append([\"LR_MIN\", accuracy_score(lr_min_pred, y_seven_day_test), f1_score(lr_min_pred, y_seven_day_test), matthews_corrcoef(lr_min_pred, y_seven_day_test), roc_auc_score(lr_min_pred, y_seven_day_test)])\n",
    "data.append([\"LGBM_MIN\", accuracy_score(lgbm_min_pred, y_seven_day_test), f1_score(lgbm_min_pred, y_seven_day_test), matthews_corrcoef(lgbm_min_pred, y_seven_day_test), roc_auc_score(lgbm_min_pred, y_seven_day_test)])\n",
    "data.append([\"MLP_MIN\", accuracy_score(mlp_min_pred, y_seven_day_test), f1_score(mlp_min_pred, y_seven_day_test), matthews_corrcoef(mlp_min_pred, y_seven_day_test), roc_auc_score(mlp_min_pred, y_seven_day_test)])\n",
    "\n",
    "perfromanceDf = pd.DataFrame(data, columns=[\"Label\", \"Accuracy\", \"F1\", \"MCC\", \"ROC\"])\n",
    "perfromanceDf"
   ]
  }
 ],
 "metadata": {
  "kernelspec": {
   "display_name": "Python 3 (ipykernel)",
   "language": "python",
   "name": "python3"
  },
  "language_info": {
   "codemirror_mode": {
    "name": "ipython",
    "version": 3
   },
   "file_extension": ".py",
   "mimetype": "text/x-python",
   "name": "python",
   "nbconvert_exporter": "python",
   "pygments_lexer": "ipython3",
   "version": "3.9.1"
  }
 },
 "nbformat": 4,
 "nbformat_minor": 5
}
