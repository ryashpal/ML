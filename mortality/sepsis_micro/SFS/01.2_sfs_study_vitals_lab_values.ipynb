{
 "cells": [
  {
   "cell_type": "markdown",
   "id": "e04c0899-6d9d-4611-baf9-73244f58dadc",
   "metadata": {},
   "source": [
    "# Vitals and lab values SFS study"
   ]
  },
  {
   "cell_type": "markdown",
   "id": "16495e39-a6fa-4525-8cee-301c74c5fa60",
   "metadata": {},
   "source": [
    "## Read data"
   ]
  },
  {
   "cell_type": "code",
   "execution_count": 1,
   "id": "9fca9af1-1d54-4afd-9f2e-3a1a9fb52b14",
   "metadata": {},
   "outputs": [
    {
     "data": {
      "text/html": [
       "<div>\n",
       "<style scoped>\n",
       "    .dataframe tbody tr th:only-of-type {\n",
       "        vertical-align: middle;\n",
       "    }\n",
       "\n",
       "    .dataframe tbody tr th {\n",
       "        vertical-align: top;\n",
       "    }\n",
       "\n",
       "    .dataframe thead th {\n",
       "        text-align: right;\n",
       "    }\n",
       "</style>\n",
       "<table border=\"1\" class=\"dataframe\">\n",
       "  <thead>\n",
       "    <tr style=\"text-align: right;\">\n",
       "      <th></th>\n",
       "      <th>micro_specimen_id</th>\n",
       "      <th>person_id</th>\n",
       "      <th>seven_day_mortality</th>\n",
       "      <th>fourteen_day_mortality</th>\n",
       "      <th>twentyone_day_mortality</th>\n",
       "      <th>twentyeight_day_mortality</th>\n",
       "      <th>sixty_day_mortality</th>\n",
       "      <th>ninety_day_mortality</th>\n",
       "      <th>onetwenty_day_mortality</th>\n",
       "      <th>Ambulatory Clinic / Center</th>\n",
       "      <th>...</th>\n",
       "      <th>hemoglobin_first</th>\n",
       "      <th>creatinine_first</th>\n",
       "      <th>potassium_last</th>\n",
       "      <th>chloride_last</th>\n",
       "      <th>glucose_last</th>\n",
       "      <th>sodium_last</th>\n",
       "      <th>bicarbonate_last</th>\n",
       "      <th>hemoglobin_last</th>\n",
       "      <th>creatinine_last</th>\n",
       "      <th>time_to_antibiotic</th>\n",
       "    </tr>\n",
       "  </thead>\n",
       "  <tbody>\n",
       "    <tr>\n",
       "      <th>0</th>\n",
       "      <td>2940</td>\n",
       "      <td>-470494077</td>\n",
       "      <td>0</td>\n",
       "      <td>0</td>\n",
       "      <td>0</td>\n",
       "      <td>1</td>\n",
       "      <td>1</td>\n",
       "      <td>1</td>\n",
       "      <td>1</td>\n",
       "      <td>0</td>\n",
       "      <td>...</td>\n",
       "      <td>-0.586379</td>\n",
       "      <td>2.441041</td>\n",
       "      <td>-0.053360</td>\n",
       "      <td>-0.804726</td>\n",
       "      <td>0.726778</td>\n",
       "      <td>-0.800329</td>\n",
       "      <td>0.048541</td>\n",
       "      <td>-0.857543</td>\n",
       "      <td>-0.077536</td>\n",
       "      <td>0.018778</td>\n",
       "    </tr>\n",
       "    <tr>\n",
       "      <th>1</th>\n",
       "      <td>3236</td>\n",
       "      <td>-762840899</td>\n",
       "      <td>0</td>\n",
       "      <td>1</td>\n",
       "      <td>1</td>\n",
       "      <td>1</td>\n",
       "      <td>1</td>\n",
       "      <td>1</td>\n",
       "      <td>1</td>\n",
       "      <td>0</td>\n",
       "      <td>...</td>\n",
       "      <td>-0.942367</td>\n",
       "      <td>-0.066982</td>\n",
       "      <td>1.677597</td>\n",
       "      <td>-1.840315</td>\n",
       "      <td>0.615396</td>\n",
       "      <td>-1.745000</td>\n",
       "      <td>0.621905</td>\n",
       "      <td>-1.037712</td>\n",
       "      <td>0.988716</td>\n",
       "      <td>0.018778</td>\n",
       "    </tr>\n",
       "    <tr>\n",
       "      <th>2</th>\n",
       "      <td>3720</td>\n",
       "      <td>-1481508426</td>\n",
       "      <td>0</td>\n",
       "      <td>0</td>\n",
       "      <td>0</td>\n",
       "      <td>0</td>\n",
       "      <td>0</td>\n",
       "      <td>0</td>\n",
       "      <td>0</td>\n",
       "      <td>0</td>\n",
       "      <td>...</td>\n",
       "      <td>-0.535524</td>\n",
       "      <td>-0.345652</td>\n",
       "      <td>-1.438125</td>\n",
       "      <td>-1.692373</td>\n",
       "      <td>1.376502</td>\n",
       "      <td>-0.989263</td>\n",
       "      <td>1.004149</td>\n",
       "      <td>-0.377094</td>\n",
       "      <td>-0.290787</td>\n",
       "      <td>0.022081</td>\n",
       "    </tr>\n",
       "    <tr>\n",
       "      <th>3</th>\n",
       "      <td>5214</td>\n",
       "      <td>2090709572</td>\n",
       "      <td>0</td>\n",
       "      <td>0</td>\n",
       "      <td>0</td>\n",
       "      <td>0</td>\n",
       "      <td>0</td>\n",
       "      <td>0</td>\n",
       "      <td>0</td>\n",
       "      <td>0</td>\n",
       "      <td>...</td>\n",
       "      <td>-0.789801</td>\n",
       "      <td>-0.554654</td>\n",
       "      <td>0.292832</td>\n",
       "      <td>-0.508844</td>\n",
       "      <td>-0.164272</td>\n",
       "      <td>-1.745000</td>\n",
       "      <td>-1.098189</td>\n",
       "      <td>-0.677375</td>\n",
       "      <td>-0.504037</td>\n",
       "      <td>-1.107961</td>\n",
       "    </tr>\n",
       "    <tr>\n",
       "      <th>4</th>\n",
       "      <td>10611</td>\n",
       "      <td>-961491032</td>\n",
       "      <td>0</td>\n",
       "      <td>0</td>\n",
       "      <td>0</td>\n",
       "      <td>0</td>\n",
       "      <td>0</td>\n",
       "      <td>0</td>\n",
       "      <td>0</td>\n",
       "      <td>0</td>\n",
       "      <td>...</td>\n",
       "      <td>1.091850</td>\n",
       "      <td>-0.763656</td>\n",
       "      <td>-0.399551</td>\n",
       "      <td>1.414391</td>\n",
       "      <td>0.763905</td>\n",
       "      <td>0.333277</td>\n",
       "      <td>-0.333703</td>\n",
       "      <td>0.043300</td>\n",
       "      <td>-0.859455</td>\n",
       "      <td>0.034054</td>\n",
       "    </tr>\n",
       "    <tr>\n",
       "      <th>...</th>\n",
       "      <td>...</td>\n",
       "      <td>...</td>\n",
       "      <td>...</td>\n",
       "      <td>...</td>\n",
       "      <td>...</td>\n",
       "      <td>...</td>\n",
       "      <td>...</td>\n",
       "      <td>...</td>\n",
       "      <td>...</td>\n",
       "      <td>...</td>\n",
       "      <td>...</td>\n",
       "      <td>...</td>\n",
       "      <td>...</td>\n",
       "      <td>...</td>\n",
       "      <td>...</td>\n",
       "      <td>...</td>\n",
       "      <td>...</td>\n",
       "      <td>...</td>\n",
       "      <td>...</td>\n",
       "      <td>...</td>\n",
       "      <td>...</td>\n",
       "    </tr>\n",
       "    <tr>\n",
       "      <th>7097</th>\n",
       "      <td>9986222</td>\n",
       "      <td>-1199717531</td>\n",
       "      <td>0</td>\n",
       "      <td>0</td>\n",
       "      <td>0</td>\n",
       "      <td>0</td>\n",
       "      <td>0</td>\n",
       "      <td>0</td>\n",
       "      <td>0</td>\n",
       "      <td>0</td>\n",
       "      <td>...</td>\n",
       "      <td>1.447838</td>\n",
       "      <td>-0.554654</td>\n",
       "      <td>0.465927</td>\n",
       "      <td>-0.065021</td>\n",
       "      <td>-0.498416</td>\n",
       "      <td>0.900080</td>\n",
       "      <td>2.533121</td>\n",
       "      <td>-0.377094</td>\n",
       "      <td>-0.575121</td>\n",
       "      <td>0.017126</td>\n",
       "    </tr>\n",
       "    <tr>\n",
       "      <th>7098</th>\n",
       "      <td>9989349</td>\n",
       "      <td>-1246337626</td>\n",
       "      <td>0</td>\n",
       "      <td>0</td>\n",
       "      <td>0</td>\n",
       "      <td>0</td>\n",
       "      <td>0</td>\n",
       "      <td>0</td>\n",
       "      <td>0</td>\n",
       "      <td>0</td>\n",
       "      <td>...</td>\n",
       "      <td>1.244416</td>\n",
       "      <td>1.953370</td>\n",
       "      <td>-0.399551</td>\n",
       "      <td>-1.248550</td>\n",
       "      <td>1.357938</td>\n",
       "      <td>-1.745000</td>\n",
       "      <td>-0.715946</td>\n",
       "      <td>0.463693</td>\n",
       "      <td>1.841718</td>\n",
       "      <td>0.031577</td>\n",
       "    </tr>\n",
       "    <tr>\n",
       "      <th>7099</th>\n",
       "      <td>9989996</td>\n",
       "      <td>-1704051650</td>\n",
       "      <td>1</td>\n",
       "      <td>1</td>\n",
       "      <td>1</td>\n",
       "      <td>1</td>\n",
       "      <td>1</td>\n",
       "      <td>1</td>\n",
       "      <td>1</td>\n",
       "      <td>0</td>\n",
       "      <td>...</td>\n",
       "      <td>-1.247500</td>\n",
       "      <td>-0.693988</td>\n",
       "      <td>0.119736</td>\n",
       "      <td>0.082921</td>\n",
       "      <td>-0.758306</td>\n",
       "      <td>-1.178197</td>\n",
       "      <td>-0.907067</td>\n",
       "      <td>-1.337993</td>\n",
       "      <td>-0.646204</td>\n",
       "      <td>0.018778</td>\n",
       "    </tr>\n",
       "    <tr>\n",
       "      <th>7100</th>\n",
       "      <td>9996881</td>\n",
       "      <td>768076701</td>\n",
       "      <td>0</td>\n",
       "      <td>0</td>\n",
       "      <td>1</td>\n",
       "      <td>1</td>\n",
       "      <td>1</td>\n",
       "      <td>1</td>\n",
       "      <td>1</td>\n",
       "      <td>0</td>\n",
       "      <td>...</td>\n",
       "      <td>-0.586379</td>\n",
       "      <td>-0.833323</td>\n",
       "      <td>-0.572647</td>\n",
       "      <td>-0.656785</td>\n",
       "      <td>-0.609797</td>\n",
       "      <td>0.144343</td>\n",
       "      <td>2.150878</td>\n",
       "      <td>-0.437150</td>\n",
       "      <td>-0.788371</td>\n",
       "      <td>0.031990</td>\n",
       "    </tr>\n",
       "    <tr>\n",
       "      <th>7101</th>\n",
       "      <td>9999939</td>\n",
       "      <td>-1316464833</td>\n",
       "      <td>0</td>\n",
       "      <td>0</td>\n",
       "      <td>0</td>\n",
       "      <td>0</td>\n",
       "      <td>0</td>\n",
       "      <td>0</td>\n",
       "      <td>1</td>\n",
       "      <td>0</td>\n",
       "      <td>...</td>\n",
       "      <td>0.685006</td>\n",
       "      <td>0.490356</td>\n",
       "      <td>-0.918838</td>\n",
       "      <td>2.597920</td>\n",
       "      <td>-0.201399</td>\n",
       "      <td>2.978357</td>\n",
       "      <td>-0.142581</td>\n",
       "      <td>0.643862</td>\n",
       "      <td>0.135714</td>\n",
       "      <td>0.022494</td>\n",
       "    </tr>\n",
       "  </tbody>\n",
       "</table>\n",
       "<p>7102 rows × 168 columns</p>\n",
       "</div>"
      ],
      "text/plain": [
       "      micro_specimen_id   person_id  seven_day_mortality  \\\n",
       "0                  2940  -470494077                    0   \n",
       "1                  3236  -762840899                    0   \n",
       "2                  3720 -1481508426                    0   \n",
       "3                  5214  2090709572                    0   \n",
       "4                 10611  -961491032                    0   \n",
       "...                 ...         ...                  ...   \n",
       "7097            9986222 -1199717531                    0   \n",
       "7098            9989349 -1246337626                    0   \n",
       "7099            9989996 -1704051650                    1   \n",
       "7100            9996881   768076701                    0   \n",
       "7101            9999939 -1316464833                    0   \n",
       "\n",
       "      fourteen_day_mortality  twentyone_day_mortality  \\\n",
       "0                          0                        0   \n",
       "1                          1                        1   \n",
       "2                          0                        0   \n",
       "3                          0                        0   \n",
       "4                          0                        0   \n",
       "...                      ...                      ...   \n",
       "7097                       0                        0   \n",
       "7098                       0                        0   \n",
       "7099                       1                        1   \n",
       "7100                       0                        1   \n",
       "7101                       0                        0   \n",
       "\n",
       "      twentyeight_day_mortality  sixty_day_mortality  ninety_day_mortality  \\\n",
       "0                             1                    1                     1   \n",
       "1                             1                    1                     1   \n",
       "2                             0                    0                     0   \n",
       "3                             0                    0                     0   \n",
       "4                             0                    0                     0   \n",
       "...                         ...                  ...                   ...   \n",
       "7097                          0                    0                     0   \n",
       "7098                          0                    0                     0   \n",
       "7099                          1                    1                     1   \n",
       "7100                          1                    1                     1   \n",
       "7101                          0                    0                     0   \n",
       "\n",
       "      onetwenty_day_mortality  Ambulatory Clinic / Center  ...  \\\n",
       "0                           1                           0  ...   \n",
       "1                           1                           0  ...   \n",
       "2                           0                           0  ...   \n",
       "3                           0                           0  ...   \n",
       "4                           0                           0  ...   \n",
       "...                       ...                         ...  ...   \n",
       "7097                        0                           0  ...   \n",
       "7098                        0                           0  ...   \n",
       "7099                        1                           0  ...   \n",
       "7100                        1                           0  ...   \n",
       "7101                        1                           0  ...   \n",
       "\n",
       "      hemoglobin_first  creatinine_first  potassium_last  chloride_last  \\\n",
       "0            -0.586379          2.441041       -0.053360      -0.804726   \n",
       "1            -0.942367         -0.066982        1.677597      -1.840315   \n",
       "2            -0.535524         -0.345652       -1.438125      -1.692373   \n",
       "3            -0.789801         -0.554654        0.292832      -0.508844   \n",
       "4             1.091850         -0.763656       -0.399551       1.414391   \n",
       "...                ...               ...             ...            ...   \n",
       "7097          1.447838         -0.554654        0.465927      -0.065021   \n",
       "7098          1.244416          1.953370       -0.399551      -1.248550   \n",
       "7099         -1.247500         -0.693988        0.119736       0.082921   \n",
       "7100         -0.586379         -0.833323       -0.572647      -0.656785   \n",
       "7101          0.685006          0.490356       -0.918838       2.597920   \n",
       "\n",
       "      glucose_last  sodium_last  bicarbonate_last  hemoglobin_last  \\\n",
       "0         0.726778    -0.800329          0.048541        -0.857543   \n",
       "1         0.615396    -1.745000          0.621905        -1.037712   \n",
       "2         1.376502    -0.989263          1.004149        -0.377094   \n",
       "3        -0.164272    -1.745000         -1.098189        -0.677375   \n",
       "4         0.763905     0.333277         -0.333703         0.043300   \n",
       "...            ...          ...               ...              ...   \n",
       "7097     -0.498416     0.900080          2.533121        -0.377094   \n",
       "7098      1.357938    -1.745000         -0.715946         0.463693   \n",
       "7099     -0.758306    -1.178197         -0.907067        -1.337993   \n",
       "7100     -0.609797     0.144343          2.150878        -0.437150   \n",
       "7101     -0.201399     2.978357         -0.142581         0.643862   \n",
       "\n",
       "      creatinine_last  time_to_antibiotic  \n",
       "0           -0.077536            0.018778  \n",
       "1            0.988716            0.018778  \n",
       "2           -0.290787            0.022081  \n",
       "3           -0.504037           -1.107961  \n",
       "4           -0.859455            0.034054  \n",
       "...               ...                 ...  \n",
       "7097        -0.575121            0.017126  \n",
       "7098         1.841718            0.031577  \n",
       "7099        -0.646204            0.018778  \n",
       "7100        -0.788371            0.031990  \n",
       "7101         0.135714            0.022494  \n",
       "\n",
       "[7102 rows x 168 columns]"
      ]
     },
     "execution_count": 1,
     "metadata": {},
     "output_type": "execute_result"
    }
   ],
   "source": [
    "import pandas as pd\n",
    "import psycopg2\n",
    "\n",
    "# information used to create a database connection\n",
    "sqluser = 'postgres'\n",
    "dbname = 'mimic4'\n",
    "hostname = 'localhost'\n",
    "port_number = 5434\n",
    "schema_name = 'sepsis_micro'\n",
    "\n",
    "# Connect to postgres with a copy of the MIMIC-III database\n",
    "con = psycopg2.connect(dbname=dbname, user=sqluser, host=hostname, port=port_number, password='mysecretpassword')\n",
    "\n",
    "# the below statement is prepended to queries to ensure they select from the right schema\n",
    "query_schema = 'set search_path to ' + schema_name + ';'\n",
    "\n",
    "dataQuery = \"\"\"select * from sepsis_micro.data_matrix_qc_1;\"\"\"\n",
    "dataDf = pd.read_sql_query(dataQuery, con)\n",
    "dataDf"
   ]
  },
  {
   "cell_type": "code",
   "execution_count": 2,
   "id": "e524b9a4-f819-4187-b145-136a45d0f02f",
   "metadata": {},
   "outputs": [],
   "source": [
    "dropCols = [\n",
    "    'micro_specimen_id',\n",
    "    'person_id',\n",
    "    'seven_day_mortality',\n",
    "    'fourteen_day_mortality',\n",
    "    'twentyone_day_mortality',\n",
    "    'twentyeight_day_mortality',\n",
    "    'sixty_day_mortality',\n",
    "    'ninety_day_mortality',\n",
    "    'onetwenty_day_mortality',\n",
    "    'Ambulatory Clinic / Center',\n",
    "    'Ambulatory Surgical Center',\n",
    "    'Emergency Room - Hospital',\n",
    "    'Emergency Room and Inpatient Visit',\n",
    "    'Inpatient Visit',\n",
    "    'Observation Room',\n",
    "    'AMBULATORY OBSERVATION',\n",
    "    'DIRECT EMER.',\n",
    "    'ELECTIVE',\n",
    "    'EU OBSERVATION',\n",
    "    'EW EMER.',\n",
    "    'OBSERVATION ADMIT',\n",
    "    'SURGICAL SAME DAY ADMISSION',\n",
    "    'URGENT',\n",
    "    'AMBULATORY SURGERY TRANSFER',\n",
    "    'CLINIC REFERRAL',\n",
    "    'EMERGENCY ROOM',\n",
    "    'INFORMATION NOT AVAILABLE',\n",
    "    'INTERNAL TRANSFER TO OR FROM PSYCH',\n",
    "    'PACU',\n",
    "    'PHYSICIAN REFERRAL',\n",
    "    'PROCEDURE SITE',\n",
    "    'TRANSFER FROM HOSPITAL',\n",
    "    'TRANSFER FROM SKILLED NURSING FACILITY',\n",
    "    'WALK-IN/SELF REFERRAL',\n",
    "]\n",
    "\n",
    "X = dataDf.drop(dropCols, axis = 1)\n",
    "y_seven_day = dataDf['seven_day_mortality']"
   ]
  },
  {
   "cell_type": "markdown",
   "id": "2ec7e612-5eac-4220-96a3-f54e597cd63f",
   "metadata": {},
   "source": [
    "## Perform SFS"
   ]
  },
  {
   "cell_type": "code",
   "execution_count": 3,
   "id": "f49e7753-ce32-4a5a-800e-f34cce243304",
   "metadata": {},
   "outputs": [
    {
     "name": "stderr",
     "output_type": "stream",
     "text": [
      "\n",
      "STOPPING EARLY DUE TO KEYBOARD INTERRUPT..."
     ]
    },
    {
     "data": {
      "text/plain": [
       "SequentialFeatureSelector(estimator=DecisionTreeClassifier(), floating=True,\n",
       "                          k_features=25, scoring='accuracy')"
      ]
     },
     "execution_count": 3,
     "metadata": {},
     "output_type": "execute_result"
    }
   ],
   "source": [
    "from mlxtend.feature_selection import SequentialFeatureSelector as SFS\n",
    "from sklearn.tree import DecisionTreeClassifier\n",
    "\n",
    "sfs1 = SFS(estimator = DecisionTreeClassifier(),\n",
    "           k_features=25,\n",
    "           forward=True,\n",
    "           floating=True,\n",
    "           scoring='accuracy',\n",
    "           cv=5)\n",
    "\n",
    "sfs1.fit(X, y_seven_day)"
   ]
  },
  {
   "cell_type": "code",
   "execution_count": 4,
   "id": "86cc733b-617c-42eb-82f7-90df0c15bc67",
   "metadata": {},
   "outputs": [],
   "source": [
    "labels = []\n",
    "cv_scores = []\n",
    "for key, value in sfs1.subsets_.items():\n",
    "    labels.append(key)\n",
    "    cv_scores.append(value['cv_scores'])"
   ]
  },
  {
   "cell_type": "code",
   "execution_count": 5,
   "id": "4d5d21a5-e022-4427-8b91-f0733ff17049",
   "metadata": {},
   "outputs": [
    {
     "data": {
      "text/plain": [
       "[Text(0, 0.5, 'Model Accuracy')]"
      ]
     },
     "execution_count": 5,
     "metadata": {},
     "output_type": "execute_result"
    },
    {
     "data": {
      "image/png": "[encoded data removed]",
      "text/plain": [
       "<Figure size 1080x576 with 1 Axes>"
      ]
     },
     "metadata": {
      "needs_background": "light"
     },
     "output_type": "display_data"
    }
   ],
   "source": [
    "import matplotlib.pyplot as plt\n",
    "import seaborn as sns\n",
    "\n",
    "plt.figure(figsize=(15,8))\n",
    "ax = sns.boxplot(data=cv_scores)\n",
    "ax.set(xticklabels=labels)\n",
    "ax.set(xlabel='Feature Size')\n",
    "ax.set(ylabel='Model Accuracy')"
   ]
  },
  {
   "cell_type": "code",
   "execution_count": 3,
   "id": "9549138f-f44a-4ca5-a325-3cd907e6b15b",
   "metadata": {},
   "outputs": [
    {
     "data": {
      "text/plain": [
       "SequentialFeatureSelector(estimator=DecisionTreeClassifier(),\n",
       "                          n_features_to_select=25)"
      ]
     },
     "execution_count": 3,
     "metadata": {},
     "output_type": "execute_result"
    }
   ],
   "source": [
    "from sklearn.feature_selection import SequentialFeatureSelector\n",
    "from sklearn.tree import DecisionTreeClassifier\n",
    "\n",
    "sfs = SequentialFeatureSelector(estimator = DecisionTreeClassifier(), n_features_to_select=25)\n",
    "sfs.fit(X, y_seven_day)"
   ]
  },
  {
   "cell_type": "code",
   "execution_count": 4,
   "id": "b8c1d417-27b2-4003-8137-715c62794d32",
   "metadata": {},
   "outputs": [
    {
     "data": {
      "text/plain": [
       "array(['visit_duration_hrs', 'heartrate_max', 'resp_rate_max',\n",
       "       'oxygen_max', 'gcs_motor_max', 'gcs_verbal_max',\n",
       "       'breath_rate_spon_min', 'gcs_motor_min', 'gcs_eye_min',\n",
       "       'sysbp_ni_avg', 'meanbp_ni_avg', 'gcs_eye_first', 'gcs_motor_last',\n",
       "       'gcs_eye_last', 'potassium_max', 'chloride_max', 'sodium_max',\n",
       "       'hemoglobin_max', 'creatinine_min', 'chloride_avg',\n",
       "       'hemoglobin_avg', 'creatinine_avg', 'chloride_sd',\n",
       "       'chloride_first', 'sodium_first'], dtype=object)"
      ]
     },
     "execution_count": 4,
     "metadata": {},
     "output_type": "execute_result"
    }
   ],
   "source": [
    "sfs.get_feature_names_out()"
   ]
  },
  {
   "cell_type": "markdown",
   "id": "1c1dd698-d1f3-44a4-bb4d-eba705be4da2",
   "metadata": {},
   "source": [
    "## Obtained selected feature set"
   ]
  },
  {
   "cell_type": "code",
   "execution_count": 5,
   "id": "f404c001-757f-43a4-bd7b-d55267aba962",
   "metadata": {},
   "outputs": [],
   "source": [
    "X_min = X[sfs.get_feature_names_out()]"
   ]
  },
  {
   "cell_type": "code",
   "execution_count": 6,
   "id": "f3ff787e-561d-45e5-9e5d-f032bd9283b8",
   "metadata": {},
   "outputs": [
    {
     "data": {
      "text/html": [
       "<div>\n",
       "<style scoped>\n",
       "    .dataframe tbody tr th:only-of-type {\n",
       "        vertical-align: middle;\n",
       "    }\n",
       "\n",
       "    .dataframe tbody tr th {\n",
       "        vertical-align: top;\n",
       "    }\n",
       "\n",
       "    .dataframe thead th {\n",
       "        text-align: right;\n",
       "    }\n",
       "</style>\n",
       "<table border=\"1\" class=\"dataframe\">\n",
       "  <thead>\n",
       "    <tr style=\"text-align: right;\">\n",
       "      <th></th>\n",
       "      <th>visit_duration_hrs</th>\n",
       "      <th>heartrate_max</th>\n",
       "      <th>resp_rate_max</th>\n",
       "      <th>oxygen_max</th>\n",
       "      <th>gcs_motor_max</th>\n",
       "      <th>gcs_verbal_max</th>\n",
       "      <th>breath_rate_spon_min</th>\n",
       "      <th>gcs_motor_min</th>\n",
       "      <th>gcs_eye_min</th>\n",
       "      <th>sysbp_ni_avg</th>\n",
       "      <th>...</th>\n",
       "      <th>chloride_max</th>\n",
       "      <th>sodium_max</th>\n",
       "      <th>hemoglobin_max</th>\n",
       "      <th>creatinine_min</th>\n",
       "      <th>chloride_avg</th>\n",
       "      <th>hemoglobin_avg</th>\n",
       "      <th>creatinine_avg</th>\n",
       "      <th>chloride_sd</th>\n",
       "      <th>chloride_first</th>\n",
       "      <th>sodium_first</th>\n",
       "    </tr>\n",
       "  </thead>\n",
       "  <tbody>\n",
       "    <tr>\n",
       "      <th>0</th>\n",
       "      <td>0.269967</td>\n",
       "      <td>-1.142471</td>\n",
       "      <td>1.042698</td>\n",
       "      <td>0.391121</td>\n",
       "      <td>0.313923</td>\n",
       "      <td>-1.826353</td>\n",
       "      <td>-0.385095</td>\n",
       "      <td>-0.167166</td>\n",
       "      <td>-0.502242</td>\n",
       "      <td>-0.364828</td>\n",
       "      <td>...</td>\n",
       "      <td>-0.790523</td>\n",
       "      <td>-0.672315</td>\n",
       "      <td>-0.758013</td>\n",
       "      <td>-0.197981</td>\n",
       "      <td>-0.999905</td>\n",
       "      <td>-0.758874</td>\n",
       "      <td>0.283932</td>\n",
       "      <td>-0.023122</td>\n",
       "      <td>-1.550820</td>\n",
       "      <td>-0.833471</td>\n",
       "    </tr>\n",
       "    <tr>\n",
       "      <th>1</th>\n",
       "      <td>1.583718</td>\n",
       "      <td>-1.290038</td>\n",
       "      <td>0.322355</td>\n",
       "      <td>0.391121</td>\n",
       "      <td>0.313923</td>\n",
       "      <td>0.621085</td>\n",
       "      <td>-0.385095</td>\n",
       "      <td>-0.167166</td>\n",
       "      <td>-0.502242</td>\n",
       "      <td>-1.066337</td>\n",
       "      <td>...</td>\n",
       "      <td>-1.520716</td>\n",
       "      <td>-1.038764</td>\n",
       "      <td>-1.386046</td>\n",
       "      <td>0.242998</td>\n",
       "      <td>-1.558435</td>\n",
       "      <td>-1.153853</td>\n",
       "      <td>0.586553</td>\n",
       "      <td>-0.192698</td>\n",
       "      <td>-0.988574</td>\n",
       "      <td>-0.477121</td>\n",
       "    </tr>\n",
       "    <tr>\n",
       "      <th>2</th>\n",
       "      <td>-0.464013</td>\n",
       "      <td>0.087254</td>\n",
       "      <td>-0.037816</td>\n",
       "      <td>0.391121</td>\n",
       "      <td>0.313923</td>\n",
       "      <td>0.621085</td>\n",
       "      <td>-0.256666</td>\n",
       "      <td>0.795109</td>\n",
       "      <td>1.126579</td>\n",
       "      <td>-0.857632</td>\n",
       "      <td>...</td>\n",
       "      <td>-2.104871</td>\n",
       "      <td>-1.405213</td>\n",
       "      <td>-0.929295</td>\n",
       "      <td>-0.109785</td>\n",
       "      <td>-2.029695</td>\n",
       "      <td>-0.495555</td>\n",
       "      <td>-0.335550</td>\n",
       "      <td>-0.277739</td>\n",
       "      <td>-1.972504</td>\n",
       "      <td>-1.367996</td>\n",
       "    </tr>\n",
       "    <tr>\n",
       "      <th>3</th>\n",
       "      <td>-0.340886</td>\n",
       "      <td>-0.060313</td>\n",
       "      <td>-1.298416</td>\n",
       "      <td>-1.795899</td>\n",
       "      <td>0.313923</td>\n",
       "      <td>0.621085</td>\n",
       "      <td>-0.335475</td>\n",
       "      <td>0.795109</td>\n",
       "      <td>1.126579</td>\n",
       "      <td>-0.352788</td>\n",
       "      <td>...</td>\n",
       "      <td>-0.936561</td>\n",
       "      <td>-2.138111</td>\n",
       "      <td>-1.214764</td>\n",
       "      <td>-0.374373</td>\n",
       "      <td>-0.537372</td>\n",
       "      <td>-0.799385</td>\n",
       "      <td>-0.559846</td>\n",
       "      <td>-1.104911</td>\n",
       "      <td>-0.426328</td>\n",
       "      <td>-1.546171</td>\n",
       "    </tr>\n",
       "    <tr>\n",
       "      <th>4</th>\n",
       "      <td>1.019486</td>\n",
       "      <td>0.923466</td>\n",
       "      <td>-0.758159</td>\n",
       "      <td>0.391121</td>\n",
       "      <td>0.313923</td>\n",
       "      <td>0.107123</td>\n",
       "      <td>-0.385095</td>\n",
       "      <td>0.313972</td>\n",
       "      <td>-0.502242</td>\n",
       "      <td>-1.306151</td>\n",
       "      <td>...</td>\n",
       "      <td>1.400059</td>\n",
       "      <td>0.610257</td>\n",
       "      <td>0.897709</td>\n",
       "      <td>-0.815353</td>\n",
       "      <td>1.441920</td>\n",
       "      <td>0.476699</td>\n",
       "      <td>-0.903765</td>\n",
       "      <td>0.793514</td>\n",
       "      <td>0.417041</td>\n",
       "      <td>0.770103</td>\n",
       "    </tr>\n",
       "    <tr>\n",
       "      <th>...</th>\n",
       "      <td>...</td>\n",
       "      <td>...</td>\n",
       "      <td>...</td>\n",
       "      <td>...</td>\n",
       "      <td>...</td>\n",
       "      <td>...</td>\n",
       "      <td>...</td>\n",
       "      <td>...</td>\n",
       "      <td>...</td>\n",
       "      <td>...</td>\n",
       "      <td>...</td>\n",
       "      <td>...</td>\n",
       "      <td>...</td>\n",
       "      <td>...</td>\n",
       "      <td>...</td>\n",
       "      <td>...</td>\n",
       "      <td>...</td>\n",
       "      <td>...</td>\n",
       "      <td>...</td>\n",
       "      <td>...</td>\n",
       "      <td>...</td>\n",
       "    </tr>\n",
       "    <tr>\n",
       "      <th>7097</th>\n",
       "      <td>0.020127</td>\n",
       "      <td>-0.114421</td>\n",
       "      <td>0.439411</td>\n",
       "      <td>0.391121</td>\n",
       "      <td>0.313923</td>\n",
       "      <td>0.021463</td>\n",
       "      <td>-0.385095</td>\n",
       "      <td>0.313972</td>\n",
       "      <td>0.287736</td>\n",
       "      <td>-0.276302</td>\n",
       "      <td>...</td>\n",
       "      <td>0.815904</td>\n",
       "      <td>1.526379</td>\n",
       "      <td>1.297367</td>\n",
       "      <td>-0.638961</td>\n",
       "      <td>0.741762</td>\n",
       "      <td>0.971507</td>\n",
       "      <td>-0.677334</td>\n",
       "      <td>0.282418</td>\n",
       "      <td>0.557602</td>\n",
       "      <td>0.770103</td>\n",
       "    </tr>\n",
       "    <tr>\n",
       "      <th>7098</th>\n",
       "      <td>-0.333714</td>\n",
       "      <td>-1.290038</td>\n",
       "      <td>-1.298416</td>\n",
       "      <td>0.391121</td>\n",
       "      <td>0.313923</td>\n",
       "      <td>0.621085</td>\n",
       "      <td>-0.385095</td>\n",
       "      <td>0.795109</td>\n",
       "      <td>0.312169</td>\n",
       "      <td>0.136490</td>\n",
       "      <td>...</td>\n",
       "      <td>-0.936561</td>\n",
       "      <td>-1.038764</td>\n",
       "      <td>1.068991</td>\n",
       "      <td>1.742329</td>\n",
       "      <td>-1.008632</td>\n",
       "      <td>0.922316</td>\n",
       "      <td>1.757873</td>\n",
       "      <td>0.047799</td>\n",
       "      <td>-0.988574</td>\n",
       "      <td>-0.477121</td>\n",
       "    </tr>\n",
       "    <tr>\n",
       "      <th>7099</th>\n",
       "      <td>-0.432932</td>\n",
       "      <td>0.677521</td>\n",
       "      <td>-0.578073</td>\n",
       "      <td>0.391121</td>\n",
       "      <td>0.313923</td>\n",
       "      <td>0.009226</td>\n",
       "      <td>-0.364663</td>\n",
       "      <td>0.795109</td>\n",
       "      <td>1.126579</td>\n",
       "      <td>-0.221672</td>\n",
       "      <td>...</td>\n",
       "      <td>-0.352406</td>\n",
       "      <td>-1.588437</td>\n",
       "      <td>-1.728609</td>\n",
       "      <td>-0.550765</td>\n",
       "      <td>0.090975</td>\n",
       "      <td>-1.407044</td>\n",
       "      <td>-0.709376</td>\n",
       "      <td>-1.594535</td>\n",
       "      <td>0.135918</td>\n",
       "      <td>-1.011646</td>\n",
       "    </tr>\n",
       "    <tr>\n",
       "      <th>7100</th>\n",
       "      <td>0.483944</td>\n",
       "      <td>0.038065</td>\n",
       "      <td>-0.037816</td>\n",
       "      <td>0.391121</td>\n",
       "      <td>0.313923</td>\n",
       "      <td>0.621085</td>\n",
       "      <td>3.263453</td>\n",
       "      <td>0.313972</td>\n",
       "      <td>-1.316652</td>\n",
       "      <td>-0.506529</td>\n",
       "      <td>...</td>\n",
       "      <td>-0.206368</td>\n",
       "      <td>1.526379</td>\n",
       "      <td>-0.929295</td>\n",
       "      <td>-0.903549</td>\n",
       "      <td>-0.615915</td>\n",
       "      <td>-0.747300</td>\n",
       "      <td>-0.896289</td>\n",
       "      <td>1.018073</td>\n",
       "      <td>-0.848013</td>\n",
       "      <td>0.413753</td>\n",
       "    </tr>\n",
       "    <tr>\n",
       "      <th>7101</th>\n",
       "      <td>2.309329</td>\n",
       "      <td>0.234821</td>\n",
       "      <td>0.502441</td>\n",
       "      <td>0.391121</td>\n",
       "      <td>-1.693623</td>\n",
       "      <td>-1.826353</td>\n",
       "      <td>2.533743</td>\n",
       "      <td>-1.610577</td>\n",
       "      <td>-1.316652</td>\n",
       "      <td>0.886394</td>\n",
       "      <td>...</td>\n",
       "      <td>2.422330</td>\n",
       "      <td>2.992175</td>\n",
       "      <td>0.954803</td>\n",
       "      <td>0.419390</td>\n",
       "      <td>2.709086</td>\n",
       "      <td>0.731916</td>\n",
       "      <td>0.324875</td>\n",
       "      <td>0.579546</td>\n",
       "      <td>1.541532</td>\n",
       "      <td>1.660978</td>\n",
       "    </tr>\n",
       "  </tbody>\n",
       "</table>\n",
       "<p>7102 rows × 25 columns</p>\n",
       "</div>"
      ],
      "text/plain": [
       "      visit_duration_hrs  heartrate_max  resp_rate_max  oxygen_max  \\\n",
       "0               0.269967      -1.142471       1.042698    0.391121   \n",
       "1               1.583718      -1.290038       0.322355    0.391121   \n",
       "2              -0.464013       0.087254      -0.037816    0.391121   \n",
       "3              -0.340886      -0.060313      -1.298416   -1.795899   \n",
       "4               1.019486       0.923466      -0.758159    0.391121   \n",
       "...                  ...            ...            ...         ...   \n",
       "7097            0.020127      -0.114421       0.439411    0.391121   \n",
       "7098           -0.333714      -1.290038      -1.298416    0.391121   \n",
       "7099           -0.432932       0.677521      -0.578073    0.391121   \n",
       "7100            0.483944       0.038065      -0.037816    0.391121   \n",
       "7101            2.309329       0.234821       0.502441    0.391121   \n",
       "\n",
       "      gcs_motor_max  gcs_verbal_max  breath_rate_spon_min  gcs_motor_min  \\\n",
       "0          0.313923       -1.826353             -0.385095      -0.167166   \n",
       "1          0.313923        0.621085             -0.385095      -0.167166   \n",
       "2          0.313923        0.621085             -0.256666       0.795109   \n",
       "3          0.313923        0.621085             -0.335475       0.795109   \n",
       "4          0.313923        0.107123             -0.385095       0.313972   \n",
       "...             ...             ...                   ...            ...   \n",
       "7097       0.313923        0.021463             -0.385095       0.313972   \n",
       "7098       0.313923        0.621085             -0.385095       0.795109   \n",
       "7099       0.313923        0.009226             -0.364663       0.795109   \n",
       "7100       0.313923        0.621085              3.263453       0.313972   \n",
       "7101      -1.693623       -1.826353              2.533743      -1.610577   \n",
       "\n",
       "      gcs_eye_min  sysbp_ni_avg  ...  chloride_max  sodium_max  \\\n",
       "0       -0.502242     -0.364828  ...     -0.790523   -0.672315   \n",
       "1       -0.502242     -1.066337  ...     -1.520716   -1.038764   \n",
       "2        1.126579     -0.857632  ...     -2.104871   -1.405213   \n",
       "3        1.126579     -0.352788  ...     -0.936561   -2.138111   \n",
       "4       -0.502242     -1.306151  ...      1.400059    0.610257   \n",
       "...           ...           ...  ...           ...         ...   \n",
       "7097     0.287736     -0.276302  ...      0.815904    1.526379   \n",
       "7098     0.312169      0.136490  ...     -0.936561   -1.038764   \n",
       "7099     1.126579     -0.221672  ...     -0.352406   -1.588437   \n",
       "7100    -1.316652     -0.506529  ...     -0.206368    1.526379   \n",
       "7101    -1.316652      0.886394  ...      2.422330    2.992175   \n",
       "\n",
       "      hemoglobin_max  creatinine_min  chloride_avg  hemoglobin_avg  \\\n",
       "0          -0.758013       -0.197981     -0.999905       -0.758874   \n",
       "1          -1.386046        0.242998     -1.558435       -1.153853   \n",
       "2          -0.929295       -0.109785     -2.029695       -0.495555   \n",
       "3          -1.214764       -0.374373     -0.537372       -0.799385   \n",
       "4           0.897709       -0.815353      1.441920        0.476699   \n",
       "...              ...             ...           ...             ...   \n",
       "7097        1.297367       -0.638961      0.741762        0.971507   \n",
       "7098        1.068991        1.742329     -1.008632        0.922316   \n",
       "7099       -1.728609       -0.550765      0.090975       -1.407044   \n",
       "7100       -0.929295       -0.903549     -0.615915       -0.747300   \n",
       "7101        0.954803        0.419390      2.709086        0.731916   \n",
       "\n",
       "      creatinine_avg  chloride_sd  chloride_first  sodium_first  \n",
       "0           0.283932    -0.023122       -1.550820     -0.833471  \n",
       "1           0.586553    -0.192698       -0.988574     -0.477121  \n",
       "2          -0.335550    -0.277739       -1.972504     -1.367996  \n",
       "3          -0.559846    -1.104911       -0.426328     -1.546171  \n",
       "4          -0.903765     0.793514        0.417041      0.770103  \n",
       "...              ...          ...             ...           ...  \n",
       "7097       -0.677334     0.282418        0.557602      0.770103  \n",
       "7098        1.757873     0.047799       -0.988574     -0.477121  \n",
       "7099       -0.709376    -1.594535        0.135918     -1.011646  \n",
       "7100       -0.896289     1.018073       -0.848013      0.413753  \n",
       "7101        0.324875     0.579546        1.541532      1.660978  \n",
       "\n",
       "[7102 rows x 25 columns]"
      ]
     },
     "execution_count": 6,
     "metadata": {},
     "output_type": "execute_result"
    }
   ],
   "source": [
    "X_min"
   ]
  },
  {
   "cell_type": "code",
   "execution_count": 7,
   "id": "f47e03b3-f940-412f-b34b-04b7285f0906",
   "metadata": {},
   "outputs": [],
   "source": [
    "from sklearn.model_selection import train_test_split\n",
    "\n",
    "X_train, X_test, X_min_train, X_min_test, y_seven_day_train, y_seven_day_test = train_test_split(X, X_min, y_seven_day, test_size=0.2, random_state=42)"
   ]
  },
  {
   "cell_type": "code",
   "execution_count": 8,
   "id": "9c8cf628-9425-4e60-8e76-8e7b4585a427",
   "metadata": {},
   "outputs": [
    {
     "data": {
      "text/plain": [
       "((5681, 134), (1421, 134))"
      ]
     },
     "execution_count": 8,
     "metadata": {},
     "output_type": "execute_result"
    }
   ],
   "source": [
    "X_train.shape, X_test.shape"
   ]
  },
  {
   "cell_type": "code",
   "execution_count": 9,
   "id": "fb8bc36f-822b-483b-9bcf-e7860fb067c5",
   "metadata": {},
   "outputs": [
    {
     "data": {
      "text/plain": [
       "((5681, 25), (1421, 25))"
      ]
     },
     "execution_count": 9,
     "metadata": {},
     "output_type": "execute_result"
    }
   ],
   "source": [
    "X_min_train.shape, X_min_test.shape"
   ]
  },
  {
   "cell_type": "code",
   "execution_count": 10,
   "id": "c84f5193-69fd-46a6-bcc8-ac89aa8b3ddc",
   "metadata": {},
   "outputs": [
    {
     "data": {
      "text/plain": [
       "((5681,), (1421,))"
      ]
     },
     "execution_count": 10,
     "metadata": {},
     "output_type": "execute_result"
    }
   ],
   "source": [
    "y_seven_day_train.shape, y_seven_day_test.shape"
   ]
  },
  {
   "cell_type": "markdown",
   "id": "81b5c10b-3d46-4288-b667-3960002a49a9",
   "metadata": {},
   "source": [
    "## Function to plot confusion matrix"
   ]
  },
  {
   "cell_type": "code",
   "execution_count": 11,
   "id": "635db469-6042-4fbe-b5f3-2794d2cafa3b",
   "metadata": {},
   "outputs": [],
   "source": [
    "import numpy as np\n",
    "import pandas as pd\n",
    "import matplotlib.pyplot as plt\n",
    "import seaborn as sns\n",
    "from sklearn.metrics import confusion_matrix\n",
    "\n",
    "def cm_analysis(y_true, y_pred, labels, ymap=None, figsize=(10,10), title='Confusion Matrix for the classifier'):\n",
    "    \"\"\"\n",
    "    Generate matrix plot of confusion matrix with pretty annotations.\n",
    "    The plot image is saved to disk.\n",
    "    args: \n",
    "      y_true:    true label of the data, with shape (nsamples,)\n",
    "      y_pred:    prediction of the data, with shape (nsamples,)\n",
    "      filename:  filename of figure file to save\n",
    "      labels:    string array, name the order of class labels in the confusion matrix.\n",
    "                 use `clf.classes_` if using scikit-learn models.\n",
    "                 with shape (nclass,).\n",
    "      ymap:      dict: any -> string, length == nclass.\n",
    "                 if not None, map the labels & ys to more understandable strings.\n",
    "                 Caution: original y_true, y_pred and labels must align.\n",
    "      figsize:   the size of the figure plotted.\n",
    "    \"\"\"\n",
    "    if ymap is not None:\n",
    "        y_pred = [ymap[yi] for yi in y_pred]\n",
    "        y_true = [ymap[yi] for yi in y_true]\n",
    "        labels = [ymap[yi] for yi in labels]\n",
    "    cm = confusion_matrix(y_true, y_pred, labels=labels)\n",
    "    cm_sum = np.sum(cm, axis=1, keepdims=True)\n",
    "    cm_perc = cm / cm_sum.astype(float) * 100\n",
    "    annot = np.empty_like(cm).astype(str)\n",
    "    nrows, ncols = cm.shape\n",
    "    for i in range(nrows):\n",
    "        for j in range(ncols):\n",
    "            c = cm[i, j]\n",
    "            p = cm_perc[i, j]\n",
    "            if i == j:\n",
    "                s = cm_sum[i]\n",
    "                annot[i, j] = '%.1f%%\\n%d/%d' % (p, c, s)\n",
    "            elif c == 0:\n",
    "                annot[i, j] = ''\n",
    "            else:\n",
    "                annot[i, j] = '%.1f%%\\n%d' % (p, c)\n",
    "    cm = pd.DataFrame(cm, index=labels, columns=labels)\n",
    "    cm.index.name = 'Actual'\n",
    "    cm.columns.name = 'Predicted'\n",
    "    fig, ax = plt.subplots(figsize=figsize)\n",
    "    sns.heatmap(cm, annot=annot, fmt='', ax=ax)\n",
    "    #plt.savefig(filename)\n",
    "    plt.title(title)\n",
    "    plt.show()"
   ]
  },
  {
   "cell_type": "markdown",
   "id": "1608c406-5ab3-4aa1-9c3c-18a41868abef",
   "metadata": {},
   "source": [
    "## Function to calculate MCCF1 metric"
   ]
  },
  {
   "cell_type": "code",
   "execution_count": 77,
   "id": "03e08341-8c81-4f18-9b9e-1622e714ab62",
   "metadata": {},
   "outputs": [],
   "source": [
    "import sys\n",
    "import os\n",
    "\n",
    "from sklearn.metrics import make_scorer\n",
    "\n",
    "import rpy2.robjects as robjects\n",
    "from rpy2.robjects.packages import importr\n",
    "\n",
    "# import R's \"base\" package\n",
    "mccf1 = importr('mccf1')\n",
    "\n",
    "\n",
    "def calculateMccF1(x, y):\n",
    "    old_stdout = sys.stdout # backup current stdout\n",
    "    sys.stdout = open(os.devnull, \"w\")\n",
    "    p = robjects.FloatVector(x)\n",
    "    t = robjects.FloatVector(y)\n",
    "    calculateMccf1 = robjects.r['mccf1']\n",
    "    summary = robjects.r['summary']\n",
    "    out = summary(calculateMccf1(t, p), 50)[0][0]\n",
    "    sys.stdout = old_stdout # reset old stdout\n",
    "    return out"
   ]
  },
  {
   "cell_type": "markdown",
   "id": "cdcb00d1-b65d-4b7d-b1bd-aeaa6e26f52c",
   "metadata": {},
   "source": [
    "## XGBoost classifier"
   ]
  },
  {
   "cell_type": "code",
   "execution_count": 15,
   "id": "fe5c24c0-66a2-43c6-91b1-0e5ad9ca4844",
   "metadata": {},
   "outputs": [],
   "source": [
    "from xgboost import XGBClassifier\n",
    "from matplotlib import pyplot as plt"
   ]
  },
  {
   "cell_type": "markdown",
   "id": "9faa3aa6-696c-4420-9e2f-07aea582f6ad",
   "metadata": {},
   "source": [
    "### Hyperparameter optimisation"
   ]
  },
  {
   "cell_type": "code",
   "execution_count": 16,
   "id": "630f7086-35f3-47cb-8dc4-237ee57e0d57",
   "metadata": {},
   "outputs": [
    {
     "name": "stdout",
     "output_type": "stream",
     "text": [
      "[22:31:01] WARNING: ../src/learner.cc:1115: Starting in XGBoost 1.3.0, the default evaluation metric used with the objective 'binary:logistic' was changed from 'error' to 'logloss'. Explicitly set eval_metric if you'd like to restore the old behavior.\n",
      "[22:31:02] WARNING: ../src/learner.cc:1115: Starting in XGBoost 1.3.0, the default evaluation metric used with the objective 'binary:logistic' was changed from 'error' to 'logloss'. Explicitly set eval_metric if you'd like to restore the old behavior.\n",
      "[22:31:02] WARNING: ../src/learner.cc:1115: Starting in XGBoost 1.3.0, the default evaluation metric used with the objective 'binary:logistic' was changed from 'error' to 'logloss'. Explicitly set eval_metric if you'd like to restore the old behavior.\n",
      "[22:31:03] WARNING: ../src/learner.cc:1115: Starting in XGBoost 1.3.0, the default evaluation metric used with the objective 'binary:logistic' was changed from 'error' to 'logloss'. Explicitly set eval_metric if you'd like to restore the old behavior.\n",
      "[22:31:04] WARNING: ../src/learner.cc:1115: Starting in XGBoost 1.3.0, the default evaluation metric used with the objective 'binary:logistic' was changed from 'error' to 'logloss'. Explicitly set eval_metric if you'd like to restore the old behavior.\n",
      "[22:31:04] WARNING: ../src/learner.cc:1115: Starting in XGBoost 1.3.0, the default evaluation metric used with the objective 'binary:logistic' was changed from 'error' to 'logloss'. Explicitly set eval_metric if you'd like to restore the old behavior.\n",
      "[22:31:05] WARNING: ../src/learner.cc:1115: Starting in XGBoost 1.3.0, the default evaluation metric used with the objective 'binary:logistic' was changed from 'error' to 'logloss'. Explicitly set eval_metric if you'd like to restore the old behavior.\n",
      "[22:31:06] WARNING: ../src/learner.cc:1115: Starting in XGBoost 1.3.0, the default evaluation metric used with the objective 'binary:logistic' was changed from 'error' to 'logloss'. Explicitly set eval_metric if you'd like to restore the old behavior.\n",
      "[22:31:07] WARNING: ../src/learner.cc:1115: Starting in XGBoost 1.3.0, the default evaluation metric used with the objective 'binary:logistic' was changed from 'error' to 'logloss'. Explicitly set eval_metric if you'd like to restore the old behavior.\n",
      "[22:31:08] WARNING: ../src/learner.cc:1115: Starting in XGBoost 1.3.0, the default evaluation metric used with the objective 'binary:logistic' was changed from 'error' to 'logloss'. Explicitly set eval_metric if you'd like to restore the old behavior.\n",
      "[22:31:08] WARNING: ../src/learner.cc:1115: Starting in XGBoost 1.3.0, the default evaluation metric used with the objective 'binary:logistic' was changed from 'error' to 'logloss'. Explicitly set eval_metric if you'd like to restore the old behavior.\n",
      "[22:31:09] WARNING: ../src/learner.cc:1115: Starting in XGBoost 1.3.0, the default evaluation metric used with the objective 'binary:logistic' was changed from 'error' to 'logloss'. Explicitly set eval_metric if you'd like to restore the old behavior.\n",
      "[22:31:10] WARNING: ../src/learner.cc:1115: Starting in XGBoost 1.3.0, the default evaluation metric used with the objective 'binary:logistic' was changed from 'error' to 'logloss'. Explicitly set eval_metric if you'd like to restore the old behavior.\n",
      "[22:31:10] WARNING: ../src/learner.cc:1115: Starting in XGBoost 1.3.0, the default evaluation metric used with the objective 'binary:logistic' was changed from 'error' to 'logloss'. Explicitly set eval_metric if you'd like to restore the old behavior.\n",
      "[22:31:11] WARNING: ../src/learner.cc:1115: Starting in XGBoost 1.3.0, the default evaluation metric used with the objective 'binary:logistic' was changed from 'error' to 'logloss'. Explicitly set eval_metric if you'd like to restore the old behavior.\n",
      "[22:31:12] WARNING: ../src/learner.cc:1115: Starting in XGBoost 1.3.0, the default evaluation metric used with the objective 'binary:logistic' was changed from 'error' to 'logloss'. Explicitly set eval_metric if you'd like to restore the old behavior.\n",
      "[22:31:12] WARNING: ../src/learner.cc:1115: Starting in XGBoost 1.3.0, the default evaluation metric used with the objective 'binary:logistic' was changed from 'error' to 'logloss'. Explicitly set eval_metric if you'd like to restore the old behavior.\n",
      "[22:31:13] WARNING: ../src/learner.cc:1115: Starting in XGBoost 1.3.0, the default evaluation metric used with the objective 'binary:logistic' was changed from 'error' to 'logloss'. Explicitly set eval_metric if you'd like to restore the old behavior.\n",
      "[22:31:14] WARNING: ../src/learner.cc:1115: Starting in XGBoost 1.3.0, the default evaluation metric used with the objective 'binary:logistic' was changed from 'error' to 'logloss'. Explicitly set eval_metric if you'd like to restore the old behavior.\n",
      "[22:31:15] WARNING: ../src/learner.cc:1115: Starting in XGBoost 1.3.0, the default evaluation metric used with the objective 'binary:logistic' was changed from 'error' to 'logloss'. Explicitly set eval_metric if you'd like to restore the old behavior.\n",
      "[22:31:16] WARNING: ../src/learner.cc:1115: Starting in XGBoost 1.3.0, the default evaluation metric used with the objective 'binary:logistic' was changed from 'error' to 'logloss'. Explicitly set eval_metric if you'd like to restore the old behavior.\n",
      "[22:31:16] WARNING: ../src/learner.cc:1115: Starting in XGBoost 1.3.0, the default evaluation metric used with the objective 'binary:logistic' was changed from 'error' to 'logloss'. Explicitly set eval_metric if you'd like to restore the old behavior.\n",
      "[22:31:17] WARNING: ../src/learner.cc:1115: Starting in XGBoost 1.3.0, the default evaluation metric used with the objective 'binary:logistic' was changed from 'error' to 'logloss'. Explicitly set eval_metric if you'd like to restore the old behavior.\n",
      "[22:31:18] WARNING: ../src/learner.cc:1115: Starting in XGBoost 1.3.0, the default evaluation metric used with the objective 'binary:logistic' was changed from 'error' to 'logloss'. Explicitly set eval_metric if you'd like to restore the old behavior.\n",
      "[22:31:18] WARNING: ../src/learner.cc:1115: Starting in XGBoost 1.3.0, the default evaluation metric used with the objective 'binary:logistic' was changed from 'error' to 'logloss'. Explicitly set eval_metric if you'd like to restore the old behavior.\n",
      "[22:31:19] WARNING: ../src/learner.cc:1115: Starting in XGBoost 1.3.0, the default evaluation metric used with the objective 'binary:logistic' was changed from 'error' to 'logloss'. Explicitly set eval_metric if you'd like to restore the old behavior.\n",
      "[22:31:20] WARNING: ../src/learner.cc:1115: Starting in XGBoost 1.3.0, the default evaluation metric used with the objective 'binary:logistic' was changed from 'error' to 'logloss'. Explicitly set eval_metric if you'd like to restore the old behavior.\n",
      "[22:31:21] WARNING: ../src/learner.cc:1115: Starting in XGBoost 1.3.0, the default evaluation metric used with the objective 'binary:logistic' was changed from 'error' to 'logloss'. Explicitly set eval_metric if you'd like to restore the old behavior.\n",
      "[22:31:21] WARNING: ../src/learner.cc:1115: Starting in XGBoost 1.3.0, the default evaluation metric used with the objective 'binary:logistic' was changed from 'error' to 'logloss'. Explicitly set eval_metric if you'd like to restore the old behavior.\n",
      "[22:31:22] WARNING: ../src/learner.cc:1115: Starting in XGBoost 1.3.0, the default evaluation metric used with the objective 'binary:logistic' was changed from 'error' to 'logloss'. Explicitly set eval_metric if you'd like to restore the old behavior.\n",
      "[22:31:23] WARNING: ../src/learner.cc:1115: Starting in XGBoost 1.3.0, the default evaluation metric used with the objective 'binary:logistic' was changed from 'error' to 'logloss'. Explicitly set eval_metric if you'd like to restore the old behavior.\n",
      "[22:31:24] WARNING: ../src/learner.cc:1115: Starting in XGBoost 1.3.0, the default evaluation metric used with the objective 'binary:logistic' was changed from 'error' to 'logloss'. Explicitly set eval_metric if you'd like to restore the old behavior.\n",
      "[22:31:24] WARNING: ../src/learner.cc:1115: Starting in XGBoost 1.3.0, the default evaluation metric used with the objective 'binary:logistic' was changed from 'error' to 'logloss'. Explicitly set eval_metric if you'd like to restore the old behavior.\n",
      "[22:31:25] WARNING: ../src/learner.cc:1115: Starting in XGBoost 1.3.0, the default evaluation metric used with the objective 'binary:logistic' was changed from 'error' to 'logloss'. Explicitly set eval_metric if you'd like to restore the old behavior.\n",
      "[22:31:26] WARNING: ../src/learner.cc:1115: Starting in XGBoost 1.3.0, the default evaluation metric used with the objective 'binary:logistic' was changed from 'error' to 'logloss'. Explicitly set eval_metric if you'd like to restore the old behavior.\n",
      "[22:31:27] WARNING: ../src/learner.cc:1115: Starting in XGBoost 1.3.0, the default evaluation metric used with the objective 'binary:logistic' was changed from 'error' to 'logloss'. Explicitly set eval_metric if you'd like to restore the old behavior.\n",
      "[22:31:28] WARNING: ../src/learner.cc:1115: Starting in XGBoost 1.3.0, the default evaluation metric used with the objective 'binary:logistic' was changed from 'error' to 'logloss'. Explicitly set eval_metric if you'd like to restore the old behavior.\n",
      "[22:31:29] WARNING: ../src/learner.cc:1115: Starting in XGBoost 1.3.0, the default evaluation metric used with the objective 'binary:logistic' was changed from 'error' to 'logloss'. Explicitly set eval_metric if you'd like to restore the old behavior.\n",
      "[22:31:29] WARNING: ../src/learner.cc:1115: Starting in XGBoost 1.3.0, the default evaluation metric used with the objective 'binary:logistic' was changed from 'error' to 'logloss'. Explicitly set eval_metric if you'd like to restore the old behavior.\n",
      "[22:31:30] WARNING: ../src/learner.cc:1115: Starting in XGBoost 1.3.0, the default evaluation metric used with the objective 'binary:logistic' was changed from 'error' to 'logloss'. Explicitly set eval_metric if you'd like to restore the old behavior.\n",
      "[22:31:31] WARNING: ../src/learner.cc:1115: Starting in XGBoost 1.3.0, the default evaluation metric used with the objective 'binary:logistic' was changed from 'error' to 'logloss'. Explicitly set eval_metric if you'd like to restore the old behavior.\n",
      "[22:31:32] WARNING: ../src/learner.cc:1115: Starting in XGBoost 1.3.0, the default evaluation metric used with the objective 'binary:logistic' was changed from 'error' to 'logloss'. Explicitly set eval_metric if you'd like to restore the old behavior.\n",
      "[22:31:33] WARNING: ../src/learner.cc:1115: Starting in XGBoost 1.3.0, the default evaluation metric used with the objective 'binary:logistic' was changed from 'error' to 'logloss'. Explicitly set eval_metric if you'd like to restore the old behavior.\n",
      "[22:31:33] WARNING: ../src/learner.cc:1115: Starting in XGBoost 1.3.0, the default evaluation metric used with the objective 'binary:logistic' was changed from 'error' to 'logloss'. Explicitly set eval_metric if you'd like to restore the old behavior.\n",
      "[22:31:34] WARNING: ../src/learner.cc:1115: Starting in XGBoost 1.3.0, the default evaluation metric used with the objective 'binary:logistic' was changed from 'error' to 'logloss'. Explicitly set eval_metric if you'd like to restore the old behavior.\n",
      "[22:31:35] WARNING: ../src/learner.cc:1115: Starting in XGBoost 1.3.0, the default evaluation metric used with the objective 'binary:logistic' was changed from 'error' to 'logloss'. Explicitly set eval_metric if you'd like to restore the old behavior.\n",
      "[22:31:36] WARNING: ../src/learner.cc:1115: Starting in XGBoost 1.3.0, the default evaluation metric used with the objective 'binary:logistic' was changed from 'error' to 'logloss'. Explicitly set eval_metric if you'd like to restore the old behavior.\n",
      "[22:31:37] WARNING: ../src/learner.cc:1115: Starting in XGBoost 1.3.0, the default evaluation metric used with the objective 'binary:logistic' was changed from 'error' to 'logloss'. Explicitly set eval_metric if you'd like to restore the old behavior.\n",
      "[22:31:38] WARNING: ../src/learner.cc:1115: Starting in XGBoost 1.3.0, the default evaluation metric used with the objective 'binary:logistic' was changed from 'error' to 'logloss'. Explicitly set eval_metric if you'd like to restore the old behavior.\n",
      "[22:31:38] WARNING: ../src/learner.cc:1115: Starting in XGBoost 1.3.0, the default evaluation metric used with the objective 'binary:logistic' was changed from 'error' to 'logloss'. Explicitly set eval_metric if you'd like to restore the old behavior.\n",
      "[22:31:39] WARNING: ../src/learner.cc:1115: Starting in XGBoost 1.3.0, the default evaluation metric used with the objective 'binary:logistic' was changed from 'error' to 'logloss'. Explicitly set eval_metric if you'd like to restore the old behavior.\n",
      "[22:31:40] WARNING: ../src/learner.cc:1115: Starting in XGBoost 1.3.0, the default evaluation metric used with the objective 'binary:logistic' was changed from 'error' to 'logloss'. Explicitly set eval_metric if you'd like to restore the old behavior.\n",
      "[22:31:41] WARNING: ../src/learner.cc:1115: Starting in XGBoost 1.3.0, the default evaluation metric used with the objective 'binary:logistic' was changed from 'error' to 'logloss'. Explicitly set eval_metric if you'd like to restore the old behavior.\n",
      "[22:31:41] WARNING: ../src/learner.cc:1115: Starting in XGBoost 1.3.0, the default evaluation metric used with the objective 'binary:logistic' was changed from 'error' to 'logloss'. Explicitly set eval_metric if you'd like to restore the old behavior.\n",
      "[22:31:42] WARNING: ../src/learner.cc:1115: Starting in XGBoost 1.3.0, the default evaluation metric used with the objective 'binary:logistic' was changed from 'error' to 'logloss'. Explicitly set eval_metric if you'd like to restore the old behavior.\n",
      "[22:31:43] WARNING: ../src/learner.cc:1115: Starting in XGBoost 1.3.0, the default evaluation metric used with the objective 'binary:logistic' was changed from 'error' to 'logloss'. Explicitly set eval_metric if you'd like to restore the old behavior.\n",
      "[22:31:44] WARNING: ../src/learner.cc:1115: Starting in XGBoost 1.3.0, the default evaluation metric used with the objective 'binary:logistic' was changed from 'error' to 'logloss'. Explicitly set eval_metric if you'd like to restore the old behavior.\n",
      "[22:31:44] WARNING: ../src/learner.cc:1115: Starting in XGBoost 1.3.0, the default evaluation metric used with the objective 'binary:logistic' was changed from 'error' to 'logloss'. Explicitly set eval_metric if you'd like to restore the old behavior.\n",
      "[22:31:45] WARNING: ../src/learner.cc:1115: Starting in XGBoost 1.3.0, the default evaluation metric used with the objective 'binary:logistic' was changed from 'error' to 'logloss'. Explicitly set eval_metric if you'd like to restore the old behavior.\n",
      "[22:31:46] WARNING: ../src/learner.cc:1115: Starting in XGBoost 1.3.0, the default evaluation metric used with the objective 'binary:logistic' was changed from 'error' to 'logloss'. Explicitly set eval_metric if you'd like to restore the old behavior.\n",
      "[22:31:47] WARNING: ../src/learner.cc:1115: Starting in XGBoost 1.3.0, the default evaluation metric used with the objective 'binary:logistic' was changed from 'error' to 'logloss'. Explicitly set eval_metric if you'd like to restore the old behavior.\n",
      "[22:31:48] WARNING: ../src/learner.cc:1115: Starting in XGBoost 1.3.0, the default evaluation metric used with the objective 'binary:logistic' was changed from 'error' to 'logloss'. Explicitly set eval_metric if you'd like to restore the old behavior.\n",
      "[22:31:49] WARNING: ../src/learner.cc:1115: Starting in XGBoost 1.3.0, the default evaluation metric used with the objective 'binary:logistic' was changed from 'error' to 'logloss'. Explicitly set eval_metric if you'd like to restore the old behavior.\n",
      "[22:31:49] WARNING: ../src/learner.cc:1115: Starting in XGBoost 1.3.0, the default evaluation metric used with the objective 'binary:logistic' was changed from 'error' to 'logloss'. Explicitly set eval_metric if you'd like to restore the old behavior.\n",
      "[22:31:50] WARNING: ../src/learner.cc:1115: Starting in XGBoost 1.3.0, the default evaluation metric used with the objective 'binary:logistic' was changed from 'error' to 'logloss'. Explicitly set eval_metric if you'd like to restore the old behavior.\n",
      "[22:31:51] WARNING: ../src/learner.cc:1115: Starting in XGBoost 1.3.0, the default evaluation metric used with the objective 'binary:logistic' was changed from 'error' to 'logloss'. Explicitly set eval_metric if you'd like to restore the old behavior.\n",
      "[22:31:52] WARNING: ../src/learner.cc:1115: Starting in XGBoost 1.3.0, the default evaluation metric used with the objective 'binary:logistic' was changed from 'error' to 'logloss'. Explicitly set eval_metric if you'd like to restore the old behavior.\n",
      "[22:31:53] WARNING: ../src/learner.cc:1115: Starting in XGBoost 1.3.0, the default evaluation metric used with the objective 'binary:logistic' was changed from 'error' to 'logloss'. Explicitly set eval_metric if you'd like to restore the old behavior.\n",
      "[22:31:54] WARNING: ../src/learner.cc:1115: Starting in XGBoost 1.3.0, the default evaluation metric used with the objective 'binary:logistic' was changed from 'error' to 'logloss'. Explicitly set eval_metric if you'd like to restore the old behavior.\n",
      "[22:31:54] WARNING: ../src/learner.cc:1115: Starting in XGBoost 1.3.0, the default evaluation metric used with the objective 'binary:logistic' was changed from 'error' to 'logloss'. Explicitly set eval_metric if you'd like to restore the old behavior.\n",
      "[22:31:55] WARNING: ../src/learner.cc:1115: Starting in XGBoost 1.3.0, the default evaluation metric used with the objective 'binary:logistic' was changed from 'error' to 'logloss'. Explicitly set eval_metric if you'd like to restore the old behavior.\n",
      "[22:31:56] WARNING: ../src/learner.cc:1115: Starting in XGBoost 1.3.0, the default evaluation metric used with the objective 'binary:logistic' was changed from 'error' to 'logloss'. Explicitly set eval_metric if you'd like to restore the old behavior.\n",
      "[22:31:57] WARNING: ../src/learner.cc:1115: Starting in XGBoost 1.3.0, the default evaluation metric used with the objective 'binary:logistic' was changed from 'error' to 'logloss'. Explicitly set eval_metric if you'd like to restore the old behavior.\n",
      "[22:31:58] WARNING: ../src/learner.cc:1115: Starting in XGBoost 1.3.0, the default evaluation metric used with the objective 'binary:logistic' was changed from 'error' to 'logloss'. Explicitly set eval_metric if you'd like to restore the old behavior.\n",
      "[22:31:59] WARNING: ../src/learner.cc:1115: Starting in XGBoost 1.3.0, the default evaluation metric used with the objective 'binary:logistic' was changed from 'error' to 'logloss'. Explicitly set eval_metric if you'd like to restore the old behavior.\n",
      "[22:32:00] WARNING: ../src/learner.cc:1115: Starting in XGBoost 1.3.0, the default evaluation metric used with the objective 'binary:logistic' was changed from 'error' to 'logloss'. Explicitly set eval_metric if you'd like to restore the old behavior.\n"
     ]
    },
    {
     "data": {
      "text/plain": [
       "{'max_depth': 6, 'scale_pos_weight': 0.3}"
      ]
     },
     "execution_count": 16,
     "metadata": {},
     "output_type": "execute_result"
    }
   ],
   "source": [
    "from sklearn.model_selection import GridSearchCV\n",
    "\n",
    "parameters={\n",
    "    'max_depth': [6, 9, 12],\n",
    "    'scale_pos_weight': [0.1, 0.15, 0.2, 0.25, 0.3],\n",
    "}\n",
    "\n",
    "clf = GridSearchCV(XGBClassifier(use_label_encoder=False), parameters)\n",
    "clf.fit(X_train, y_seven_day_train)\n",
    "\n",
    "params = clf.cv_results_['params'][list(clf.cv_results_['rank_test_score']).index(1)]\n",
    "params"
   ]
  },
  {
   "cell_type": "markdown",
   "id": "7a5494c6-22c8-4452-8347-018794cfae6b",
   "metadata": {},
   "source": [
    "### XGBoost model with selected features"
   ]
  },
  {
   "cell_type": "code",
   "execution_count": 17,
   "id": "da32667e-29ed-4912-ba0d-12a73bba19a9",
   "metadata": {},
   "outputs": [
    {
     "name": "stdout",
     "output_type": "stream",
     "text": [
      "[22:32:00] WARNING: ../src/learner.cc:1115: Starting in XGBoost 1.3.0, the default evaluation metric used with the objective 'binary:logistic' was changed from 'error' to 'logloss'. Explicitly set eval_metric if you'd like to restore the old behavior.\n"
     ]
    }
   ],
   "source": [
    "# xgb_min = XGBClassifier(max_depth = 12, reg_alpha = 10, max_delta_step=10, scale_pos_weight = 0.25)\n",
    "xgb_min = XGBClassifier(use_label_encoder=False)\n",
    "xgb_min.set_params(**params)\n",
    "xgb_min.fit(X_min_train, y_seven_day_train)\n",
    "\n",
    "xgb_min_pred = xgb_min.predict(X_min_test)\n",
    "xgb_min_prob = xgb_min.predict_proba(X_min_test)"
   ]
  },
  {
   "cell_type": "markdown",
   "id": "27d53bd6-f0a2-4266-a56c-bee8ee83d923",
   "metadata": {},
   "source": [
    "#### Confusion matrix"
   ]
  },
  {
   "cell_type": "code",
   "execution_count": 18,
   "id": "59ee9fc2-4a4e-40fa-8145-419ded8308e9",
   "metadata": {},
   "outputs": [
    {
     "data": {
      "image/png": "[encoded data removed]",
      "text/plain": [
       "<Figure size 360x360 with 2 Axes>"
      ]
     },
     "metadata": {
      "needs_background": "light"
     },
     "output_type": "display_data"
    }
   ],
   "source": [
    "from sklearn.metrics import confusion_matrix\n",
    "from matplotlib import pyplot as plt\n",
    "\n",
    "labels = [0, 1]\n",
    "\n",
    "cm_analysis(xgb_min_pred, y_seven_day_test, labels, ymap=None, figsize=(5, 5), title='Seven Day Mortality Classifier')"
   ]
  },
  {
   "cell_type": "markdown",
   "id": "d4643083-9716-454e-a398-4d69a94fc866",
   "metadata": {},
   "source": [
    "#### Cross validation"
   ]
  },
  {
   "cell_type": "code",
   "execution_count": 19,
   "id": "34711c9a-6d67-4256-a0b4-42272e914edf",
   "metadata": {},
   "outputs": [
    {
     "name": "stdout",
     "output_type": "stream",
     "text": [
      "[22:32:01] WARNING: ../src/learner.cc:1115: Starting in XGBoost 1.3.0, the default evaluation metric used with the objective 'binary:logistic' was changed from 'error' to 'logloss'. Explicitly set eval_metric if you'd like to restore the old behavior.\n",
      "[22:32:01] WARNING: ../src/learner.cc:1115: Starting in XGBoost 1.3.0, the default evaluation metric used with the objective 'binary:logistic' was changed from 'error' to 'logloss'. Explicitly set eval_metric if you'd like to restore the old behavior.\n",
      "[22:32:02] WARNING: ../src/learner.cc:1115: Starting in XGBoost 1.3.0, the default evaluation metric used with the objective 'binary:logistic' was changed from 'error' to 'logloss'. Explicitly set eval_metric if you'd like to restore the old behavior.\n",
      "[22:32:02] WARNING: ../src/learner.cc:1115: Starting in XGBoost 1.3.0, the default evaluation metric used with the objective 'binary:logistic' was changed from 'error' to 'logloss'. Explicitly set eval_metric if you'd like to restore the old behavior.\n",
      "[22:32:03] WARNING: ../src/learner.cc:1115: Starting in XGBoost 1.3.0, the default evaluation metric used with the objective 'binary:logistic' was changed from 'error' to 'logloss'. Explicitly set eval_metric if you'd like to restore the old behavior.\n",
      "[22:32:03] WARNING: ../src/learner.cc:1115: Starting in XGBoost 1.3.0, the default evaluation metric used with the objective 'binary:logistic' was changed from 'error' to 'logloss'. Explicitly set eval_metric if you'd like to restore the old behavior.\n",
      " mccf1_metric best_threshold\n",
      "    0.8515707              1\n",
      "[22:32:04] WARNING: ../src/learner.cc:1115: Starting in XGBoost 1.3.0, the default evaluation metric used with the objective 'binary:logistic' was changed from 'error' to 'logloss'. Explicitly set eval_metric if you'd like to restore the old behavior.\n",
      " mccf1_metric best_threshold\n",
      "    0.8805763              1\n",
      "[22:32:04] WARNING: ../src/learner.cc:1115: Starting in XGBoost 1.3.0, the default evaluation metric used with the objective 'binary:logistic' was changed from 'error' to 'logloss'. Explicitly set eval_metric if you'd like to restore the old behavior.\n",
      " mccf1_metric best_threshold\n",
      "    0.8871005              1\n",
      "[22:32:04] WARNING: ../src/learner.cc:1115: Starting in XGBoost 1.3.0, the default evaluation metric used with the objective 'binary:logistic' was changed from 'error' to 'logloss'. Explicitly set eval_metric if you'd like to restore the old behavior.\n",
      " mccf1_metric best_threshold\n",
      "    0.8523477              1\n",
      "[22:32:05] WARNING: ../src/learner.cc:1115: Starting in XGBoost 1.3.0, the default evaluation metric used with the objective 'binary:logistic' was changed from 'error' to 'logloss'. Explicitly set eval_metric if you'd like to restore the old behavior.\n",
      " mccf1_metric best_threshold\n",
      "    0.8554452              1\n"
     ]
    },
    {
     "data": {
      "text/plain": [
       "{'fit_time': array([0.38442826, 0.39890122, 0.4164021 , 0.39009476, 0.39610291]),\n",
       " 'score_time': array([0.01605821, 0.01527286, 0.01544857, 0.01467896, 0.01513171]),\n",
       " 'test_accuracy': array([0.95162709, 0.96038732, 0.96214789, 0.95158451, 0.95246479]),\n",
       " 'test_balanced_accuracy': array([0.85681451, 0.88328906, 0.8917011 , 0.85925176, 0.86221034]),\n",
       " 'test_average_precision': array([0.88265358, 0.93519021, 0.91516861, 0.86577726, 0.90702963]),\n",
       " 'test_f1': array([0.81605351, 0.85245902, 0.86084142, 0.81727575, 0.82119205]),\n",
       " 'test_roc_auc': array([0.95704558, 0.97856405, 0.96619195, 0.94798162, 0.97053046]),\n",
       " 'test_mccf1_score': array([0.85157069, 0.88057632, 0.88710051, 0.85234775, 0.85544523])}"
      ]
     },
     "execution_count": 19,
     "metadata": {},
     "output_type": "execute_result"
    }
   ],
   "source": [
    "from sklearn.model_selection import cross_validate\n",
    "\n",
    "xgb_min_scores = cross_validate(xgb_min, X_min_train, y_seven_day_train, cv=5, scoring = ['accuracy', 'balanced_accuracy', 'average_precision', 'f1', 'roc_auc'])\n",
    "xgb_min_scores['test_mccf1_score'] = cross_validate(xgb_min, X_min_train, y_seven_day_train, cv=5, scoring = make_scorer(calculateMccF1, greater_is_better=True))['test_score']\n",
    "xgb_min_scores"
   ]
  },
  {
   "cell_type": "markdown",
   "id": "750437e8-8e1c-4566-893a-ec66eca557f8",
   "metadata": {},
   "source": [
    "### XGBoost model with all features"
   ]
  },
  {
   "cell_type": "code",
   "execution_count": 20,
   "id": "4c13c779-e42d-4644-afd1-3070f567de62",
   "metadata": {},
   "outputs": [
    {
     "name": "stdout",
     "output_type": "stream",
     "text": [
      "[22:32:05] WARNING: ../src/learner.cc:1115: Starting in XGBoost 1.3.0, the default evaluation metric used with the objective 'binary:logistic' was changed from 'error' to 'logloss'. Explicitly set eval_metric if you'd like to restore the old behavior.\n"
     ]
    }
   ],
   "source": [
    "# xgb = XGBClassifier(max_depth = 12, reg_alpha = 40, max_delta_step=10, scale_pos_weight = 0.25)\n",
    "xgb = XGBClassifier(use_label_encoder=False)\n",
    "xgb.set_params(**params)\n",
    "xgb.fit(X_train, y_seven_day_train)\n",
    "\n",
    "xgb_pred = xgb.predict(X_test)\n",
    "xgb_prob = xgb.predict_proba(X_test)"
   ]
  },
  {
   "cell_type": "markdown",
   "id": "f9b9772a-4c0a-47fa-9d1a-024aecbfac83",
   "metadata": {},
   "source": [
    "#### Confusion matrix"
   ]
  },
  {
   "cell_type": "code",
   "execution_count": 21,
   "id": "d43257cb-870a-4704-9471-76b7173ed4d7",
   "metadata": {},
   "outputs": [
    {
     "data": {
      "image/png": "[encoded data removed]",
      "text/plain": [
       "<Figure size 360x360 with 2 Axes>"
      ]
     },
     "metadata": {
      "needs_background": "light"
     },
     "output_type": "display_data"
    }
   ],
   "source": [
    "from sklearn.metrics import confusion_matrix\n",
    "from matplotlib import pyplot as plt\n",
    "\n",
    "labels = [0, 1]\n",
    "\n",
    "cm_analysis(xgb_pred, y_seven_day_test, labels, ymap=None, figsize=(5, 5), title='Seven Day Mortality Classifier')"
   ]
  },
  {
   "cell_type": "markdown",
   "id": "9b22a404-0365-4f41-b9b7-070feadaea6e",
   "metadata": {},
   "source": [
    "#### Cross validation"
   ]
  },
  {
   "cell_type": "code",
   "execution_count": 22,
   "id": "d98e10b3-3baa-4eee-905d-b8764f58ea2d",
   "metadata": {},
   "outputs": [
    {
     "name": "stdout",
     "output_type": "stream",
     "text": [
      "[22:32:06] WARNING: ../src/learner.cc:1115: Starting in XGBoost 1.3.0, the default evaluation metric used with the objective 'binary:logistic' was changed from 'error' to 'logloss'. Explicitly set eval_metric if you'd like to restore the old behavior.\n",
      "[22:32:07] WARNING: ../src/learner.cc:1115: Starting in XGBoost 1.3.0, the default evaluation metric used with the objective 'binary:logistic' was changed from 'error' to 'logloss'. Explicitly set eval_metric if you'd like to restore the old behavior.\n",
      "[22:32:08] WARNING: ../src/learner.cc:1115: Starting in XGBoost 1.3.0, the default evaluation metric used with the objective 'binary:logistic' was changed from 'error' to 'logloss'. Explicitly set eval_metric if you'd like to restore the old behavior.\n",
      "[22:32:09] WARNING: ../src/learner.cc:1115: Starting in XGBoost 1.3.0, the default evaluation metric used with the objective 'binary:logistic' was changed from 'error' to 'logloss'. Explicitly set eval_metric if you'd like to restore the old behavior.\n",
      "[22:32:10] WARNING: ../src/learner.cc:1115: Starting in XGBoost 1.3.0, the default evaluation metric used with the objective 'binary:logistic' was changed from 'error' to 'logloss'. Explicitly set eval_metric if you'd like to restore the old behavior.\n",
      "[22:32:10] WARNING: ../src/learner.cc:1115: Starting in XGBoost 1.3.0, the default evaluation metric used with the objective 'binary:logistic' was changed from 'error' to 'logloss'. Explicitly set eval_metric if you'd like to restore the old behavior.\n",
      " mccf1_metric best_threshold\n",
      "    0.8766385              1\n",
      "[22:32:11] WARNING: ../src/learner.cc:1115: Starting in XGBoost 1.3.0, the default evaluation metric used with the objective 'binary:logistic' was changed from 'error' to 'logloss'. Explicitly set eval_metric if you'd like to restore the old behavior.\n",
      " mccf1_metric best_threshold\n",
      "      0.88478              1\n",
      "[22:32:12] WARNING: ../src/learner.cc:1115: Starting in XGBoost 1.3.0, the default evaluation metric used with the objective 'binary:logistic' was changed from 'error' to 'logloss'. Explicitly set eval_metric if you'd like to restore the old behavior.\n",
      " mccf1_metric best_threshold\n",
      "    0.8695395              1\n",
      "[22:32:12] WARNING: ../src/learner.cc:1115: Starting in XGBoost 1.3.0, the default evaluation metric used with the objective 'binary:logistic' was changed from 'error' to 'logloss'. Explicitly set eval_metric if you'd like to restore the old behavior.\n",
      " mccf1_metric best_threshold\n",
      "    0.8710323              1\n",
      "[22:32:13] WARNING: ../src/learner.cc:1115: Starting in XGBoost 1.3.0, the default evaluation metric used with the objective 'binary:logistic' was changed from 'error' to 'logloss'. Explicitly set eval_metric if you'd like to restore the old behavior.\n",
      " mccf1_metric best_threshold\n",
      "    0.8901463              1\n"
     ]
    },
    {
     "data": {
      "text/plain": [
       "{'fit_time': array([0.82273006, 0.69478989, 0.74407554, 0.69215894, 0.72420692]),\n",
       " 'score_time': array([0.02045131, 0.02019334, 0.0199101 , 0.01981306, 0.02005839]),\n",
       " 'test_accuracy': array([0.95866315, 0.96214789, 0.95774648, 0.95774648, 0.96302817]),\n",
       " 'test_balanced_accuracy': array([0.8829252 , 0.88186246, 0.8669815 , 0.87019575, 0.89283026]),\n",
       " 'test_average_precision': array([0.91956279, 0.9460363 , 0.93832412, 0.90556625, 0.94812005]),\n",
       " 'test_f1': array([0.84789644, 0.85714286, 0.83783784, 0.84      , 0.86451613]),\n",
       " 'test_roc_auc': array([0.97209521, 0.98370474, 0.97668856, 0.96677334, 0.98681948]),\n",
       " 'test_mccf1_score': array([0.87663846, 0.88477996, 0.86953948, 0.87103231, 0.89014634])}"
      ]
     },
     "execution_count": 22,
     "metadata": {},
     "output_type": "execute_result"
    }
   ],
   "source": [
    "from sklearn.model_selection import cross_validate\n",
    "\n",
    "xgb_scores = cross_validate(xgb, X_train, y_seven_day_train, cv=5, scoring = ['accuracy', 'balanced_accuracy', 'average_precision', 'f1', 'roc_auc'])\n",
    "xgb_scores['test_mccf1_score'] = cross_validate(xgb, X_train, y_seven_day_train, cv=5, scoring = make_scorer(calculateMccF1, greater_is_better=True))['test_score']\n",
    "xgb_scores"
   ]
  },
  {
   "cell_type": "markdown",
   "id": "7417ef8d-5e23-46a4-aa7e-62a7c232390c",
   "metadata": {},
   "source": [
    "### Feature Importance"
   ]
  },
  {
   "cell_type": "code",
   "execution_count": 23,
   "id": "fd20783e-dabd-4b38-b312-ffd503884c2b",
   "metadata": {},
   "outputs": [
    {
     "data": {
      "text/plain": [
       "<BarContainer object of 25 artists>"
      ]
     },
     "execution_count": 23,
     "metadata": {},
     "output_type": "execute_result"
    },
    {
     "data": {
      "image/png": "[encoded data removed]",
      "text/plain": [
       "<Figure size 720x2880 with 1 Axes>"
      ]
     },
     "metadata": {
      "needs_background": "light"
     },
     "output_type": "display_data"
    }
   ],
   "source": [
    "X_header = [x for x in X_min.columns.values]\n",
    "X_header = X_header[0:-1]\n",
    "feature_importance_list = []\n",
    "feature_imp_dict = xgb_min.get_booster().get_score(importance_type=\"gain\")\n",
    "for feature, feature_imp in feature_imp_dict.items():\n",
    "    feature_importance_list.append([feature, feature_imp])\n",
    "xgbDf = pd.DataFrame(feature_importance_list, columns = ['feature', 'weight'])\n",
    "xgbDf.sort_values('weight', inplace=True)\n",
    "plt.figure(figsize=(10,40))\n",
    "plt.barh(y=xgbDf.feature, width=xgbDf.weight)"
   ]
  },
  {
   "cell_type": "markdown",
   "id": "147356a4-1a93-4074-a662-ed2cac11825b",
   "metadata": {},
   "source": [
    "## Logistic Regression"
   ]
  },
  {
   "cell_type": "code",
   "execution_count": 24,
   "id": "2fddd157-1325-4b6d-81de-33e9dc7acb34",
   "metadata": {},
   "outputs": [],
   "source": [
    "from sklearn.linear_model import LogisticRegression\n",
    "from matplotlib import pyplot as plt"
   ]
  },
  {
   "cell_type": "markdown",
   "id": "8e9f0feb-3404-478d-80e3-003a12541099",
   "metadata": {},
   "source": [
    "### Hyperparameter optimisation"
   ]
  },
  {
   "cell_type": "code",
   "execution_count": 25,
   "id": "514f09af-812f-4d62-b590-d701b46ecf98",
   "metadata": {},
   "outputs": [],
   "source": [
    "from sklearn.model_selection import GridSearchCV\n",
    "\n",
    "parameters={\n",
    "    'solver': ['newton-cg', 'liblinear'],\n",
    "    'C': [100, 10, 1.0, 0.1, 0.01],\n",
    "}\n",
    "\n",
    "clf = GridSearchCV(LogisticRegression(), parameters)\n",
    "clf.fit(X_train, y_seven_day_train)\n",
    "\n",
    "params = clf.cv_results_['params'][list(clf.cv_results_['rank_test_score']).index(1)]"
   ]
  },
  {
   "cell_type": "markdown",
   "id": "efed4203-27fd-4a51-a2f7-3030973288eb",
   "metadata": {},
   "source": [
    "### Logistic regression model with selected features"
   ]
  },
  {
   "cell_type": "code",
   "execution_count": 26,
   "id": "e34ab9c2-b83d-4e54-afcc-8c369e1e3bd8",
   "metadata": {},
   "outputs": [],
   "source": [
    "lr_min = LogisticRegression()\n",
    "lr_min.set_params(**params)\n",
    "lr_min.fit(X_min_train, y_seven_day_train)\n",
    "\n",
    "lr_min_pred = lr_min.predict(X_min_test)\n",
    "lr_min_prob = lr_min.predict_proba(X_min_test)"
   ]
  },
  {
   "cell_type": "markdown",
   "id": "40f7acfc-32a1-4f8a-ab22-ba92c67a3516",
   "metadata": {},
   "source": [
    "#### Confusion matrix"
   ]
  },
  {
   "cell_type": "code",
   "execution_count": 27,
   "id": "730a8a4f-be1c-430f-bfd5-bffcab4ae433",
   "metadata": {},
   "outputs": [
    {
     "data": {
      "image/png": "[encoded data removed]",
      "text/plain": [
       "<Figure size 360x360 with 2 Axes>"
      ]
     },
     "metadata": {
      "needs_background": "light"
     },
     "output_type": "display_data"
    }
   ],
   "source": [
    "from sklearn.metrics import confusion_matrix\n",
    "from matplotlib import pyplot as plt\n",
    "\n",
    "labels = [0, 1]\n",
    "\n",
    "cm_analysis(lr_min_pred, y_seven_day_test, labels, ymap=None, figsize=(5, 5), title='Seven Day Mortality Classifier')"
   ]
  },
  {
   "cell_type": "markdown",
   "id": "d86e20d8-21b9-4367-9349-c672cca1bd53",
   "metadata": {},
   "source": [
    "#### Cross Validation"
   ]
  },
  {
   "cell_type": "code",
   "execution_count": 28,
   "id": "635e2518-2c83-4b96-a39a-65fe7ac0b4e1",
   "metadata": {},
   "outputs": [
    {
     "name": "stdout",
     "output_type": "stream",
     "text": [
      " mccf1_metric best_threshold\n",
      "    0.6144932              1\n",
      " mccf1_metric best_threshold\n",
      "    0.6352998              1\n",
      " mccf1_metric best_threshold\n",
      "    0.6441006              1\n",
      " mccf1_metric best_threshold\n",
      "    0.5696831              1\n",
      " mccf1_metric best_threshold\n",
      "    0.6033533              1\n"
     ]
    },
    {
     "data": {
      "text/plain": [
       "{'fit_time': array([0.03960896, 0.03262377, 0.03732491, 0.04377365, 0.0444541 ]),\n",
       " 'score_time': array([0.00673962, 0.00616145, 0.00612903, 0.00616837, 0.00611019]),\n",
       " 'test_accuracy': array([0.88654354, 0.89524648, 0.89172535, 0.88204225, 0.88732394]),\n",
       " 'test_balanced_accuracy': array([0.69160472, 0.69994589, 0.7150974 , 0.65726367, 0.67989818]),\n",
       " 'test_average_precision': array([0.61571239, 0.67249899, 0.65928573, 0.59128093, 0.62085311]),\n",
       " 'test_f1': array([0.5204461 , 0.5440613 , 0.55913978, 0.45967742, 0.50387597]),\n",
       " 'test_roc_auc': array([0.85980366, 0.88386708, 0.8710215 , 0.84333906, 0.86569822]),\n",
       " 'test_mccf1_score': array([0.61449324, 0.63529983, 0.64410057, 0.56968308, 0.60335327])}"
      ]
     },
     "execution_count": 28,
     "metadata": {},
     "output_type": "execute_result"
    }
   ],
   "source": [
    "from sklearn.model_selection import cross_validate\n",
    "\n",
    "lr_min_scores = cross_validate(lr_min, X_min_train, y_seven_day_train, cv=5, scoring=['accuracy', 'balanced_accuracy', 'average_precision', 'f1', 'roc_auc'])\n",
    "lr_min_scores['test_mccf1_score'] = cross_validate(lr_min, X_min_train, y_seven_day_train, cv=5, scoring = make_scorer(calculateMccF1, greater_is_better=True))['test_score']\n",
    "lr_min_scores"
   ]
  },
  {
   "cell_type": "markdown",
   "id": "53f5b6e5-2c71-4fe7-a997-c49c27e235d6",
   "metadata": {},
   "source": [
    "### Logistic regression model with all features"
   ]
  },
  {
   "cell_type": "code",
   "execution_count": 29,
   "id": "d5cc5d5e-e031-46a1-8242-b0891bdd757d",
   "metadata": {},
   "outputs": [],
   "source": [
    "lr = LogisticRegression()\n",
    "lr.set_params(**params)\n",
    "lr.fit(X_train, y_seven_day_train)\n",
    "\n",
    "lr_pred = lr.predict(X_test)\n",
    "lr_prob = lr.predict_proba(X_test)"
   ]
  },
  {
   "cell_type": "markdown",
   "id": "ea99df2e-ae49-4110-bd64-ae6d55a4cef6",
   "metadata": {},
   "source": [
    "#### Confusion matrix"
   ]
  },
  {
   "cell_type": "code",
   "execution_count": 30,
   "id": "95028a93-d0d7-4131-a3b5-43948dac10fa",
   "metadata": {},
   "outputs": [
    {
     "data": {
      "image/png": "[encoded data removed]",
      "text/plain": [
       "<Figure size 360x360 with 2 Axes>"
      ]
     },
     "metadata": {
      "needs_background": "light"
     },
     "output_type": "display_data"
    }
   ],
   "source": [
    "from sklearn.metrics import confusion_matrix\n",
    "from matplotlib import pyplot as plt\n",
    "\n",
    "labels = [0, 1]\n",
    "\n",
    "cm_analysis(lr_pred, y_seven_day_test, labels, ymap=None, figsize=(5, 5), title='Seven Day Mortality Classifier')"
   ]
  },
  {
   "cell_type": "markdown",
   "id": "c65862d5-0e67-450b-b727-1a06ba11165b",
   "metadata": {},
   "source": [
    "#### Cross validation"
   ]
  },
  {
   "cell_type": "code",
   "execution_count": 31,
   "id": "24b4ca85-6eb9-4571-9da2-2f13f6dededc",
   "metadata": {},
   "outputs": [
    {
     "name": "stdout",
     "output_type": "stream",
     "text": [
      " mccf1_metric best_threshold\n",
      "     0.735947              1\n",
      " mccf1_metric best_threshold\n",
      "    0.7807652              1\n",
      " mccf1_metric best_threshold\n",
      "    0.7535602              1\n",
      " mccf1_metric best_threshold\n",
      "    0.7198238              1\n",
      " mccf1_metric best_threshold\n",
      "     0.751456              1\n"
     ]
    },
    {
     "data": {
      "text/plain": [
       "{'fit_time': array([0.42508006, 0.43726611, 0.42909622, 0.41521382, 0.40513277]),\n",
       " 'score_time': array([0.00937748, 0.00936651, 0.00934696, 0.00928378, 0.00921535]),\n",
       " 'test_accuracy': array([0.91292876, 0.9278169 , 0.92077465, 0.91285211, 0.92165493]),\n",
       " 'test_balanced_accuracy': array([0.78768827, 0.81744392, 0.7936344 , 0.76325548, 0.78551673]),\n",
       " 'test_average_precision': array([0.75541599, 0.80846058, 0.78167083, 0.74531967, 0.7705895 ]),\n",
       " 'test_f1': array([0.67540984, 0.73026316, 0.69594595, 0.65263158, 0.69204152]),\n",
       " 'test_roc_auc': array([0.91358991, 0.92740309, 0.91411477, 0.8964956 , 0.91162199]),\n",
       " 'test_mccf1_score': array([0.73594698, 0.78076524, 0.75356018, 0.71982384, 0.751456  ])}"
      ]
     },
     "execution_count": 31,
     "metadata": {},
     "output_type": "execute_result"
    }
   ],
   "source": [
    "from sklearn.model_selection import cross_validate\n",
    "\n",
    "lr_scores = cross_validate(lr, X_train, y_seven_day_train, cv=5, scoring=['accuracy', 'balanced_accuracy', 'average_precision', 'f1', 'roc_auc'])\n",
    "lr_scores['test_mccf1_score'] = cross_validate(lr, X_train, y_seven_day_train, cv=5, scoring = make_scorer(calculateMccF1, greater_is_better=True))['test_score']\n",
    "lr_scores"
   ]
  },
  {
   "cell_type": "markdown",
   "id": "f453ea38-44a6-4df1-bb12-922654fd0b86",
   "metadata": {},
   "source": [
    "### Feature importance"
   ]
  },
  {
   "cell_type": "code",
   "execution_count": 32,
   "id": "48398794-009a-4743-91d5-814f52ca8f92",
   "metadata": {},
   "outputs": [
    {
     "data": {
      "text/plain": [
       "<BarContainer object of 25 artists>"
      ]
     },
     "execution_count": 32,
     "metadata": {},
     "output_type": "execute_result"
    },
    {
     "data": {
      "image/png": "[encoded data removed]",
      "text/plain": [
       "<Figure size 720x2880 with 1 Axes>"
      ]
     },
     "metadata": {
      "needs_background": "light"
     },
     "output_type": "display_data"
    }
   ],
   "source": [
    "lrDf = pd.DataFrame(data=list(zip(X_min.columns, lr_min.coef_[0])), columns=['feature', 'weight'])\n",
    "lrDf.sort_values('weight', inplace=True)\n",
    "plt.figure(figsize=(10,40))\n",
    "plt.barh(y=lrDf.feature, width=lrDf.weight)"
   ]
  },
  {
   "cell_type": "markdown",
   "id": "ee8cf2f0-68b6-4bce-8e6b-f6bc7450ae70",
   "metadata": {},
   "source": [
    "## LGBM"
   ]
  },
  {
   "cell_type": "code",
   "execution_count": 33,
   "id": "8266a710-13a2-4cf5-bf9c-9b5cf893a2c8",
   "metadata": {},
   "outputs": [],
   "source": [
    "from lightgbm import LGBMClassifier\n",
    "from matplotlib import pyplot as plt"
   ]
  },
  {
   "cell_type": "markdown",
   "id": "f6a7339a-2062-495e-bb7c-dbf4d61dd220",
   "metadata": {},
   "source": [
    "### Hyperparameter optimisation"
   ]
  },
  {
   "cell_type": "code",
   "execution_count": 34,
   "id": "36c03b4b-1e82-4e74-8822-f7a0da3ab694",
   "metadata": {},
   "outputs": [],
   "source": [
    "from sklearn.model_selection import GridSearchCV\n",
    "\n",
    "parameters={\n",
    "    'max_depth': [6, 9, 12],\n",
    "    'scale_pos_weight': [0.1, 0.15, 0.2, 0.25, 0.3],\n",
    "}\n",
    "\n",
    "clf = GridSearchCV(LGBMClassifier(), parameters)\n",
    "clf.fit(X_train, y_seven_day_train)\n",
    "\n",
    "params = clf.cv_results_['params'][list(clf.cv_results_['rank_test_score']).index(1)]"
   ]
  },
  {
   "cell_type": "markdown",
   "id": "600dfe8d-c20e-428b-9226-950b167506e2",
   "metadata": {},
   "source": [
    "### LGBM model with selected features"
   ]
  },
  {
   "cell_type": "code",
   "execution_count": 35,
   "id": "cb91d3f9-b9ec-4486-a34f-91a3f2272eb6",
   "metadata": {},
   "outputs": [],
   "source": [
    "lgbm_min = LGBMClassifier()\n",
    "lgbm_min.set_params(**params)\n",
    "lgbm_min.fit(X_min_train, y_seven_day_train)\n",
    "\n",
    "lgbm_min_pred = lgbm_min.predict(X_min_test)\n",
    "lgbm_min_prob = lgbm_min.predict_proba(X_min_test)"
   ]
  },
  {
   "cell_type": "markdown",
   "id": "e116c615-9b37-4855-8e6c-ef59a4cfc9da",
   "metadata": {},
   "source": [
    "#### Confusion matrix"
   ]
  },
  {
   "cell_type": "code",
   "execution_count": 36,
   "id": "ca44f484-c8ca-4af1-9df6-2970f9d3349a",
   "metadata": {},
   "outputs": [
    {
     "data": {
      "image/png": "[encoded data removed]",
      "text/plain": [
       "<Figure size 360x360 with 2 Axes>"
      ]
     },
     "metadata": {
      "needs_background": "light"
     },
     "output_type": "display_data"
    }
   ],
   "source": [
    "from sklearn.metrics import confusion_matrix\n",
    "from matplotlib import pyplot as plt\n",
    "\n",
    "labels = [0, 1]\n",
    "\n",
    "cm_analysis(lgbm_min_pred, y_seven_day_test, labels, ymap=None, figsize=(5, 5), title='Seven Day Mortality Classifier')"
   ]
  },
  {
   "cell_type": "markdown",
   "id": "baa4350d-721c-48fb-b40d-3c24a8fde5a4",
   "metadata": {},
   "source": [
    "#### Cross validation"
   ]
  },
  {
   "cell_type": "code",
   "execution_count": 37,
   "id": "1ec08901-b2ca-4581-9de4-b3e6a769bfd4",
   "metadata": {},
   "outputs": [
    {
     "name": "stdout",
     "output_type": "stream",
     "text": [
      " mccf1_metric best_threshold\n",
      "    0.8013987              1\n",
      " mccf1_metric best_threshold\n",
      "    0.8376547              1\n",
      " mccf1_metric best_threshold\n",
      "    0.8647191              1\n",
      " mccf1_metric best_threshold\n",
      "    0.8436355              1\n",
      " mccf1_metric best_threshold\n",
      "    0.8365834              1\n"
     ]
    },
    {
     "data": {
      "text/plain": [
       "{'fit_time': array([0.21823311, 0.15140891, 0.17984653, 0.19171023, 0.15661263]),\n",
       " 'score_time': array([0.00933504, 0.00907207, 0.00914955, 0.00924015, 0.00929523]),\n",
       " 'test_accuracy': array([0.93843448, 0.94894366, 0.95598592, 0.94982394, 0.9471831 ]),\n",
       " 'test_balanced_accuracy': array([0.80999376, 0.8372196 , 0.86594845, 0.84601005, 0.84445886]),\n",
       " 'test_average_precision': array([0.88437675, 0.92679938, 0.91930984, 0.87409556, 0.90290886]),\n",
       " 'test_f1': array([0.75177305, 0.7972028 , 0.83221477, 0.80546075, 0.7972973 ]),\n",
       " 'test_roc_auc': array([0.95762629, 0.97667626, 0.96741563, 0.96096633, 0.97234783]),\n",
       " 'test_mccf1_score': array([0.80139873, 0.83765468, 0.86471915, 0.84363546, 0.83658335])}"
      ]
     },
     "execution_count": 37,
     "metadata": {},
     "output_type": "execute_result"
    }
   ],
   "source": [
    "from sklearn.model_selection import cross_validate\n",
    "\n",
    "lgbm_min_scores = cross_validate(lgbm_min, X_min_train, y_seven_day_train, cv=5, scoring=['accuracy', 'balanced_accuracy', 'average_precision', 'f1', 'roc_auc'])\n",
    "lgbm_min_scores['test_mccf1_score'] = cross_validate(lgbm_min, X_min_train, y_seven_day_train, cv=5, scoring = make_scorer(calculateMccF1, greater_is_better=True))['test_score']\n",
    "lgbm_min_scores"
   ]
  },
  {
   "cell_type": "markdown",
   "id": "228114b0-ca7d-4eff-94f7-f8f998ea8614",
   "metadata": {},
   "source": [
    "### Logistic regression model with selected features"
   ]
  },
  {
   "cell_type": "code",
   "execution_count": 38,
   "id": "8a9f09dd-9c99-4a89-9f6a-03e7d4228742",
   "metadata": {},
   "outputs": [],
   "source": [
    "lgbm = LGBMClassifier()\n",
    "lgbm.set_params(**params)\n",
    "lgbm.fit(X_train, y_seven_day_train)\n",
    "lgbm_pred = lgbm.predict(X_test)\n",
    "lgbm_prob = lgbm.predict_proba(X_test)"
   ]
  },
  {
   "cell_type": "markdown",
   "id": "38ecd40e-9cdf-4cfd-82ba-069bbac77469",
   "metadata": {},
   "source": [
    "#### Confusion matrix"
   ]
  },
  {
   "cell_type": "code",
   "execution_count": 39,
   "id": "52ba6c21-b083-43e0-ad68-9fb2d08d7b1e",
   "metadata": {},
   "outputs": [
    {
     "data": {
      "image/png": "[encoded data removed]",
      "text/plain": [
       "<Figure size 360x360 with 2 Axes>"
      ]
     },
     "metadata": {
      "needs_background": "light"
     },
     "output_type": "display_data"
    }
   ],
   "source": [
    "from sklearn.metrics import confusion_matrix\n",
    "from matplotlib import pyplot as plt\n",
    "\n",
    "labels = [0, 1]\n",
    "\n",
    "cm_analysis(lgbm_pred, y_seven_day_test, labels, ymap=None, figsize=(5, 5), title='Seven Day Mortality Classifier')"
   ]
  },
  {
   "cell_type": "markdown",
   "id": "a8c4ded6-c998-4684-a15c-76ada2b0fdd6",
   "metadata": {},
   "source": [
    "#### Cross validation"
   ]
  },
  {
   "cell_type": "code",
   "execution_count": 40,
   "id": "d13bda30-c690-4ea3-9cdf-5a545397b4a1",
   "metadata": {},
   "outputs": [
    {
     "name": "stdout",
     "output_type": "stream",
     "text": [
      " mccf1_metric best_threshold\n",
      "    0.8723485              1\n",
      " mccf1_metric best_threshold\n",
      "    0.8750611              1\n",
      " mccf1_metric best_threshold\n",
      "    0.8866589              1\n",
      " mccf1_metric best_threshold\n",
      "    0.8734385              1\n",
      " mccf1_metric best_threshold\n",
      "     0.870377              1\n"
     ]
    },
    {
     "data": {
      "text/plain": [
       "{'fit_time': array([0.33239937, 0.32948828, 0.44694829, 0.34055161, 0.32333922]),\n",
       " 'score_time': array([0.01273394, 0.01253581, 0.01245451, 0.01252007, 0.0123961 ]),\n",
       " 'test_accuracy': array([0.95778364, 0.95950704, 0.96302817, 0.95862676, 0.95774648]),\n",
       " 'test_balanced_accuracy': array([0.87508252, 0.87047422, 0.87991932, 0.87071281, 0.86775423]),\n",
       " 'test_average_precision': array([0.91966827, 0.95052584, 0.93828711, 0.90679625, 0.94343903]),\n",
       " 'test_f1': array([0.84210526, 0.84459459, 0.8590604 , 0.84280936, 0.83892617]),\n",
       " 'test_roc_auc': array([0.97540222, 0.9862259 , 0.97614743, 0.9647724 , 0.98514897]),\n",
       " 'test_mccf1_score': array([0.87234853, 0.87506114, 0.88665887, 0.87343847, 0.87037703])}"
      ]
     },
     "execution_count": 40,
     "metadata": {},
     "output_type": "execute_result"
    }
   ],
   "source": [
    "from sklearn.model_selection import cross_validate\n",
    "\n",
    "lgbm_scores = cross_validate(lgbm, X_train, y_seven_day_train, cv=5, scoring=['accuracy', 'balanced_accuracy', 'average_precision', 'f1', 'roc_auc'])\n",
    "lgbm_scores['test_mccf1_score'] = cross_validate(lgbm, X_train, y_seven_day_train, cv=5, scoring = make_scorer(calculateMccF1, greater_is_better=True))['test_score']\n",
    "lgbm_scores"
   ]
  },
  {
   "cell_type": "markdown",
   "id": "a3b617af-606a-4533-8738-ec5043df5bf7",
   "metadata": {},
   "source": [
    "### Feature Importance"
   ]
  },
  {
   "cell_type": "code",
   "execution_count": 41,
   "id": "941ee04b-fedb-43f5-91fb-0972bb5b0301",
   "metadata": {},
   "outputs": [
    {
     "data": {
      "text/plain": [
       "<BarContainer object of 25 artists>"
      ]
     },
     "execution_count": 41,
     "metadata": {},
     "output_type": "execute_result"
    },
    {
     "data": {
      "image/png": "[encoded data removed]",
      "text/plain": [
       "<Figure size 720x2880 with 1 Axes>"
      ]
     },
     "metadata": {
      "needs_background": "light"
     },
     "output_type": "display_data"
    }
   ],
   "source": [
    "lgbmDf = pd.DataFrame(data=list(zip(X_min.columns, lgbm_min.feature_importances_)), columns=['feature', 'weight'])\n",
    "lgbmDf.sort_values('weight', inplace=True)\n",
    "plt.figure(figsize=(10,40))\n",
    "plt.barh(y=lgbmDf.feature, width=lgbmDf.weight)"
   ]
  },
  {
   "cell_type": "markdown",
   "id": "4e1ea3dd-b0fe-4750-b951-79fa45b5a636",
   "metadata": {},
   "source": [
    "### Multi Layer Perceptron"
   ]
  },
  {
   "cell_type": "code",
   "execution_count": 42,
   "id": "5e654219-3480-40a8-87d7-5223c33676e1",
   "metadata": {},
   "outputs": [],
   "source": [
    "from sklearn.neural_network import MLPClassifier\n",
    "from matplotlib import pyplot as plt"
   ]
  },
  {
   "cell_type": "markdown",
   "id": "d5e0fc5a-e696-46a5-b2bc-e6126c732f23",
   "metadata": {},
   "source": [
    "### Multilater perceptron with selected features"
   ]
  },
  {
   "cell_type": "code",
   "execution_count": 43,
   "id": "7b2d3708-551f-42cc-b4f0-6f6ed364f779",
   "metadata": {},
   "outputs": [
    {
     "name": "stderr",
     "output_type": "stream",
     "text": [
      "/superbugai-data/yash/chapter_1/workspace/ML/mortality/.venv/lib/python3.9/site-packages/sklearn/neural_network/_multilayer_perceptron.py:692: ConvergenceWarning: Stochastic Optimizer: Maximum iterations (300) reached and the optimization hasn't converged yet.\n",
      "  warnings.warn(\n"
     ]
    }
   ],
   "source": [
    "mlp_min = MLPClassifier(random_state=1, max_iter=300, hidden_layer_sizes = (50, 50))\n",
    "mlp_min.fit(X_min_train, y_seven_day_train)\n",
    "\n",
    "mlp_min_pred = mlp_min.predict(X_min_test)\n",
    "mlp_min_prob = mlp_min.predict_proba(X_min_test)"
   ]
  },
  {
   "cell_type": "markdown",
   "id": "3a989d23-a404-4f15-941f-3702d588a87d",
   "metadata": {},
   "source": [
    "#### Confusion matrix"
   ]
  },
  {
   "cell_type": "code",
   "execution_count": 44,
   "id": "c2620afe-0ad5-44f6-92ab-0d82006f6ed6",
   "metadata": {},
   "outputs": [
    {
     "data": {
      "image/png": "[encoded data removed]",
      "text/plain": [
       "<Figure size 360x360 with 2 Axes>"
      ]
     },
     "metadata": {
      "needs_background": "light"
     },
     "output_type": "display_data"
    }
   ],
   "source": [
    "from sklearn.metrics import confusion_matrix\n",
    "from matplotlib import pyplot as plt\n",
    "\n",
    "labels = [0, 1]\n",
    "\n",
    "cm_analysis(mlp_min_pred, y_seven_day_test, labels, ymap=None, figsize=(5, 5), title='Seven Day Mortality Classifier')"
   ]
  },
  {
   "cell_type": "markdown",
   "id": "e0140e18-941c-4fbd-aa18-a04c2825f255",
   "metadata": {},
   "source": [
    "#### Cross validation"
   ]
  },
  {
   "cell_type": "code",
   "execution_count": 45,
   "id": "1e71609e-b23b-46ce-b672-4ec14efd103f",
   "metadata": {},
   "outputs": [
    {
     "name": "stderr",
     "output_type": "stream",
     "text": [
      "/superbugai-data/yash/chapter_1/workspace/ML/mortality/.venv/lib/python3.9/site-packages/sklearn/neural_network/_multilayer_perceptron.py:692: ConvergenceWarning: Stochastic Optimizer: Maximum iterations (300) reached and the optimization hasn't converged yet.\n",
      "  warnings.warn(\n",
      "/superbugai-data/yash/chapter_1/workspace/ML/mortality/.venv/lib/python3.9/site-packages/sklearn/neural_network/_multilayer_perceptron.py:692: ConvergenceWarning: Stochastic Optimizer: Maximum iterations (300) reached and the optimization hasn't converged yet.\n",
      "  warnings.warn(\n",
      "/superbugai-data/yash/chapter_1/workspace/ML/mortality/.venv/lib/python3.9/site-packages/sklearn/neural_network/_multilayer_perceptron.py:692: ConvergenceWarning: Stochastic Optimizer: Maximum iterations (300) reached and the optimization hasn't converged yet.\n",
      "  warnings.warn(\n",
      "/superbugai-data/yash/chapter_1/workspace/ML/mortality/.venv/lib/python3.9/site-packages/sklearn/neural_network/_multilayer_perceptron.py:692: ConvergenceWarning: Stochastic Optimizer: Maximum iterations (300) reached and the optimization hasn't converged yet.\n",
      "  warnings.warn(\n"
     ]
    },
    {
     "name": "stdout",
     "output_type": "stream",
     "text": [
      " mccf1_metric best_threshold\n",
      "    0.7972735              1\n"
     ]
    },
    {
     "name": "stderr",
     "output_type": "stream",
     "text": [
      "/superbugai-data/yash/chapter_1/workspace/ML/mortality/.venv/lib/python3.9/site-packages/sklearn/neural_network/_multilayer_perceptron.py:692: ConvergenceWarning: Stochastic Optimizer: Maximum iterations (300) reached and the optimization hasn't converged yet.\n",
      "  warnings.warn(\n"
     ]
    },
    {
     "name": "stdout",
     "output_type": "stream",
     "text": [
      " mccf1_metric best_threshold\n",
      "    0.8105082              1\n"
     ]
    },
    {
     "name": "stderr",
     "output_type": "stream",
     "text": [
      "/superbugai-data/yash/chapter_1/workspace/ML/mortality/.venv/lib/python3.9/site-packages/sklearn/neural_network/_multilayer_perceptron.py:692: ConvergenceWarning: Stochastic Optimizer: Maximum iterations (300) reached and the optimization hasn't converged yet.\n",
      "  warnings.warn(\n"
     ]
    },
    {
     "name": "stdout",
     "output_type": "stream",
     "text": [
      " mccf1_metric best_threshold\n",
      "    0.8192306              1\n"
     ]
    },
    {
     "name": "stderr",
     "output_type": "stream",
     "text": [
      "/superbugai-data/yash/chapter_1/workspace/ML/mortality/.venv/lib/python3.9/site-packages/sklearn/neural_network/_multilayer_perceptron.py:692: ConvergenceWarning: Stochastic Optimizer: Maximum iterations (300) reached and the optimization hasn't converged yet.\n",
      "  warnings.warn(\n"
     ]
    },
    {
     "name": "stdout",
     "output_type": "stream",
     "text": [
      " mccf1_metric best_threshold\n",
      "    0.8213097              1\n",
      " mccf1_metric best_threshold\n",
      "    0.8113097              1\n"
     ]
    },
    {
     "name": "stderr",
     "output_type": "stream",
     "text": [
      "/superbugai-data/yash/chapter_1/workspace/ML/mortality/.venv/lib/python3.9/site-packages/sklearn/neural_network/_multilayer_perceptron.py:692: ConvergenceWarning: Stochastic Optimizer: Maximum iterations (300) reached and the optimization hasn't converged yet.\n",
      "  warnings.warn(\n"
     ]
    },
    {
     "data": {
      "text/plain": [
       "{'fit_time': array([8.89926147, 8.97964978, 8.84075141, 8.51022339, 8.63016009]),\n",
       " 'score_time': array([0.01075649, 0.010432  , 0.0103209 , 0.01057744, 0.01059127]),\n",
       " 'test_accuracy': array([0.92875989, 0.93221831, 0.9375    , 0.9375    , 0.92957746]),\n",
       " 'test_balanced_accuracy': array([0.84582681, 0.86184081, 0.857561  , 0.86074482, 0.87318187]),\n",
       " 'test_average_precision': array([0.81031332, 0.8032746 , 0.81145448, 0.81150734, 0.8033843 ]),\n",
       " 'test_f1': array([0.75229358, 0.76876877, 0.7788162 , 0.78153846, 0.77011494]),\n",
       " 'test_roc_auc': array([0.9202406 , 0.93741391, 0.91553522, 0.9145102 , 0.93084205]),\n",
       " 'test_mccf1_score': array([0.79727345, 0.81050816, 0.81923055, 0.82130971, 0.81130971])}"
      ]
     },
     "execution_count": 45,
     "metadata": {},
     "output_type": "execute_result"
    }
   ],
   "source": [
    "from sklearn.model_selection import cross_validate\n",
    "\n",
    "mlp_min_scores = cross_validate(mlp_min, X_min_train, y_seven_day_train, cv=5, scoring=['accuracy', 'balanced_accuracy', 'average_precision', 'f1', 'roc_auc'])\n",
    "mlp_min_scores['test_mccf1_score'] = cross_validate(mlp_min, X_min_train, y_seven_day_train, cv=5, scoring = make_scorer(calculateMccF1, greater_is_better=True))['test_score']\n",
    "mlp_min_scores"
   ]
  },
  {
   "cell_type": "markdown",
   "id": "2ffb60ba-3142-4bca-8f67-3a6b40c0cba6",
   "metadata": {},
   "source": [
    "### Multilater perceptron with all features"
   ]
  },
  {
   "cell_type": "code",
   "execution_count": 46,
   "id": "f11d0452-d83c-410c-a4ec-ede81e92dd45",
   "metadata": {},
   "outputs": [],
   "source": [
    "mlp = MLPClassifier(random_state=1, max_iter=300, hidden_layer_sizes = (200, 200))\n",
    "mlp.fit(X_train, y_seven_day_train)\n",
    "\n",
    "mlp_pred = mlp.predict(X_test)\n",
    "mlp_prob = mlp.predict_proba(X_test)"
   ]
  },
  {
   "cell_type": "markdown",
   "id": "05b2d62f-4cca-4611-b503-0026a3fff980",
   "metadata": {},
   "source": [
    "#### Confusion matrix"
   ]
  },
  {
   "cell_type": "code",
   "execution_count": 47,
   "id": "b4cbc7ea-d25b-4b81-8be6-30a01554cc0e",
   "metadata": {},
   "outputs": [
    {
     "data": {
      "image/png": "[encoded data removed]",
      "text/plain": [
       "<Figure size 360x360 with 2 Axes>"
      ]
     },
     "metadata": {
      "needs_background": "light"
     },
     "output_type": "display_data"
    }
   ],
   "source": [
    "from sklearn.metrics import confusion_matrix\n",
    "from matplotlib import pyplot as plt\n",
    "\n",
    "labels = [0, 1]\n",
    "\n",
    "cm_analysis(mlp_pred, y_seven_day_test, labels, ymap=None, figsize=(5, 5), title='Seven Day Mortality Classifier')"
   ]
  },
  {
   "cell_type": "markdown",
   "id": "3671b959-efd6-487b-a0f4-4826f24701a1",
   "metadata": {},
   "source": [
    "#### Cross validation"
   ]
  },
  {
   "cell_type": "code",
   "execution_count": 48,
   "id": "67f13dd7-e270-4143-83c3-f5c31f48bc55",
   "metadata": {},
   "outputs": [
    {
     "name": "stdout",
     "output_type": "stream",
     "text": [
      " mccf1_metric best_threshold\n",
      "    0.8405855              1\n",
      " mccf1_metric best_threshold\n",
      "    0.8795439              1\n",
      " mccf1_metric best_threshold\n",
      "    0.8573375              1\n",
      " mccf1_metric best_threshold\n",
      "    0.8512174              1\n",
      " mccf1_metric best_threshold\n",
      "    0.8557873              1\n"
     ]
    },
    {
     "data": {
      "text/plain": [
       "{'fit_time': array([4.54674888, 4.35567737, 4.51259089, 3.97301865, 4.2654314 ]),\n",
       " 'score_time': array([0.02054358, 0.01973248, 0.0193572 , 0.01923633, 0.01976705]),\n",
       " 'test_accuracy': array([0.94459103, 0.95774648, 0.94982394, 0.94894366, 0.94982394]),\n",
       " 'test_balanced_accuracy': array([0.87221869, 0.90387643, 0.88938902, 0.87479119, 0.8826328 ]),\n",
       " 'test_average_precision': array([0.87449167, 0.90568036, 0.88304305, 0.86233829, 0.87701762]),\n",
       " 'test_f1': array([0.80495356, 0.85276074, 0.82568807, 0.81761006, 0.82352941]),\n",
       " 'test_roc_auc': array([0.9519353 , 0.97389684, 0.95698667, 0.93784841, 0.95109012]),\n",
       " 'test_mccf1_score': array([0.84058547, 0.87954394, 0.85733749, 0.85121738, 0.85578732])}"
      ]
     },
     "execution_count": 48,
     "metadata": {},
     "output_type": "execute_result"
    }
   ],
   "source": [
    "from sklearn.model_selection import cross_validate\n",
    "\n",
    "mlp_scores = cross_validate(mlp, X_train, y_seven_day_train, cv=5, scoring=['accuracy', 'balanced_accuracy', 'average_precision', 'f1', 'roc_auc'])\n",
    "mlp_scores['test_mccf1_score'] = cross_validate(mlp, X_train, y_seven_day_train, cv=5, scoring = make_scorer(calculateMccF1, greater_is_better=True))['test_score']\n",
    "mlp_scores"
   ]
  },
  {
   "cell_type": "markdown",
   "id": "8e426dc9-174d-4dd3-8cf1-15e815070234",
   "metadata": {},
   "source": [
    "## AUROC"
   ]
  },
  {
   "cell_type": "code",
   "execution_count": 49,
   "id": "4e0a7c65-e0df-4d20-8a91-f67e4c6b5691",
   "metadata": {},
   "outputs": [
    {
     "data": {
      "image/png": "[encoded data removed]",
      "text/plain": [
       "<Figure size 1080x720 with 1 Axes>"
      ]
     },
     "metadata": {
      "needs_background": "light"
     },
     "output_type": "display_data"
    }
   ],
   "source": [
    "from sklearn.metrics import roc_curve\n",
    "\n",
    "plt.figure(figsize=(15,10))\n",
    "\n",
    "for (test, prob, label) in [\n",
    "        (y_seven_day_test, xgb_min_prob, 'XGBoost_min')\n",
    "        , (y_seven_day_test, lr_min_prob, 'LR_min')\n",
    "        , (y_seven_day_test, lgbm_min_prob, 'LGBM_min')\n",
    "        , (y_seven_day_test, mlp_min_prob, 'MLP_min')\n",
    "        , (y_seven_day_test, xgb_prob, 'XGBoost')\n",
    "        , (y_seven_day_test, lr_prob, 'LR')\n",
    "        , (y_seven_day_test, lgbm_prob, 'LGBM')\n",
    "        , (y_seven_day_test, mlp_prob, 'MLP')\n",
    "    ]:\n",
    "    fpr, tpr, _ = roc_curve(test, [p2 for p1, p2 in prob])\n",
    "    plt.plot(fpr, tpr, marker='.', label=label)\n",
    "\n",
    "# axis labels\n",
    "plt.xlabel('False Positive Rate')\n",
    "plt.ylabel('True Positive Rate')\n",
    "# show the legend\n",
    "plt.legend()\n",
    "# show the plot\n",
    "plt.show()"
   ]
  },
  {
   "cell_type": "markdown",
   "id": "1a3e4aa7-cce4-45a2-a437-81c2092642c8",
   "metadata": {},
   "source": [
    "## Performance metrics"
   ]
  },
  {
   "cell_type": "code",
   "execution_count": 58,
   "id": "e43c6ae9-0e0d-4f04-a3fc-8917427e0b4e",
   "metadata": {},
   "outputs": [],
   "source": [
    "# labels = ['xgb', 'lr', 'lgbm', 'mlp', 'xgb_min', 'lr_min', 'lgbm_min', 'mlp_min']\n",
    "\n",
    "scores_dict = {'xgb': (xgb_prob, xgb_pred, y_seven_day_test, xgb_scores),\n",
    "               'lr': (lr_prob, lr_pred, y_seven_day_test, lr_scores),\n",
    "               'lgbm': (lgbm_prob, lgbm_pred, y_seven_day_test, lgbm_scores),\n",
    "               'mlp': (mlp_prob, mlp_pred, y_seven_day_test, mlp_scores),\n",
    "               'xgb_min': (xgb_min_prob, xgb_min_pred, y_seven_day_test, xgb_min_scores),\n",
    "               'lr_min': (lr_min_prob, lr_min_pred, y_seven_day_test, lr_min_scores),\n",
    "               'lgbm_min': (lgbm_min_prob, lgbm_min_pred, y_seven_day_test, lgbm_min_scores),\n",
    "               'mlp_min': (lgbm_min_prob, lgbm_min_pred, y_seven_day_test, mlp_min_scores)}\n",
    "\n",
    "labels = []\n",
    "accuracy_scores = []\n",
    "balanced_accuracy_scores = []\n",
    "average_precision_scores = []\n",
    "f1_scores = []\n",
    "roc_auc_scores = []\n",
    "mccf1_scores = []\n",
    "\n",
    "for label, (prob, pred, y, scores) in scores_dict.items():\n",
    "    labels.append(label)\n",
    "    for key, value in scores.items():\n",
    "        if key == 'test_accuracy':\n",
    "            accuracy_scores.append(value)\n",
    "        if key == 'test_balanced_accuracy':\n",
    "            balanced_accuracy_scores.append(value)\n",
    "        if key == 'test_average_precision':\n",
    "            average_precision_scores.append(value)\n",
    "        if key == 'test_f1':\n",
    "            f1_scores.append(value)\n",
    "        if key == 'test_mccf1_score':\n",
    "            mccf1_scores.append(value)\n",
    "        if key == 'test_roc_auc':\n",
    "            roc_auc_scores.append(value)"
   ]
  },
  {
   "cell_type": "code",
   "execution_count": 51,
   "id": "1c1772a7-b844-4a1e-8f98-518e8b2bad9c",
   "metadata": {},
   "outputs": [],
   "source": [
    "import pickle\n",
    "\n",
    "with open('data/model_scores.p', 'wb') as fp:\n",
    "    pickle.dump(scores_dict, fp, protocol=pickle.HIGHEST_PROTOCOL)"
   ]
  },
  {
   "cell_type": "markdown",
   "id": "fbd77ce2-8b0e-49ea-b8b8-f7baedf638f2",
   "metadata": {},
   "source": [
    "### Accuracy scores"
   ]
  },
  {
   "cell_type": "code",
   "execution_count": 52,
   "id": "bc058775-b598-4e42-8287-49ca209e50e0",
   "metadata": {},
   "outputs": [
    {
     "data": {
      "text/plain": [
       "[Text(0, 0.5, 'Model Accuracy')]"
      ]
     },
     "execution_count": 52,
     "metadata": {},
     "output_type": "execute_result"
    },
    {
     "data": {
      "image/png": "[encoded data removed]",
      "text/plain": [
       "<Figure size 1080x576 with 1 Axes>"
      ]
     },
     "metadata": {
      "needs_background": "light"
     },
     "output_type": "display_data"
    }
   ],
   "source": [
    "import matplotlib.pyplot as plt\n",
    "import seaborn as sns\n",
    "\n",
    "plt.figure(figsize=(15,8))\n",
    "ax = sns.boxplot(data=accuracy_scores)\n",
    "ax.set(xticklabels=labels)\n",
    "ax.set(xlabel='Feature Size')\n",
    "ax.set(ylabel='Model Accuracy')"
   ]
  },
  {
   "cell_type": "markdown",
   "id": "182e4593-bb0d-483b-934f-e99e3fffedc6",
   "metadata": {},
   "source": [
    "### Balanced accuracy scores"
   ]
  },
  {
   "cell_type": "code",
   "execution_count": 53,
   "id": "285dfd7b-8143-4741-b4c2-8e7c78c174c3",
   "metadata": {},
   "outputs": [
    {
     "data": {
      "text/plain": [
       "[Text(0, 0.5, 'Model Balanced Accuracy')]"
      ]
     },
     "execution_count": 53,
     "metadata": {},
     "output_type": "execute_result"
    },
    {
     "data": {
      "image/png": "[encoded data removed]",
      "text/plain": [
       "<Figure size 1080x576 with 1 Axes>"
      ]
     },
     "metadata": {
      "needs_background": "light"
     },
     "output_type": "display_data"
    }
   ],
   "source": [
    "import matplotlib.pyplot as plt\n",
    "import seaborn as sns\n",
    "\n",
    "plt.figure(figsize=(15,8))\n",
    "ax = sns.boxplot(data=balanced_accuracy_scores)\n",
    "ax.set(xticklabels=labels)\n",
    "ax.set(xlabel='Feature Size')\n",
    "ax.set(ylabel='Model Balanced Accuracy')"
   ]
  },
  {
   "cell_type": "markdown",
   "id": "65f9628b-4b77-4ce4-9011-6403dfa15e35",
   "metadata": {},
   "source": [
    "### Average Precision scores"
   ]
  },
  {
   "cell_type": "code",
   "execution_count": 54,
   "id": "fa46c706-f704-4556-a313-165a602071aa",
   "metadata": {},
   "outputs": [
    {
     "data": {
      "text/plain": [
       "[Text(0, 0.5, 'Model Average Precision')]"
      ]
     },
     "execution_count": 54,
     "metadata": {},
     "output_type": "execute_result"
    },
    {
     "data": {
      "image/png": "[encoded data removed]",
      "text/plain": [
       "<Figure size 1080x576 with 1 Axes>"
      ]
     },
     "metadata": {
      "needs_background": "light"
     },
     "output_type": "display_data"
    }
   ],
   "source": [
    "import matplotlib.pyplot as plt\n",
    "import seaborn as sns\n",
    "\n",
    "plt.figure(figsize=(15,8))\n",
    "ax = sns.boxplot(data=average_precision_scores)\n",
    "ax.set(xticklabels=labels)\n",
    "ax.set(xlabel='Feature Size')\n",
    "ax.set(ylabel='Model Average Precision')"
   ]
  },
  {
   "cell_type": "markdown",
   "id": "d0855a1a-7145-4bc3-b438-01996272482c",
   "metadata": {},
   "source": [
    "### AUROC scores"
   ]
  },
  {
   "cell_type": "code",
   "execution_count": 55,
   "id": "fe368f2d-3c69-44a7-9b6e-69dd5bdbcc8e",
   "metadata": {},
   "outputs": [
    {
     "data": {
      "text/plain": [
       "[Text(0, 0.5, 'Model AUROC')]"
      ]
     },
     "execution_count": 55,
     "metadata": {},
     "output_type": "execute_result"
    },
    {
     "data": {
      "image/png": "[encoded data removed]",
      "text/plain": [
       "<Figure size 1080x576 with 1 Axes>"
      ]
     },
     "metadata": {
      "needs_background": "light"
     },
     "output_type": "display_data"
    }
   ],
   "source": [
    "import matplotlib.pyplot as plt\n",
    "import seaborn as sns\n",
    "\n",
    "plt.figure(figsize=(15,8))\n",
    "ax = sns.boxplot(data=roc_auc_scores)\n",
    "ax.set(xticklabels=labels)\n",
    "ax.set(xlabel='Feature Size')\n",
    "ax.set(ylabel='Model AUROC')"
   ]
  },
  {
   "cell_type": "markdown",
   "id": "6c4f3994-1832-44e6-b15a-3b293fa568af",
   "metadata": {},
   "source": [
    "### F1 scores"
   ]
  },
  {
   "cell_type": "code",
   "execution_count": 56,
   "id": "eb20e515-ff66-408b-ba87-8213cf647130",
   "metadata": {},
   "outputs": [
    {
     "data": {
      "text/plain": [
       "[Text(0, 0.5, 'Model F1')]"
      ]
     },
     "execution_count": 56,
     "metadata": {},
     "output_type": "execute_result"
    },
    {
     "data": {
      "image/png": "[encoded data removed]",
      "text/plain": [
       "<Figure size 1080x576 with 1 Axes>"
      ]
     },
     "metadata": {
      "needs_background": "light"
     },
     "output_type": "display_data"
    }
   ],
   "source": [
    "import matplotlib.pyplot as plt\n",
    "import seaborn as sns\n",
    "\n",
    "plt.figure(figsize=(15,8))\n",
    "ax = sns.boxplot(data=f1_scores)\n",
    "ax.set(xticklabels=labels)\n",
    "ax.set(xlabel='Feature Size')\n",
    "ax.set(ylabel='Model F1')"
   ]
  },
  {
   "cell_type": "markdown",
   "id": "a14ce407-c4f8-4bf7-9307-9de8216ebf3a",
   "metadata": {},
   "source": [
    "### MCCF1"
   ]
  },
  {
   "cell_type": "code",
   "execution_count": 59,
   "id": "0ad6861d-3381-44d5-b9b6-83c6774e4a2c",
   "metadata": {},
   "outputs": [
    {
     "data": {
      "text/plain": [
       "[Text(0, 0.5, 'Model MCCF1')]"
      ]
     },
     "execution_count": 59,
     "metadata": {},
     "output_type": "execute_result"
    },
    {
     "data": {
      "image/png": "[encoded data removed]",
      "text/plain": [
       "<Figure size 1080x576 with 1 Axes>"
      ]
     },
     "metadata": {
      "needs_background": "light"
     },
     "output_type": "display_data"
    }
   ],
   "source": [
    "import matplotlib.pyplot as plt\n",
    "import seaborn as sns\n",
    "\n",
    "plt.figure(figsize=(15,8))\n",
    "ax = sns.boxplot(data=mccf1_scores)\n",
    "ax.set(xticklabels=labels)\n",
    "ax.set(xlabel='Feature Size')\n",
    "ax.set(ylabel='Model MCCF1')"
   ]
  },
  {
   "cell_type": "markdown",
   "id": "57b533aa-408f-4da8-8245-e0b36954f5be",
   "metadata": {},
   "source": [
    "### Performance metrics table"
   ]
  },
  {
   "cell_type": "code",
   "execution_count": 70,
   "id": "e1e7dffa-b250-4c56-ae5a-1282edca3bd0",
   "metadata": {},
   "outputs": [],
   "source": [
    "def calculateScores(pred, y):\n",
    "    return [\n",
    "        accuracy_score(pred, y),\n",
    "        balanced_accuracy_score(pred, y),\n",
    "        average_precision_score(pred, y),\n",
    "        f1_score(pred, y),\n",
    "        matthews_corrcoef(pred, y),\n",
    "        roc_auc_score(pred, y),\n",
    "        calculateMccF1(pred, y)\n",
    "    ]"
   ]
  },
  {
   "cell_type": "code",
   "execution_count": 78,
   "id": "fc7a29ed-286e-47e1-8733-59786bb5fa18",
   "metadata": {},
   "outputs": [
    {
     "data": {
      "text/html": [
       "<div>\n",
       "<style scoped>\n",
       "    .dataframe tbody tr th:only-of-type {\n",
       "        vertical-align: middle;\n",
       "    }\n",
       "\n",
       "    .dataframe tbody tr th {\n",
       "        vertical-align: top;\n",
       "    }\n",
       "\n",
       "    .dataframe thead th {\n",
       "        text-align: right;\n",
       "    }\n",
       "</style>\n",
       "<table border=\"1\" class=\"dataframe\">\n",
       "  <thead>\n",
       "    <tr style=\"text-align: right;\">\n",
       "      <th></th>\n",
       "      <th>Label</th>\n",
       "      <th>Accuracy</th>\n",
       "      <th>Balanced Accuracy</th>\n",
       "      <th>Average Precision</th>\n",
       "      <th>F1</th>\n",
       "      <th>MCC</th>\n",
       "      <th>ROC</th>\n",
       "      <th>MCCF1</th>\n",
       "    </tr>\n",
       "  </thead>\n",
       "  <tbody>\n",
       "    <tr>\n",
       "      <th>0</th>\n",
       "      <td>XGB</td>\n",
       "      <td>0.971851</td>\n",
       "      <td>0.977271</td>\n",
       "      <td>0.829149</td>\n",
       "      <td>0.906542</td>\n",
       "      <td>0.894005</td>\n",
       "      <td>0.977271</td>\n",
       "      <td>0.924029</td>\n",
       "    </tr>\n",
       "    <tr>\n",
       "      <th>1</th>\n",
       "      <td>LR</td>\n",
       "      <td>0.918367</td>\n",
       "      <td>0.871328</td>\n",
       "      <td>0.553172</td>\n",
       "      <td>0.722488</td>\n",
       "      <td>0.680436</td>\n",
       "      <td>0.871328</td>\n",
       "      <td>0.773568</td>\n",
       "    </tr>\n",
       "    <tr>\n",
       "      <th>2</th>\n",
       "      <td>LGBM</td>\n",
       "      <td>0.973258</td>\n",
       "      <td>0.980218</td>\n",
       "      <td>0.836993</td>\n",
       "      <td>0.911215</td>\n",
       "      <td>0.899524</td>\n",
       "      <td>0.980218</td>\n",
       "      <td>0.927866</td>\n",
       "    </tr>\n",
       "    <tr>\n",
       "      <th>3</th>\n",
       "      <td>MLP</td>\n",
       "      <td>0.949331</td>\n",
       "      <td>0.919380</td>\n",
       "      <td>0.720478</td>\n",
       "      <td>0.837104</td>\n",
       "      <td>0.808337</td>\n",
       "      <td>0.919380</td>\n",
       "      <td>0.866361</td>\n",
       "    </tr>\n",
       "    <tr>\n",
       "      <th>4</th>\n",
       "      <td>XGB_MIN</td>\n",
       "      <td>0.962702</td>\n",
       "      <td>0.948279</td>\n",
       "      <td>0.785802</td>\n",
       "      <td>0.879271</td>\n",
       "      <td>0.858936</td>\n",
       "      <td>0.948279</td>\n",
       "      <td>0.901131</td>\n",
       "    </tr>\n",
       "    <tr>\n",
       "      <th>5</th>\n",
       "      <td>LR_MIN</td>\n",
       "      <td>0.882477</td>\n",
       "      <td>0.822796</td>\n",
       "      <td>0.334208</td>\n",
       "      <td>0.534819</td>\n",
       "      <td>0.500937</td>\n",
       "      <td>0.822796</td>\n",
       "      <td>0.626731</td>\n",
       "    </tr>\n",
       "    <tr>\n",
       "      <th>6</th>\n",
       "      <td>LGBM_MIN</td>\n",
       "      <td>0.957072</td>\n",
       "      <td>0.959151</td>\n",
       "      <td>0.742010</td>\n",
       "      <td>0.853012</td>\n",
       "      <td>0.835603</td>\n",
       "      <td>0.959151</td>\n",
       "      <td>0.880916</td>\n",
       "    </tr>\n",
       "    <tr>\n",
       "      <th>7</th>\n",
       "      <td>MLP_MIN</td>\n",
       "      <td>0.938072</td>\n",
       "      <td>0.893567</td>\n",
       "      <td>0.672396</td>\n",
       "      <td>0.803571</td>\n",
       "      <td>0.767384</td>\n",
       "      <td>0.893567</td>\n",
       "      <td>0.838582</td>\n",
       "    </tr>\n",
       "  </tbody>\n",
       "</table>\n",
       "</div>"
      ],
      "text/plain": [
       "      Label  Accuracy  Balanced Accuracy  Average Precision        F1  \\\n",
       "0       XGB  0.971851           0.977271           0.829149  0.906542   \n",
       "1        LR  0.918367           0.871328           0.553172  0.722488   \n",
       "2      LGBM  0.973258           0.980218           0.836993  0.911215   \n",
       "3       MLP  0.949331           0.919380           0.720478  0.837104   \n",
       "4   XGB_MIN  0.962702           0.948279           0.785802  0.879271   \n",
       "5    LR_MIN  0.882477           0.822796           0.334208  0.534819   \n",
       "6  LGBM_MIN  0.957072           0.959151           0.742010  0.853012   \n",
       "7   MLP_MIN  0.938072           0.893567           0.672396  0.803571   \n",
       "\n",
       "        MCC       ROC     MCCF1  \n",
       "0  0.894005  0.977271  0.924029  \n",
       "1  0.680436  0.871328  0.773568  \n",
       "2  0.899524  0.980218  0.927866  \n",
       "3  0.808337  0.919380  0.866361  \n",
       "4  0.858936  0.948279  0.901131  \n",
       "5  0.500937  0.822796  0.626731  \n",
       "6  0.835603  0.959151  0.880916  \n",
       "7  0.767384  0.893567  0.838582  "
      ]
     },
     "execution_count": 78,
     "metadata": {},
     "output_type": "execute_result"
    }
   ],
   "source": [
    "import pandas as pd\n",
    "\n",
    "from sklearn.metrics import accuracy_score\n",
    "from sklearn.metrics import balanced_accuracy_score\n",
    "from sklearn.metrics import average_precision_score\n",
    "from sklearn.metrics import f1_score\n",
    "from sklearn.metrics import matthews_corrcoef\n",
    "from sklearn.metrics import roc_auc_score\n",
    "\n",
    "data = []\n",
    "data.append([\"XGB\"] + calculateScores(xgb_pred, y_seven_day_test))\n",
    "data.append([\"LR\"] + calculateScores(lr_pred, y_seven_day_test))\n",
    "data.append([\"LGBM\"] + calculateScores(lgbm_pred, y_seven_day_test))\n",
    "data.append([\"MLP\"] + calculateScores(mlp_pred, y_seven_day_test))\n",
    "data.append([\"XGB_MIN\"] + calculateScores(xgb_min_pred, y_seven_day_test))\n",
    "data.append([\"LR_MIN\"] + calculateScores(lr_min_pred, y_seven_day_test))\n",
    "data.append([\"LGBM_MIN\"] + calculateScores(lgbm_min_pred, y_seven_day_test))\n",
    "data.append([\"MLP_MIN\"] + calculateScores(mlp_min_pred, y_seven_day_test))\n",
    "\n",
    "perfromanceDf = pd.DataFrame(data, columns=[\"Label\", \"Accuracy\", \"Balanced Accuracy\", \"Average Precision\", \"F1\", \"MCC\", \"ROC\", \"MCCF1\"])\n",
    "perfromanceDf"
   ]
  }
 ],
 "metadata": {
  "kernelspec": {
   "display_name": "Python 3 (ipykernel)",
   "language": "python",
   "name": "python3"
  },
  "language_info": {
   "codemirror_mode": {
    "name": "ipython",
    "version": 3
   },
   "file_extension": ".py",
   "mimetype": "text/x-python",
   "name": "python",
   "nbconvert_exporter": "python",
   "pygments_lexer": "ipython3",
   "version": "3.9.1"
  }
 },
 "nbformat": 4,
 "nbformat_minor": 5
}
