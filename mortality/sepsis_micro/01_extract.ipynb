{
 "cells": [
  {
   "cell_type": "markdown",
   "id": "598657e6-a7dd-463c-8ee3-4323f58d0e5b",
   "metadata": {},
   "source": [
    "## Import Libraries"
   ]
  },
  {
   "cell_type": "code",
   "execution_count": 1,
   "id": "94d3420e-9f14-465e-973a-5194ec7969de",
   "metadata": {},
   "outputs": [],
   "source": [
    "import os\n",
    "import pandas as pd\n",
    "\n",
    "import psycopg2"
   ]
  },
  {
   "cell_type": "markdown",
   "id": "c8d3f1b6-5d6c-4302-87f2-5daf9cf94227",
   "metadata": {},
   "source": [
    "## Connect to the DB"
   ]
  },
  {
   "cell_type": "code",
   "execution_count": 2,
   "id": "e276586f-4871-49ab-9216-bf2a5b2d2ab5",
   "metadata": {},
   "outputs": [],
   "source": [
    "# information used to create a database connection\n",
    "sqluser = 'postgres'\n",
    "dbname = 'mimic4'\n",
    "hostname = 'localhost'\n",
    "port_number = 5434\n",
    "schema_name = 'omop_cdm'\n",
    "\n",
    "# Connect to postgres with a copy of the MIMIC-III database\n",
    "con = psycopg2.connect(dbname=dbname, user=sqluser, host=hostname, port=port_number, password='mysecretpassword')\n",
    "\n",
    "# the below statement is prepended to queries to ensure they select from the right schema\n",
    "query_schema = 'set search_path to ' + schema_name + ';'"
   ]
  },
  {
   "cell_type": "markdown",
   "id": "fa9ff29c-5fac-45fe-9e82-8f880d7d0850",
   "metadata": {},
   "source": [
    "## Create Schema"
   ]
  },
  {
   "cell_type": "code",
   "execution_count": 3,
   "id": "48b9d26c-9434-432b-89eb-98f3ff55798d",
   "metadata": {},
   "outputs": [],
   "source": [
    "dropSchemaQuery = \"\"\"drop schema if exists sepsis_micro cascade\"\"\"\n",
    "createSchemaQuery = \"\"\"create schema if not exists sepsis_micro\"\"\"\n",
    "\n",
    "with con:\n",
    "    with con.cursor() as cursor:\n",
    "        cursor.execute(dropSchemaQuery)\n",
    "        cursor.execute(createSchemaQuery)"
   ]
  },
  {
   "cell_type": "markdown",
   "id": "f69ea706-1a7d-445e-80de-7dc294719d00",
   "metadata": {},
   "source": [
    "## Cohort Selection"
   ]
  },
  {
   "cell_type": "code",
   "execution_count": 4,
   "id": "a076835f-4158-4e88-8b22-149725405a6c",
   "metadata": {},
   "outputs": [],
   "source": [
    "dropCohortQuery = \"\"\"drop table if exists sepsis_micro.cohort cascade\"\"\"\n",
    "cohortQuery = \"\"\"\n",
    "        create table sepsis_micro.cohort as\n",
    "        with stg1 as\n",
    "        (\n",
    "            select\n",
    "            micro_specimen_id\n",
    "            , subject_id\n",
    "            , min(chartdate) as chartdate\n",
    "            , min(charttime) as charttime\n",
    "            from\n",
    "            mimiciv.microbiologyevents\n",
    "            where\n",
    "            spec_type_desc = 'BLOOD CULTURE'\n",
    "            and org_itemid != 90760\n",
    "            and org_name is not null\n",
    "            group by subject_id, micro_specimen_id\n",
    "        )\n",
    "        select\n",
    "        stg1.micro_specimen_id\n",
    "        , per.person_id\n",
    "        , coalesce(stg1.charttime, stg1.chartdate) as chart_time\n",
    "        from stg1\n",
    "        inner join mimiciv.patients pat\n",
    "        on stg1.subject_id = pat.subject_id\n",
    "        inner join omop_cdm.person per\n",
    "        on per.person_source_value::int = pat.subject_id\n",
    "        where (floor(date_part('day', stg1.chartdate - make_timestamp(pat.anchor_year, 1, 1, 0, 0, 0))/365.0) + pat.anchor_age) > 18\n",
    "        ;\n",
    "    \"\"\"\n",
    "\n",
    "with con:\n",
    "    with con.cursor() as cursor:\n",
    "        cursor.execute(dropCohortQuery)\n",
    "        cursor.execute(cohortQuery)"
   ]
  },
  {
   "cell_type": "code",
   "execution_count": 5,
   "id": "378bf7ad-6660-4537-9b81-4c188a722886",
   "metadata": {},
   "outputs": [
    {
     "data": {
      "text/plain": [
       "25784"
      ]
     },
     "execution_count": 5,
     "metadata": {},
     "output_type": "execute_result"
    }
   ],
   "source": [
    "cohortCountQuery = \"\"\"select count(*) from sepsis_micro.cohort;\"\"\"\n",
    "cohortCountDf = pd.read_sql_query(cohortCountQuery, con)\n",
    "cohortCount = cohortCountDf['count'][0]\n",
    "cohortCount"
   ]
  },
  {
   "cell_type": "markdown",
   "id": "cd77a7c2-92fc-4b4c-b4ac-2bdee48cc0ff",
   "metadata": {},
   "source": [
    "## Static Data"
   ]
  },
  {
   "cell_type": "code",
   "execution_count": 6,
   "id": "9fc5e691-cbaf-4ab9-87b6-b073a6c0f730",
   "metadata": {},
   "outputs": [],
   "source": [
    "dropStaticQuery = \"\"\"drop table if exists sepsis_micro.static cascade\"\"\"\n",
    "staticQuery = \"\"\"\n",
    "    create table sepsis_micro.static as\n",
    "    select\n",
    "    coh.micro_specimen_id as micro_specimen_id,\n",
    "    coh.person_id as person_id,\n",
    "    per.gender_source_value as gender_source_value,\n",
    "    con_vo.concept_name AS visit_occurrence_concept_name,\n",
    "    (DATE_PART('day', (vo.visit_end_datetime - vo.visit_start_datetime)) * 24) + DATE_PART('hour', (vo.visit_end_datetime - vo.visit_start_datetime)) AS visit_duration_hrs,\n",
    "    con_src.concept_name AS visit_source_concept_name,\n",
    "    vo.admitting_source_value AS admitting_source_value,\n",
    "    (floor(date_part('day', coh.chart_time - make_timestamp(pat.anchor_year, 1, 1, 0, 0, 0))/365.0) + pat.anchor_age) as age\n",
    "    from\n",
    "    sepsis_micro.cohort coh\n",
    "    inner join omop_cdm.person per\n",
    "    on coh.person_id = per.person_id\n",
    "    inner join mimiciv.patients pat\n",
    "    on pat.subject_id = per.person_source_value::int\n",
    "    inner join omop_cdm.visit_occurrence vo\n",
    "    on vo.person_id = per.person_id\n",
    "    and (vo.visit_start_datetime < coh.chart_time) and (vo.visit_end_datetime > coh.chart_time)\n",
    "    inner join omop_cdm.concept con_vo\n",
    "    on con_vo.concept_id = vo.visit_concept_id\n",
    "    inner join omop_cdm.concept con_src\n",
    "    on con_src.concept_id = vo.visit_source_concept_id\n",
    "    ;\n",
    "    \"\"\"\n",
    "\n",
    "with con:\n",
    "    with con.cursor() as cursor:\n",
    "        cursor.execute(dropStaticQuery)\n",
    "        cursor.execute(staticQuery)"
   ]
  },
  {
   "cell_type": "code",
   "execution_count": 7,
   "id": "2b4f56cb-5333-4601-b043-bc02ccf90e73",
   "metadata": {},
   "outputs": [
    {
     "data": {
      "text/plain": [
       "24272"
      ]
     },
     "execution_count": 7,
     "metadata": {},
     "output_type": "execute_result"
    }
   ],
   "source": [
    "staticCountQuery = \"\"\"select count(*) from sepsis_micro.static;\"\"\"\n",
    "staticCountDf = pd.read_sql_query(staticCountQuery, con)\n",
    "staticCount = staticCountDf['count'][0]\n",
    "staticCount"
   ]
  },
  {
   "cell_type": "markdown",
   "id": "dbf51705-27b9-494b-b607-1f6327bd9a99",
   "metadata": {},
   "source": [
    "## Vitals data"
   ]
  },
  {
   "cell_type": "code",
   "execution_count": 8,
   "id": "f438da32-e135-43a6-b4b1-993e96f5b17f",
   "metadata": {},
   "outputs": [],
   "source": [
    "dropVitalsQuery = \"\"\"drop table if exists sepsis_micro.vitals cascade\"\"\"\n",
    "vitalsQuery = \"\"\"\n",
    "    create table sepsis_micro.vitals as\n",
    "    with vitals_stg_1 as\n",
    "    (\n",
    "        select\n",
    "        coh.micro_specimen_id as micro_specimen_id,\n",
    "        mmt.person_id as person_id,\n",
    "        mmt.measurement_datetime as measurement_datetime,\n",
    "        mmt.unit_source_value as unit_source_value,\n",
    "        mmt.value_as_number as value_as_number,\n",
    "        cpt.concept_name as concept_name\n",
    "        from\n",
    "        omop_cdm.measurement mmt\n",
    "        inner join omop_cdm.concept cpt\n",
    "        on cpt.concept_id = mmt.measurement_concept_id\n",
    "        inner join sepsis_micro.cohort coh\n",
    "        on coh.person_id = mmt.person_id\n",
    "        where\n",
    "        measurement_concept_id in (\n",
    "        3027018 -- Heart rate\n",
    "        , 21492239, 3004249 -- Systolic blood pressure\n",
    "        , 21492240, 3012888 -- Diastolic blood pressure\n",
    "        , 3027598, 21492241 -- Mean blood pressure\n",
    "        , 1175625, 3024171, 3007469 -- Respiratory rate\n",
    "        , 3020891 -- Body temperature\n",
    "        , 40762499 -- Oxygen saturation in Arterial blood by Pulse oximetry\n",
    "        , 3016335 -- Glasgow coma score eye opening\n",
    "        , 3009094 -- Glasgow coma score verbal\n",
    "        , 3008223 -- Glasgow coma score motor\n",
    "        )\n",
    "        and value_as_number is not null\n",
    "        and (mmt.measurement_datetime > coh.chart_time - interval '48 hour')\n",
    "        and (mmt.measurement_datetime < coh.chart_time + interval '48 hour')\n",
    "    )\n",
    "    , vitals_stg_2 AS\n",
    "    (\n",
    "      select\n",
    "        micro_specimen_id,\n",
    "        person_id,\n",
    "        measurement_datetime,\n",
    "        unit_source_value,\n",
    "        value_as_number,\n",
    "        concept_name,\n",
    "        row_number() over (partition by person_id, concept_name order by measurement_datetime) as rn\n",
    "      from vitals_stg_1\n",
    "    )\n",
    "    select * from vitals_stg_2\n",
    "    ;\n",
    "    \"\"\"\n",
    "\n",
    "with con:\n",
    "    with con.cursor() as cursor:\n",
    "        cursor.execute(dropVitalsQuery)\n",
    "        cursor.execute(vitalsQuery)"
   ]
  },
  {
   "cell_type": "code",
   "execution_count": 9,
   "id": "db4d983e-ec16-4b97-b639-6f43c0fbfa89",
   "metadata": {},
   "outputs": [
    {
     "data": {
      "text/plain": [
       "4205220"
      ]
     },
     "execution_count": 9,
     "metadata": {},
     "output_type": "execute_result"
    }
   ],
   "source": [
    "vitalsCountQuery = \"\"\"select count(*) from sepsis_micro.vitals;\"\"\"\n",
    "vitalsCountDf = pd.read_sql_query(vitalsCountQuery, con)\n",
    "vitalsCount = vitalsCountDf['count'][0]\n",
    "vitalsCount"
   ]
  },
  {
   "cell_type": "markdown",
   "id": "51077b15-0f27-4812-8222-540b0dca5f6f",
   "metadata": {},
   "source": [
    "## Lab Measurements Data"
   ]
  },
  {
   "cell_type": "code",
   "execution_count": 10,
   "id": "1ff7d87a-d136-4e03-b3ea-43549b2abb9a",
   "metadata": {},
   "outputs": [],
   "source": [
    "dropLabsQuery = \"\"\"drop table if exists sepsis_micro.lab_measurements cascade\"\"\"\n",
    "labsQuery = \"\"\"\n",
    "    create table sepsis_micro.lab_measurements as\n",
    "    with labs_stg_1 as\n",
    "        (\n",
    "            select\n",
    "            coh.micro_specimen_id as micro_specimen_id,\n",
    "            mmt.person_id AS person_id,\n",
    "            measurement_datetime as measurement_datetime,\n",
    "            unit_source_value as unit_source_value,\n",
    "            value_as_number as value_as_number,\n",
    "            cpt.concept_name as concept_name\n",
    "            from\n",
    "            etl_dataset_temp.measurement mmt\n",
    "            inner join omop_cdm.concept cpt\n",
    "            on cpt.concept_id = mmt.measurement_concept_id\n",
    "            inner join sepsis_micro.cohort coh\n",
    "            on coh.person_id = mmt.person_id\n",
    "            where\n",
    "            measurement_concept_id in (\n",
    "            3047181\t-- Lactate [Moles/volume] in Blood\n",
    "            , 3013290\t-- Carbon dioxide [Partial pressure] in Blood\n",
    "            , 3024561\t-- Albumin [Mass/volume] in Serum or Plasma\n",
    "            , 3024629\t-- Glucose [Mass/volume] in Urine by Test strip\n",
    "            , 3008939\t-- Band form neutrophils [#/volume] in Blood by Manual count\n",
    "            , 3012501\t-- Base excess in Blood by calculation\n",
    "            , 3005456\t-- Potassium [Moles/volume] in Blood\n",
    "            , 3010421\t-- pH of Blood\n",
    "            , 3014576\t-- Chloride [Moles/volume] in Serum or Plasma\n",
    "            , 3031147\t-- Carbon dioxide, total [Moles/volume] in Blood by calculation\n",
    "            , 3024128\t-- Bilirubin.total [Mass/volume] in Serum or Plasma\n",
    "            , 3000905\t-- Leukocytes [#/volume] in Blood by Automated count\n",
    "            , 3016723\t-- Creatinine [Mass/volume] in Serum or Plasma\n",
    "            , 3022217\t-- INR in Platelet poor plasma by Coagulation assay\n",
    "            , 3019550\t-- Sodium [Moles/volume] in Serum or Plasma\n",
    "            , 3000285\t-- Sodium [Moles/volume] in Blood\n",
    "            , 3000963\t-- Hemoglobin [Mass/volume] in Blood\n",
    "            , 3000963\t-- Hemoglobin [Mass/volume] in Blood\n",
    "            , 3018672\t-- pH of Body fluid\n",
    "            , 3024929\t-- Platelets [#/volume] in Blood by Automated count\n",
    "            , 3013682\t-- Urea nitrogen [Mass/volume] in Serum or Plasma\n",
    "            , 3004501\t-- Glucose [Mass/volume] in Serum or Plasma\n",
    "            , 3018572\t-- Chloride [Moles/volume] in Blood\n",
    "            , 3027315\t-- Oxygen [Partial pressure] in Blood\n",
    "            , 3016293\t-- Bicarbonate [Moles/volume] in Serum or Plasma\n",
    "            , 3023103\t-- Potassium [Moles/volume] in Serum or Plasma\n",
    "            , 3037278\t-- Anion gap 4 in Serum or Plasma\n",
    "            , 3003282\t-- Leukocytes [#/volume] in Blood by Manual count\n",
    "            , 3023314\t-- Hematocrit [Volume Fraction] of Blood by Automated count\n",
    "            , 3013466\t-- aPTT in Blood by Coagulation assay\n",
    "            )\n",
    "            and value_as_number is not null\n",
    "            and (mmt.measurement_datetime > coh.chart_time - interval '72 hour')\n",
    "            and (mmt.measurement_datetime < coh.chart_time + interval '72 hour')\n",
    "        )\n",
    "        , labs_stg_2 as\n",
    "        (\n",
    "          select\n",
    "            micro_specimen_id,\n",
    "            person_id,\n",
    "            measurement_datetime,\n",
    "            unit_source_value,\n",
    "            value_as_number,\n",
    "            concept_name,\n",
    "            row_number() over (partition by person_id, concept_name order by measurement_datetime) as rn\n",
    "          from labs_stg_1\n",
    "        )\n",
    "        select * from labs_stg_2\n",
    "    ;\n",
    "    \"\"\"\n",
    "\n",
    "with con:\n",
    "    with con.cursor() as cursor:\n",
    "        cursor.execute(dropLabsQuery)\n",
    "        cursor.execute(labsQuery)"
   ]
  },
  {
   "cell_type": "code",
   "execution_count": 11,
   "id": "989a0bb9-bc24-4b82-86f1-3f5e19b042ce",
   "metadata": {},
   "outputs": [
    {
     "data": {
      "text/plain": [
       "378863"
      ]
     },
     "execution_count": 11,
     "metadata": {},
     "output_type": "execute_result"
    }
   ],
   "source": [
    "labsCountQuery = \"\"\"select count(*) from sepsis_micro.lab_measurements;\"\"\"\n",
    "labsCountDf = pd.read_sql_query(labsCountQuery, con)\n",
    "labsCount = labsCountDf['count'][0]\n",
    "labsCount"
   ]
  },
  {
   "cell_type": "markdown",
   "id": "009d1d87-864a-41d7-b7e6-d382a672d61f",
   "metadata": {},
   "source": [
    "## Mortality Data"
   ]
  },
  {
   "cell_type": "code",
   "execution_count": 12,
   "id": "81d893bf-bd1b-4ebb-ba1e-0ff00cda371f",
   "metadata": {},
   "outputs": [],
   "source": [
    "dropMortalityQuery = \"\"\"drop table if exists sepsis_micro.mortality cascade\"\"\"\n",
    "mortalityQuery = \"\"\"\n",
    "    create table sepsis_micro.mortality as\n",
    "    select\n",
    "    coh.micro_specimen_id as micro_specimen_id,\n",
    "    coh.person_id as person_id\n",
    "    , case when dth.person_id is null then false else (coh.chart_time + interval '7 day' >= dth.death_datetime) end as seven_day_mortality\n",
    "    , case when dth.person_id is null then false else (coh.chart_time + interval '14 day' >= dth.death_datetime) end as fourteen_day_mortality\n",
    "    , case when dth.person_id is null then false else (coh.chart_time + interval '21 day' >= dth.death_datetime) end as twentyone_day_mortality\n",
    "    , case when dth.person_id is null then false else (coh.chart_time + interval '28 day' >= dth.death_datetime) end as twentyeight_day_mortality\n",
    "    , case when dth.person_id is null then false else (coh.chart_time + interval '60 day' >= dth.death_datetime) end as sixty_day_mortality\n",
    "    , case when dth.person_id is null then false else (coh.chart_time + interval '90 day' >= dth.death_datetime) end as ninety_day_mortality\n",
    "    , case when dth.person_id is null then false else (coh.chart_time + interval '120 day' >= dth.death_datetime) end as onetwenty_day_mortality\n",
    "    from\n",
    "    sepsis_micro.cohort coh\n",
    "    left join omop_cdm.death dth\n",
    "    on dth.person_id = coh.person_id\n",
    "    ;\n",
    "    \"\"\"\n",
    "with con:\n",
    "    with con.cursor() as cursor:\n",
    "        cursor.execute(dropMortalityQuery)\n",
    "        cursor.execute(mortalityQuery)"
   ]
  },
  {
   "cell_type": "code",
   "execution_count": 13,
   "id": "51a3d5ed-5074-48bf-a002-34401474c998",
   "metadata": {},
   "outputs": [
    {
     "data": {
      "text/plain": [
       "25784"
      ]
     },
     "execution_count": 13,
     "metadata": {},
     "output_type": "execute_result"
    }
   ],
   "source": [
    "mortalityCountQuery = \"\"\"select count(*) from sepsis_micro.mortality;\"\"\"\n",
    "mortalityCountDf = pd.read_sql_query(mortalityCountQuery, con)\n",
    "mortalityCount = mortalityCountDf['count'][0]\n",
    "mortalityCount"
   ]
  }
 ],
 "metadata": {
  "kernelspec": {
   "display_name": "Python 3 (ipykernel)",
   "language": "python",
   "name": "python3"
  },
  "language_info": {
   "codemirror_mode": {
    "name": "ipython",
    "version": 3
   },
   "file_extension": ".py",
   "mimetype": "text/x-python",
   "name": "python",
   "nbconvert_exporter": "python",
   "pygments_lexer": "ipython3",
   "version": "3.9.1"
  }
 },
 "nbformat": 4,
 "nbformat_minor": 5
}
