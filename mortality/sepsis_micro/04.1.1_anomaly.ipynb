{
 "cells": [
  {
   "cell_type": "markdown",
   "id": "cd04f745-36ea-401b-9730-a724c4b5745f",
   "metadata": {},
   "source": [
    "## Load libraries"
   ]
  },
  {
   "cell_type": "code",
   "execution_count": 1,
   "id": "f33fadff-c5c6-4ac3-8047-3562802bcb50",
   "metadata": {},
   "outputs": [],
   "source": [
    "library(outlierensembles)\n",
    "library(DDoutlier)"
   ]
  },
  {
   "cell_type": "markdown",
   "id": "a70e254d-1790-4162-9bcf-c9c6b8211864",
   "metadata": {},
   "source": [
    "## Load data"
   ]
  },
  {
   "cell_type": "code",
   "execution_count": 2,
   "id": "bbbcf4d3-7bd4-4d1d-907b-2274bfe0fdae",
   "metadata": {},
   "outputs": [],
   "source": [
    "data.dir <- paste(getwd(), \"data\", sep=\"/\")\n",
    "data.matrix.original <- paste(data.dir, \"data_matrix_qc_1.csv\", sep=\"/\")"
   ]
  },
  {
   "cell_type": "markdown",
   "id": "30fe1cf6-5a34-4a9d-8eb2-f8651e8029fa",
   "metadata": {},
   "source": [
    "## Format data"
   ]
  },
  {
   "cell_type": "code",
   "execution_count": 3,
   "id": "117220ef-0df5-4cea-ab21-4c7a40c44d7b",
   "metadata": {},
   "outputs": [
    {
     "data": {
      "text/html": [
       "<table class=\"dataframe\">\n",
       "<caption>A data.frame: 6 × 166</caption>\n",
       "<thead>\n",
       "\t<tr><th></th><th scope=col>seven_day_mortality</th><th scope=col>fourteen_day_mortality</th><th scope=col>twentyone_day_mortality</th><th scope=col>twentyeight_day_mortality</th><th scope=col>sixty_day_mortality</th><th scope=col>ninety_day_mortality</th><th scope=col>onetwenty_day_mortality</th><th scope=col>Ambulatory.Clinic...Center</th><th scope=col>Ambulatory.Surgical.Center</th><th scope=col>Emergency.Room...Hospital</th><th scope=col>⋯</th><th scope=col>hemoglobin_first</th><th scope=col>creatinine_first</th><th scope=col>potassium_last</th><th scope=col>chloride_last</th><th scope=col>glucose_last</th><th scope=col>sodium_last</th><th scope=col>bicarbonate_last</th><th scope=col>hemoglobin_last</th><th scope=col>creatinine_last</th><th scope=col>time_to_antibiotic</th></tr>\n",
       "\t<tr><th></th><th scope=col>&lt;dbl&gt;</th><th scope=col>&lt;dbl&gt;</th><th scope=col>&lt;dbl&gt;</th><th scope=col>&lt;dbl&gt;</th><th scope=col>&lt;dbl&gt;</th><th scope=col>&lt;dbl&gt;</th><th scope=col>&lt;dbl&gt;</th><th scope=col>&lt;dbl&gt;</th><th scope=col>&lt;dbl&gt;</th><th scope=col>&lt;dbl&gt;</th><th scope=col>⋯</th><th scope=col>&lt;dbl&gt;</th><th scope=col>&lt;dbl&gt;</th><th scope=col>&lt;dbl&gt;</th><th scope=col>&lt;dbl&gt;</th><th scope=col>&lt;dbl&gt;</th><th scope=col>&lt;dbl&gt;</th><th scope=col>&lt;dbl&gt;</th><th scope=col>&lt;dbl&gt;</th><th scope=col>&lt;dbl&gt;</th><th scope=col>&lt;dbl&gt;</th></tr>\n",
       "</thead>\n",
       "<tbody>\n",
       "\t<tr><th scope=row>2940</th><td>0</td><td>0</td><td>0</td><td>1</td><td>1</td><td>1</td><td>1</td><td>0</td><td>0</td><td>1</td><td>⋯</td><td>-0.5863791</td><td> 2.44104127</td><td>-0.05335977</td><td>-0.8047264</td><td> 0.7267777</td><td>-0.8003289</td><td> 0.04854061</td><td>-0.85754314</td><td>-0.077536416</td><td> 0.01877790</td></tr>\n",
       "\t<tr><th scope=row>3236</th><td>0</td><td>1</td><td>1</td><td>1</td><td>1</td><td>1</td><td>1</td><td>0</td><td>0</td><td>1</td><td>⋯</td><td>-0.9423671</td><td>-0.06698246</td><td> 1.67759695</td><td>-1.8403146</td><td> 0.6153965</td><td>-1.7450004</td><td> 0.62190535</td><td>-1.03771174</td><td> 0.988716133</td><td> 0.01877790</td></tr>\n",
       "\t<tr><th scope=row>3720</th><td>0</td><td>0</td><td>0</td><td>0</td><td>0</td><td>0</td><td>0</td><td>0</td><td>0</td><td>0</td><td>⋯</td><td>-0.5355237</td><td>-0.34565176</td><td>-1.43812515</td><td>-1.6923735</td><td> 1.3765017</td><td>-0.9892632</td><td> 1.00414851</td><td>-0.37709353</td><td>-0.290786926</td><td> 0.02208091</td></tr>\n",
       "\t<tr><th scope=row>5214</th><td>0</td><td>0</td><td>0</td><td>0</td><td>0</td><td>0</td><td>0</td><td>0</td><td>0</td><td>0</td><td>⋯</td><td>-0.7898008</td><td>-0.55465374</td><td> 0.29283158</td><td>-0.5088441</td><td>-0.1642723</td><td>-1.7450004</td><td>-1.09818886</td><td>-0.67737453</td><td>-0.504037436</td><td>-1.10796089</td></tr>\n",
       "\t<tr><th scope=row>10611</th><td>0</td><td>0</td><td>0</td><td>0</td><td>0</td><td>0</td><td>0</td><td>0</td><td>0</td><td>1</td><td>⋯</td><td> 1.0918496</td><td>-0.76365572</td><td>-0.39955111</td><td> 1.4143911</td><td> 0.7639048</td><td> 0.3332769</td><td>-0.33370255</td><td> 0.04329988</td><td>-0.859454953</td><td> 0.03405431</td></tr>\n",
       "\t<tr><th scope=row>10923</th><td>0</td><td>0</td><td>0</td><td>1</td><td>1</td><td>1</td><td>1</td><td>0</td><td>0</td><td>1</td><td>⋯</td><td>-0.6880900</td><td> 0.28135417</td><td>-0.57264679</td><td> 0.2308617</td><td>-0.6283608</td><td>-0.9892632</td><td>-1.48043202</td><td>-0.97765554</td><td>-0.006452913</td><td> 0.03281568</td></tr>\n",
       "</tbody>\n",
       "</table>\n"
      ],
      "text/latex": [
       "A data.frame: 6 × 166\n",
       "\\begin{tabular}{r|lllllllllllllllllllll}\n",
       "  & seven\\_day\\_mortality & fourteen\\_day\\_mortality & twentyone\\_day\\_mortality & twentyeight\\_day\\_mortality & sixty\\_day\\_mortality & ninety\\_day\\_mortality & onetwenty\\_day\\_mortality & Ambulatory.Clinic...Center & Ambulatory.Surgical.Center & Emergency.Room...Hospital & ⋯ & hemoglobin\\_first & creatinine\\_first & potassium\\_last & chloride\\_last & glucose\\_last & sodium\\_last & bicarbonate\\_last & hemoglobin\\_last & creatinine\\_last & time\\_to\\_antibiotic\\\\\n",
       "  & <dbl> & <dbl> & <dbl> & <dbl> & <dbl> & <dbl> & <dbl> & <dbl> & <dbl> & <dbl> & ⋯ & <dbl> & <dbl> & <dbl> & <dbl> & <dbl> & <dbl> & <dbl> & <dbl> & <dbl> & <dbl>\\\\\n",
       "\\hline\n",
       "\t2940 & 0 & 0 & 0 & 1 & 1 & 1 & 1 & 0 & 0 & 1 & ⋯ & -0.5863791 &  2.44104127 & -0.05335977 & -0.8047264 &  0.7267777 & -0.8003289 &  0.04854061 & -0.85754314 & -0.077536416 &  0.01877790\\\\\n",
       "\t3236 & 0 & 1 & 1 & 1 & 1 & 1 & 1 & 0 & 0 & 1 & ⋯ & -0.9423671 & -0.06698246 &  1.67759695 & -1.8403146 &  0.6153965 & -1.7450004 &  0.62190535 & -1.03771174 &  0.988716133 &  0.01877790\\\\\n",
       "\t3720 & 0 & 0 & 0 & 0 & 0 & 0 & 0 & 0 & 0 & 0 & ⋯ & -0.5355237 & -0.34565176 & -1.43812515 & -1.6923735 &  1.3765017 & -0.9892632 &  1.00414851 & -0.37709353 & -0.290786926 &  0.02208091\\\\\n",
       "\t5214 & 0 & 0 & 0 & 0 & 0 & 0 & 0 & 0 & 0 & 0 & ⋯ & -0.7898008 & -0.55465374 &  0.29283158 & -0.5088441 & -0.1642723 & -1.7450004 & -1.09818886 & -0.67737453 & -0.504037436 & -1.10796089\\\\\n",
       "\t10611 & 0 & 0 & 0 & 0 & 0 & 0 & 0 & 0 & 0 & 1 & ⋯ &  1.0918496 & -0.76365572 & -0.39955111 &  1.4143911 &  0.7639048 &  0.3332769 & -0.33370255 &  0.04329988 & -0.859454953 &  0.03405431\\\\\n",
       "\t10923 & 0 & 0 & 0 & 1 & 1 & 1 & 1 & 0 & 0 & 1 & ⋯ & -0.6880900 &  0.28135417 & -0.57264679 &  0.2308617 & -0.6283608 & -0.9892632 & -1.48043202 & -0.97765554 & -0.006452913 &  0.03281568\\\\\n",
       "\\end{tabular}\n"
      ],
      "text/markdown": [
       "\n",
       "A data.frame: 6 × 166\n",
       "\n",
       "| <!--/--> | seven_day_mortality &lt;dbl&gt; | fourteen_day_mortality &lt;dbl&gt; | twentyone_day_mortality &lt;dbl&gt; | twentyeight_day_mortality &lt;dbl&gt; | sixty_day_mortality &lt;dbl&gt; | ninety_day_mortality &lt;dbl&gt; | onetwenty_day_mortality &lt;dbl&gt; | Ambulatory.Clinic...Center &lt;dbl&gt; | Ambulatory.Surgical.Center &lt;dbl&gt; | Emergency.Room...Hospital &lt;dbl&gt; | ⋯ ⋯ | hemoglobin_first &lt;dbl&gt; | creatinine_first &lt;dbl&gt; | potassium_last &lt;dbl&gt; | chloride_last &lt;dbl&gt; | glucose_last &lt;dbl&gt; | sodium_last &lt;dbl&gt; | bicarbonate_last &lt;dbl&gt; | hemoglobin_last &lt;dbl&gt; | creatinine_last &lt;dbl&gt; | time_to_antibiotic &lt;dbl&gt; |\n",
       "|---|---|---|---|---|---|---|---|---|---|---|---|---|---|---|---|---|---|---|---|---|---|\n",
       "| 2940 | 0 | 0 | 0 | 1 | 1 | 1 | 1 | 0 | 0 | 1 | ⋯ | -0.5863791 |  2.44104127 | -0.05335977 | -0.8047264 |  0.7267777 | -0.8003289 |  0.04854061 | -0.85754314 | -0.077536416 |  0.01877790 |\n",
       "| 3236 | 0 | 1 | 1 | 1 | 1 | 1 | 1 | 0 | 0 | 1 | ⋯ | -0.9423671 | -0.06698246 |  1.67759695 | -1.8403146 |  0.6153965 | -1.7450004 |  0.62190535 | -1.03771174 |  0.988716133 |  0.01877790 |\n",
       "| 3720 | 0 | 0 | 0 | 0 | 0 | 0 | 0 | 0 | 0 | 0 | ⋯ | -0.5355237 | -0.34565176 | -1.43812515 | -1.6923735 |  1.3765017 | -0.9892632 |  1.00414851 | -0.37709353 | -0.290786926 |  0.02208091 |\n",
       "| 5214 | 0 | 0 | 0 | 0 | 0 | 0 | 0 | 0 | 0 | 0 | ⋯ | -0.7898008 | -0.55465374 |  0.29283158 | -0.5088441 | -0.1642723 | -1.7450004 | -1.09818886 | -0.67737453 | -0.504037436 | -1.10796089 |\n",
       "| 10611 | 0 | 0 | 0 | 0 | 0 | 0 | 0 | 0 | 0 | 1 | ⋯ |  1.0918496 | -0.76365572 | -0.39955111 |  1.4143911 |  0.7639048 |  0.3332769 | -0.33370255 |  0.04329988 | -0.859454953 |  0.03405431 |\n",
       "| 10923 | 0 | 0 | 0 | 1 | 1 | 1 | 1 | 0 | 0 | 1 | ⋯ | -0.6880900 |  0.28135417 | -0.57264679 |  0.2308617 | -0.6283608 | -0.9892632 | -1.48043202 | -0.97765554 | -0.006452913 |  0.03281568 |\n",
       "\n"
      ],
      "text/plain": [
       "      seven_day_mortality fourteen_day_mortality twentyone_day_mortality\n",
       "2940  0                   0                      0                      \n",
       "3236  0                   1                      1                      \n",
       "3720  0                   0                      0                      \n",
       "5214  0                   0                      0                      \n",
       "10611 0                   0                      0                      \n",
       "10923 0                   0                      0                      \n",
       "      twentyeight_day_mortality sixty_day_mortality ninety_day_mortality\n",
       "2940  1                         1                   1                   \n",
       "3236  1                         1                   1                   \n",
       "3720  0                         0                   0                   \n",
       "5214  0                         0                   0                   \n",
       "10611 0                         0                   0                   \n",
       "10923 1                         1                   1                   \n",
       "      onetwenty_day_mortality Ambulatory.Clinic...Center\n",
       "2940  1                       0                         \n",
       "3236  1                       0                         \n",
       "3720  0                       0                         \n",
       "5214  0                       0                         \n",
       "10611 0                       0                         \n",
       "10923 1                       0                         \n",
       "      Ambulatory.Surgical.Center Emergency.Room...Hospital ⋯ hemoglobin_first\n",
       "2940  0                          1                         ⋯ -0.5863791      \n",
       "3236  0                          1                         ⋯ -0.9423671      \n",
       "3720  0                          0                         ⋯ -0.5355237      \n",
       "5214  0                          0                         ⋯ -0.7898008      \n",
       "10611 0                          1                         ⋯  1.0918496      \n",
       "10923 0                          1                         ⋯ -0.6880900      \n",
       "      creatinine_first potassium_last chloride_last glucose_last sodium_last\n",
       "2940   2.44104127      -0.05335977    -0.8047264     0.7267777   -0.8003289 \n",
       "3236  -0.06698246       1.67759695    -1.8403146     0.6153965   -1.7450004 \n",
       "3720  -0.34565176      -1.43812515    -1.6923735     1.3765017   -0.9892632 \n",
       "5214  -0.55465374       0.29283158    -0.5088441    -0.1642723   -1.7450004 \n",
       "10611 -0.76365572      -0.39955111     1.4143911     0.7639048    0.3332769 \n",
       "10923  0.28135417      -0.57264679     0.2308617    -0.6283608   -0.9892632 \n",
       "      bicarbonate_last hemoglobin_last creatinine_last time_to_antibiotic\n",
       "2940   0.04854061      -0.85754314     -0.077536416     0.01877790       \n",
       "3236   0.62190535      -1.03771174      0.988716133     0.01877790       \n",
       "3720   1.00414851      -0.37709353     -0.290786926     0.02208091       \n",
       "5214  -1.09818886      -0.67737453     -0.504037436    -1.10796089       \n",
       "10611 -0.33370255       0.04329988     -0.859454953     0.03405431       \n",
       "10923 -1.48043202      -0.97765554     -0.006452913     0.03281568       "
      ]
     },
     "metadata": {},
     "output_type": "display_data"
    }
   ],
   "source": [
    "data <- read.csv(data.matrix.original)\n",
    "rownames(data) <- data$micro_specimen_id\n",
    "index <- data[, (ncol(data)-1):ncol(data)]\n",
    "data <- subset(data, select = -c(X, micro_specimen_id, person_id))\n",
    "data[is.na(data)] <- 0\n",
    "head(data)"
   ]
  },
  {
   "cell_type": "markdown",
   "id": "c5ff646e-c630-48f8-8395-4ac1d60be062",
   "metadata": {},
   "source": [
    "## Unsupervized Outlier detection algorithms"
   ]
  },
  {
   "cell_type": "code",
   "execution_count": 4,
   "id": "f463af09-c665-4c11-be9d-bf6b5805c6e6",
   "metadata": {},
   "outputs": [],
   "source": [
    "y1 <- DDoutlier::KNN_AGG(data)"
   ]
  },
  {
   "cell_type": "code",
   "execution_count": 5,
   "id": "b6f2b43b-4838-4d84-a93d-2837615c8cc3",
   "metadata": {},
   "outputs": [],
   "source": [
    "y2 <- DDoutlier::LOF(data)"
   ]
  },
  {
   "cell_type": "code",
   "execution_count": 6,
   "id": "3cb464f1-9278-49e5-b1ed-ce7ac522bc2e",
   "metadata": {},
   "outputs": [],
   "source": [
    "# y3 <- DDoutlier::COF(data, k=10)"
   ]
  },
  {
   "cell_type": "code",
   "execution_count": 7,
   "id": "3d9b7ae0-4554-40b6-b1ef-44049260b749",
   "metadata": {},
   "outputs": [],
   "source": [
    "y4 <- DDoutlier::INFLO(data)"
   ]
  },
  {
   "cell_type": "code",
   "execution_count": 8,
   "id": "eb5a1b57-cd0e-4097-a4fa-dcdfc30a005c",
   "metadata": {},
   "outputs": [],
   "source": [
    "y5 <- DDoutlier::KDEOS(data)"
   ]
  },
  {
   "cell_type": "code",
   "execution_count": 9,
   "id": "8a796afb-dc0d-4ec7-bd6c-1f79481d12ea",
   "metadata": {},
   "outputs": [],
   "source": [
    "y6 <- DDoutlier::LDF(data)"
   ]
  },
  {
   "cell_type": "code",
   "execution_count": 10,
   "id": "ca72e096-a559-43a2-9c51-3e74a7e132e0",
   "metadata": {},
   "outputs": [],
   "source": [
    "# y7 <- DDoutlier::LDOF(data, k=10)"
   ]
  },
  {
   "cell_type": "code",
   "execution_count": 26,
   "id": "a411b518-2fd2-4e85-8bb6-6cdb2fa35399",
   "metadata": {},
   "outputs": [],
   "source": [
    "# Y <- cbind.data.frame(y1, y2, y3, y4, y5, y6$LDF, y7)\n",
    "Y <- cbind.data.frame(y1, y2, y4)\n",
    "# Y <- cbind.data.frame(y1, y4)"
   ]
  },
  {
   "cell_type": "code",
   "execution_count": 27,
   "id": "2a4fdae7-430c-45ac-817d-1a84ee1e76c6",
   "metadata": {},
   "outputs": [
    {
     "data": {
      "text/html": [
       "<table class=\"dataframe\">\n",
       "<caption>A data.frame: 6 × 3</caption>\n",
       "<thead>\n",
       "\t<tr><th></th><th scope=col>y1</th><th scope=col>y2</th><th scope=col>y4</th></tr>\n",
       "\t<tr><th></th><th scope=col>&lt;dbl&gt;</th><th scope=col>&lt;dbl&gt;</th><th scope=col>&lt;dbl&gt;</th></tr>\n",
       "</thead>\n",
       "<tbody>\n",
       "\t<tr><th scope=row>1</th><td>379.9726</td><td>0.9770689</td><td>1.0182663</td></tr>\n",
       "\t<tr><th scope=row>2</th><td>313.6969</td><td>1.0086139</td><td>0.9173485</td></tr>\n",
       "\t<tr><th scope=row>3</th><td>389.3603</td><td>1.4408002</td><td>1.4436545</td></tr>\n",
       "\t<tr><th scope=row>4</th><td>212.1525</td><td>1.0077021</td><td>0.9635029</td></tr>\n",
       "\t<tr><th scope=row>5</th><td>422.9763</td><td>1.1751721</td><td>0.9553521</td></tr>\n",
       "\t<tr><th scope=row>6</th><td>310.4655</td><td>1.0785824</td><td>0.7159183</td></tr>\n",
       "</tbody>\n",
       "</table>\n"
      ],
      "text/latex": [
       "A data.frame: 6 × 3\n",
       "\\begin{tabular}{r|lll}\n",
       "  & y1 & y2 & y4\\\\\n",
       "  & <dbl> & <dbl> & <dbl>\\\\\n",
       "\\hline\n",
       "\t1 & 379.9726 & 0.9770689 & 1.0182663\\\\\n",
       "\t2 & 313.6969 & 1.0086139 & 0.9173485\\\\\n",
       "\t3 & 389.3603 & 1.4408002 & 1.4436545\\\\\n",
       "\t4 & 212.1525 & 1.0077021 & 0.9635029\\\\\n",
       "\t5 & 422.9763 & 1.1751721 & 0.9553521\\\\\n",
       "\t6 & 310.4655 & 1.0785824 & 0.7159183\\\\\n",
       "\\end{tabular}\n"
      ],
      "text/markdown": [
       "\n",
       "A data.frame: 6 × 3\n",
       "\n",
       "| <!--/--> | y1 &lt;dbl&gt; | y2 &lt;dbl&gt; | y4 &lt;dbl&gt; |\n",
       "|---|---|---|---|\n",
       "| 1 | 379.9726 | 0.9770689 | 1.0182663 |\n",
       "| 2 | 313.6969 | 1.0086139 | 0.9173485 |\n",
       "| 3 | 389.3603 | 1.4408002 | 1.4436545 |\n",
       "| 4 | 212.1525 | 1.0077021 | 0.9635029 |\n",
       "| 5 | 422.9763 | 1.1751721 | 0.9553521 |\n",
       "| 6 | 310.4655 | 1.0785824 | 0.7159183 |\n",
       "\n"
      ],
      "text/plain": [
       "  y1       y2        y4       \n",
       "1 379.9726 0.9770689 1.0182663\n",
       "2 313.6969 1.0086139 0.9173485\n",
       "3 389.3603 1.4408002 1.4436545\n",
       "4 212.1525 1.0077021 0.9635029\n",
       "5 422.9763 1.1751721 0.9553521\n",
       "6 310.4655 1.0785824 0.7159183"
      ]
     },
     "metadata": {},
     "output_type": "display_data"
    }
   ],
   "source": [
    "head(Y)"
   ]
  },
  {
   "cell_type": "code",
   "execution_count": 28,
   "id": "5c006c5e-caeb-4195-b0f3-340ca2b2f046",
   "metadata": {},
   "outputs": [
    {
     "data": {
      "text/html": [
       "0"
      ],
      "text/latex": [
       "0"
      ],
      "text/markdown": [
       "0"
      ],
      "text/plain": [
       "[1] 0"
      ]
     },
     "metadata": {},
     "output_type": "display_data"
    }
   ],
   "source": [
    "sum(is.na(Y$y5))"
   ]
  },
  {
   "cell_type": "markdown",
   "id": "803a5cb7-ba41-4163-bfca-664d1e2d475f",
   "metadata": {},
   "source": [
    "## Item Response Theory (IRT) emsemble"
   ]
  },
  {
   "cell_type": "code",
   "execution_count": 29,
   "id": "f9e2c146-fe47-42f8-b9f2-e33c3aa8be57",
   "metadata": {},
   "outputs": [],
   "source": [
    "ens1 <- irt_ensemble(Y)"
   ]
  },
  {
   "cell_type": "markdown",
   "id": "634b1b5b-35df-48f4-b0be-537668c3ff22",
   "metadata": {},
   "source": [
    "## IRT emsemble scores"
   ]
  },
  {
   "cell_type": "code",
   "execution_count": 30,
   "id": "3ddad5ad-95bb-46f2-a0a6-6b3936e18ecf",
   "metadata": {},
   "outputs": [
    {
     "data": {
      "text/plain": [
       "   Min. 1st Qu.  Median    Mean 3rd Qu.    Max. \n",
       "  0.000   9.379   9.936   9.965  10.493  36.116 "
      ]
     },
     "metadata": {},
     "output_type": "display_data"
    }
   ],
   "source": [
    "summary(ens1$scores)"
   ]
  },
  {
   "cell_type": "code",
   "execution_count": 31,
   "id": "6d941ba1-5be3-4b9f-9029-3899de2bf5bf",
   "metadata": {},
   "outputs": [
    {
     "data": {
      "image/png": "[encoded data removed]",
      "text/plain": [
       "Plot with title “Histogram of ens1$scores”"
      ]
     },
     "metadata": {
      "image/png": {
       "height": 420,
       "width": 420
      }
     },
     "output_type": "display_data"
    }
   ],
   "source": [
    "hist(ens1$scores, breaks = sqrt(length(ens1$scores)))"
   ]
  },
  {
   "cell_type": "code",
   "execution_count": 32,
   "id": "ceea15b2-7849-4db9-b3b4-09fd465b9df6",
   "metadata": {},
   "outputs": [
    {
     "data": {
      "image/png": "[encoded data removed]",
      "text/plain": [
       "plot without title"
      ]
     },
     "metadata": {
      "image/png": {
       "height": 420,
       "width": 420
      }
     },
     "output_type": "display_data"
    }
   ],
   "source": [
    "boxplot(ens1$scores,\n",
    "  ylab = \"Ensemble anomaly scores\"\n",
    ")"
   ]
  },
  {
   "cell_type": "markdown",
   "id": "6231dfb6-b7ff-4b65-bfe2-1497461cdade",
   "metadata": {},
   "source": [
    "## Export"
   ]
  },
  {
   "cell_type": "code",
   "execution_count": 33,
   "id": "b1e8d861-b25e-42d8-a136-f1893dcffc85",
   "metadata": {},
   "outputs": [],
   "source": [
    "df <- cbind.data.frame(index, data, y1, y2, y4, y5, y6$LDF, ens1$scores)"
   ]
  },
  {
   "cell_type": "code",
   "execution_count": 34,
   "id": "347aa8d5-3335-4da0-ba74-229873c1b59a",
   "metadata": {},
   "outputs": [],
   "source": [
    "colnames(df) <- c('micro_specimen_id', 'person_id', colnames(data), 'y_knn_agg', 'y_lof', 'y_inflo', 'y_kdeos', 'y_ldf', 'ensemble_scores')"
   ]
  },
  {
   "cell_type": "code",
   "execution_count": 35,
   "id": "f486e9b6-83eb-4f04-bb2b-3c78db5f281e",
   "metadata": {},
   "outputs": [
    {
     "data": {
      "text/html": [
       "<table class=\"dataframe\">\n",
       "<caption>A data.frame: 6 × 174</caption>\n",
       "<thead>\n",
       "\t<tr><th></th><th scope=col>micro_specimen_id</th><th scope=col>person_id</th><th scope=col>seven_day_mortality</th><th scope=col>fourteen_day_mortality</th><th scope=col>twentyone_day_mortality</th><th scope=col>twentyeight_day_mortality</th><th scope=col>sixty_day_mortality</th><th scope=col>ninety_day_mortality</th><th scope=col>onetwenty_day_mortality</th><th scope=col>Ambulatory.Clinic...Center</th><th scope=col>⋯</th><th scope=col>bicarbonate_last</th><th scope=col>hemoglobin_last</th><th scope=col>creatinine_last</th><th scope=col>time_to_antibiotic</th><th scope=col>y_knn_agg</th><th scope=col>y_lof</th><th scope=col>y_inflo</th><th scope=col>y_kdeos</th><th scope=col>y_ldf</th><th scope=col>ensemble_scores</th></tr>\n",
       "\t<tr><th></th><th scope=col>&lt;int&gt;</th><th scope=col>&lt;int&gt;</th><th scope=col>&lt;dbl&gt;</th><th scope=col>&lt;dbl&gt;</th><th scope=col>&lt;dbl&gt;</th><th scope=col>&lt;dbl&gt;</th><th scope=col>&lt;dbl&gt;</th><th scope=col>&lt;dbl&gt;</th><th scope=col>&lt;dbl&gt;</th><th scope=col>&lt;dbl&gt;</th><th scope=col>⋯</th><th scope=col>&lt;dbl&gt;</th><th scope=col>&lt;dbl&gt;</th><th scope=col>&lt;dbl&gt;</th><th scope=col>&lt;dbl&gt;</th><th scope=col>&lt;dbl&gt;</th><th scope=col>&lt;dbl&gt;</th><th scope=col>&lt;dbl&gt;</th><th scope=col>&lt;dbl&gt;</th><th scope=col>&lt;dbl&gt;</th><th scope=col>&lt;dbl&gt;</th></tr>\n",
       "</thead>\n",
       "<tbody>\n",
       "\t<tr><th scope=row>2940</th><td> 2940</td><td> -470494077</td><td>0</td><td>0</td><td>0</td><td>1</td><td>1</td><td>1</td><td>1</td><td>0</td><td>⋯</td><td> 0.04854061</td><td>-0.85754314</td><td>-0.077536416</td><td> 0.01877790</td><td>379.9726</td><td>0.9770689</td><td>1.0182663</td><td>       NaN</td><td>1.0000000</td><td> 9.475134</td></tr>\n",
       "\t<tr><th scope=row>3236</th><td> 3236</td><td> -762840899</td><td>0</td><td>1</td><td>1</td><td>1</td><td>1</td><td>1</td><td>1</td><td>0</td><td>⋯</td><td> 0.62190535</td><td>-1.03771174</td><td> 0.988716133</td><td> 0.01877790</td><td>313.6969</td><td>1.0086139</td><td>0.9173485</td><td>       NaN</td><td>0.9999999</td><td> 9.341630</td></tr>\n",
       "\t<tr><th scope=row>3720</th><td> 3720</td><td>-1481508426</td><td>0</td><td>0</td><td>0</td><td>0</td><td>0</td><td>0</td><td>0</td><td>0</td><td>⋯</td><td> 1.00414851</td><td>-0.37709353</td><td>-0.290786926</td><td> 0.02208091</td><td>389.3603</td><td>1.4408002</td><td>1.4436545</td><td>1.00000000</td><td>1.0000000</td><td>11.626273</td></tr>\n",
       "\t<tr><th scope=row>5214</th><td> 5214</td><td> 2090709572</td><td>0</td><td>0</td><td>0</td><td>0</td><td>0</td><td>0</td><td>0</td><td>0</td><td>⋯</td><td>-1.09818886</td><td>-0.67737453</td><td>-0.504037436</td><td>-1.10796089</td><td>212.1525</td><td>1.0077021</td><td>0.9635029</td><td>0.04563032</td><td>0.9757483</td><td> 8.984906</td></tr>\n",
       "\t<tr><th scope=row>10611</th><td>10611</td><td> -961491032</td><td>0</td><td>0</td><td>0</td><td>0</td><td>0</td><td>0</td><td>0</td><td>0</td><td>⋯</td><td>-0.33370255</td><td> 0.04329988</td><td>-0.859454953</td><td> 0.03405431</td><td>422.9763</td><td>1.1751721</td><td>0.9553521</td><td>1.00000000</td><td>1.0000000</td><td>10.525898</td></tr>\n",
       "\t<tr><th scope=row>10923</th><td>10923</td><td> -643089122</td><td>0</td><td>0</td><td>0</td><td>1</td><td>1</td><td>1</td><td>1</td><td>0</td><td>⋯</td><td>-1.48043202</td><td>-0.97765554</td><td>-0.006452913</td><td> 0.03281568</td><td>310.4655</td><td>1.0785824</td><td>0.7159183</td><td>1.00000000</td><td>1.0000000</td><td> 9.269045</td></tr>\n",
       "</tbody>\n",
       "</table>\n"
      ],
      "text/latex": [
       "A data.frame: 6 × 174\n",
       "\\begin{tabular}{r|lllllllllllllllllllll}\n",
       "  & micro\\_specimen\\_id & person\\_id & seven\\_day\\_mortality & fourteen\\_day\\_mortality & twentyone\\_day\\_mortality & twentyeight\\_day\\_mortality & sixty\\_day\\_mortality & ninety\\_day\\_mortality & onetwenty\\_day\\_mortality & Ambulatory.Clinic...Center & ⋯ & bicarbonate\\_last & hemoglobin\\_last & creatinine\\_last & time\\_to\\_antibiotic & y\\_knn\\_agg & y\\_lof & y\\_inflo & y\\_kdeos & y\\_ldf & ensemble\\_scores\\\\\n",
       "  & <int> & <int> & <dbl> & <dbl> & <dbl> & <dbl> & <dbl> & <dbl> & <dbl> & <dbl> & ⋯ & <dbl> & <dbl> & <dbl> & <dbl> & <dbl> & <dbl> & <dbl> & <dbl> & <dbl> & <dbl>\\\\\n",
       "\\hline\n",
       "\t2940 &  2940 &  -470494077 & 0 & 0 & 0 & 1 & 1 & 1 & 1 & 0 & ⋯ &  0.04854061 & -0.85754314 & -0.077536416 &  0.01877790 & 379.9726 & 0.9770689 & 1.0182663 &        NaN & 1.0000000 &  9.475134\\\\\n",
       "\t3236 &  3236 &  -762840899 & 0 & 1 & 1 & 1 & 1 & 1 & 1 & 0 & ⋯ &  0.62190535 & -1.03771174 &  0.988716133 &  0.01877790 & 313.6969 & 1.0086139 & 0.9173485 &        NaN & 0.9999999 &  9.341630\\\\\n",
       "\t3720 &  3720 & -1481508426 & 0 & 0 & 0 & 0 & 0 & 0 & 0 & 0 & ⋯ &  1.00414851 & -0.37709353 & -0.290786926 &  0.02208091 & 389.3603 & 1.4408002 & 1.4436545 & 1.00000000 & 1.0000000 & 11.626273\\\\\n",
       "\t5214 &  5214 &  2090709572 & 0 & 0 & 0 & 0 & 0 & 0 & 0 & 0 & ⋯ & -1.09818886 & -0.67737453 & -0.504037436 & -1.10796089 & 212.1525 & 1.0077021 & 0.9635029 & 0.04563032 & 0.9757483 &  8.984906\\\\\n",
       "\t10611 & 10611 &  -961491032 & 0 & 0 & 0 & 0 & 0 & 0 & 0 & 0 & ⋯ & -0.33370255 &  0.04329988 & -0.859454953 &  0.03405431 & 422.9763 & 1.1751721 & 0.9553521 & 1.00000000 & 1.0000000 & 10.525898\\\\\n",
       "\t10923 & 10923 &  -643089122 & 0 & 0 & 0 & 1 & 1 & 1 & 1 & 0 & ⋯ & -1.48043202 & -0.97765554 & -0.006452913 &  0.03281568 & 310.4655 & 1.0785824 & 0.7159183 & 1.00000000 & 1.0000000 &  9.269045\\\\\n",
       "\\end{tabular}\n"
      ],
      "text/markdown": [
       "\n",
       "A data.frame: 6 × 174\n",
       "\n",
       "| <!--/--> | micro_specimen_id &lt;int&gt; | person_id &lt;int&gt; | seven_day_mortality &lt;dbl&gt; | fourteen_day_mortality &lt;dbl&gt; | twentyone_day_mortality &lt;dbl&gt; | twentyeight_day_mortality &lt;dbl&gt; | sixty_day_mortality &lt;dbl&gt; | ninety_day_mortality &lt;dbl&gt; | onetwenty_day_mortality &lt;dbl&gt; | Ambulatory.Clinic...Center &lt;dbl&gt; | ⋯ ⋯ | bicarbonate_last &lt;dbl&gt; | hemoglobin_last &lt;dbl&gt; | creatinine_last &lt;dbl&gt; | time_to_antibiotic &lt;dbl&gt; | y_knn_agg &lt;dbl&gt; | y_lof &lt;dbl&gt; | y_inflo &lt;dbl&gt; | y_kdeos &lt;dbl&gt; | y_ldf &lt;dbl&gt; | ensemble_scores &lt;dbl&gt; |\n",
       "|---|---|---|---|---|---|---|---|---|---|---|---|---|---|---|---|---|---|---|---|---|---|\n",
       "| 2940 |  2940 |  -470494077 | 0 | 0 | 0 | 1 | 1 | 1 | 1 | 0 | ⋯ |  0.04854061 | -0.85754314 | -0.077536416 |  0.01877790 | 379.9726 | 0.9770689 | 1.0182663 |        NaN | 1.0000000 |  9.475134 |\n",
       "| 3236 |  3236 |  -762840899 | 0 | 1 | 1 | 1 | 1 | 1 | 1 | 0 | ⋯ |  0.62190535 | -1.03771174 |  0.988716133 |  0.01877790 | 313.6969 | 1.0086139 | 0.9173485 |        NaN | 0.9999999 |  9.341630 |\n",
       "| 3720 |  3720 | -1481508426 | 0 | 0 | 0 | 0 | 0 | 0 | 0 | 0 | ⋯ |  1.00414851 | -0.37709353 | -0.290786926 |  0.02208091 | 389.3603 | 1.4408002 | 1.4436545 | 1.00000000 | 1.0000000 | 11.626273 |\n",
       "| 5214 |  5214 |  2090709572 | 0 | 0 | 0 | 0 | 0 | 0 | 0 | 0 | ⋯ | -1.09818886 | -0.67737453 | -0.504037436 | -1.10796089 | 212.1525 | 1.0077021 | 0.9635029 | 0.04563032 | 0.9757483 |  8.984906 |\n",
       "| 10611 | 10611 |  -961491032 | 0 | 0 | 0 | 0 | 0 | 0 | 0 | 0 | ⋯ | -0.33370255 |  0.04329988 | -0.859454953 |  0.03405431 | 422.9763 | 1.1751721 | 0.9553521 | 1.00000000 | 1.0000000 | 10.525898 |\n",
       "| 10923 | 10923 |  -643089122 | 0 | 0 | 0 | 1 | 1 | 1 | 1 | 0 | ⋯ | -1.48043202 | -0.97765554 | -0.006452913 |  0.03281568 | 310.4655 | 1.0785824 | 0.7159183 | 1.00000000 | 1.0000000 |  9.269045 |\n",
       "\n"
      ],
      "text/plain": [
       "      micro_specimen_id person_id   seven_day_mortality fourteen_day_mortality\n",
       "2940   2940              -470494077 0                   0                     \n",
       "3236   3236              -762840899 0                   1                     \n",
       "3720   3720             -1481508426 0                   0                     \n",
       "5214   5214              2090709572 0                   0                     \n",
       "10611 10611              -961491032 0                   0                     \n",
       "10923 10923              -643089122 0                   0                     \n",
       "      twentyone_day_mortality twentyeight_day_mortality sixty_day_mortality\n",
       "2940  0                       1                         1                  \n",
       "3236  1                       1                         1                  \n",
       "3720  0                       0                         0                  \n",
       "5214  0                       0                         0                  \n",
       "10611 0                       0                         0                  \n",
       "10923 0                       1                         1                  \n",
       "      ninety_day_mortality onetwenty_day_mortality Ambulatory.Clinic...Center ⋯\n",
       "2940  1                    1                       0                          ⋯\n",
       "3236  1                    1                       0                          ⋯\n",
       "3720  0                    0                       0                          ⋯\n",
       "5214  0                    0                       0                          ⋯\n",
       "10611 0                    0                       0                          ⋯\n",
       "10923 1                    1                       0                          ⋯\n",
       "      bicarbonate_last hemoglobin_last creatinine_last time_to_antibiotic\n",
       "2940   0.04854061      -0.85754314     -0.077536416     0.01877790       \n",
       "3236   0.62190535      -1.03771174      0.988716133     0.01877790       \n",
       "3720   1.00414851      -0.37709353     -0.290786926     0.02208091       \n",
       "5214  -1.09818886      -0.67737453     -0.504037436    -1.10796089       \n",
       "10611 -0.33370255       0.04329988     -0.859454953     0.03405431       \n",
       "10923 -1.48043202      -0.97765554     -0.006452913     0.03281568       \n",
       "      y_knn_agg y_lof     y_inflo   y_kdeos    y_ldf     ensemble_scores\n",
       "2940  379.9726  0.9770689 1.0182663        NaN 1.0000000  9.475134      \n",
       "3236  313.6969  1.0086139 0.9173485        NaN 0.9999999  9.341630      \n",
       "3720  389.3603  1.4408002 1.4436545 1.00000000 1.0000000 11.626273      \n",
       "5214  212.1525  1.0077021 0.9635029 0.04563032 0.9757483  8.984906      \n",
       "10611 422.9763  1.1751721 0.9553521 1.00000000 1.0000000 10.525898      \n",
       "10923 310.4655  1.0785824 0.7159183 1.00000000 1.0000000  9.269045      "
      ]
     },
     "metadata": {},
     "output_type": "display_data"
    }
   ],
   "source": [
    "head(df)"
   ]
  },
  {
   "cell_type": "code",
   "execution_count": 36,
   "id": "3cdc78ac-b5c9-410d-b399-7b55446b9d33",
   "metadata": {},
   "outputs": [],
   "source": [
    "data.dir <- paste(getwd(), \"data\", sep=\"/\")\n",
    "data.matrix.final <- paste(data.dir, \"data_matrix_anomalies.csv\", sep=\"/\")\n",
    "write.csv(df, data.matrix.final, row.names = FALSE)"
   ]
  }
 ],
 "metadata": {
  "kernelspec": {
   "display_name": "R",
   "language": "R",
   "name": "ir"
  },
  "language_info": {
   "codemirror_mode": "r",
   "file_extension": ".r",
   "mimetype": "text/x-r-source",
   "name": "R",
   "pygments_lexer": "r",
   "version": "4.0.2"
  }
 },
 "nbformat": 4,
 "nbformat_minor": 5
}
