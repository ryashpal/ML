{
 "cells": [
  {
   "cell_type": "markdown",
   "id": "115a1d1d-4c2a-4ec3-908a-285c870ad7d8",
   "metadata": {},
   "source": [
    "## Install necessary libraries"
   ]
  },
  {
   "cell_type": "code",
   "execution_count": 1,
   "id": "fa811bf2-98b0-4e70-83ca-55c6bbf02e9d",
   "metadata": {},
   "outputs": [
    {
     "name": "stderr",
     "output_type": "stream",
     "text": [
      "Installing package into ‘/home/yram0006/R/x86_64-pc-linux-gnu-library/4.0’\n",
      "(as ‘lib’ is unspecified)\n",
      "\n"
     ]
    }
   ],
   "source": [
    "install.packages(\"outlierensembles\")"
   ]
  },
  {
   "cell_type": "code",
   "execution_count": 3,
   "id": "51e5b290-b888-41a5-ba47-5d561f36fc76",
   "metadata": {},
   "outputs": [
    {
     "name": "stderr",
     "output_type": "stream",
     "text": [
      "Installing package into ‘/home/yram0006/R/x86_64-pc-linux-gnu-library/4.0’\n",
      "(as ‘lib’ is unspecified)\n",
      "\n"
     ]
    }
   ],
   "source": [
    "install.packages(\"factoextra\")"
   ]
  },
  {
   "cell_type": "code",
   "execution_count": 4,
   "id": "f8b770ba-d6e0-4118-9af1-108957262c42",
   "metadata": {},
   "outputs": [
    {
     "name": "stderr",
     "output_type": "stream",
     "text": [
      "Installing package into ‘/home/yram0006/R/x86_64-pc-linux-gnu-library/4.0’\n",
      "(as ‘lib’ is unspecified)\n",
      "\n",
      "Skipping install of 'DDoutlier' from a github remote, the SHA1 (6408950f) has not changed since last install.\n",
      "  Use `force = TRUE` to force installation\n",
      "\n"
     ]
    }
   ],
   "source": [
    "install.packages('devtools')\n",
    "devtools::install_github('jhmadsen/DDoutlier')"
   ]
  },
  {
   "cell_type": "code",
   "execution_count": 36,
   "id": "bc3cd537-58ec-45d1-bf55-9554ccb67ded",
   "metadata": {},
   "outputs": [
    {
     "name": "stderr",
     "output_type": "stream",
     "text": [
      "Downloading GitHub repo sevvandi/outlierensembles@HEAD\n",
      "\n"
     ]
    },
    {
     "name": "stdout",
     "output_type": "stream",
     "text": [
      "crayon       (1.4.1      -> 1.5.0     ) [CRAN]\n",
      "cli          (3.0.1      -> 3.2.0     ) [CRAN]\n",
      "pillar       (1.6.3      -> 1.7.0     ) [CRAN]\n",
      "fansi        (0.5.0      -> 1.0.2     ) [CRAN]\n",
      "stringi      (1.7.4      -> 1.7.6     ) [CRAN]\n",
      "xfun         (0.26       -> 0.29      ) [CRAN]\n",
      "yaml         (2.2.1      -> 2.2.2     ) [CRAN]\n",
      "jsonlite     (1.7.2      -> 1.7.3     ) [CRAN]\n",
      "backports    (1.2.1      -> 1.4.1     ) [CRAN]\n",
      "magrittr     (2.0.1      -> 2.0.2     ) [CRAN]\n",
      "knitr        (1.34       -> 1.37      ) [CRAN]\n",
      "withr        (2.4.2      -> 2.4.3     ) [CRAN]\n",
      "tibble       (3.1.4      -> 3.1.6     ) [CRAN]\n",
      "rlang        (0.4.11     -> 1.0.1     ) [CRAN]\n",
      "glue         (1.4.2      -> 1.6.1     ) [CRAN]\n",
      "digest       (0.6.28     -> 0.6.29    ) [CRAN]\n",
      "viridis      (0.6.1      -> 0.6.2     ) [CRAN]\n",
      "htmlTable    (2.2.1      -> 2.4.0     ) [CRAN]\n",
      "data.table   (1.14.0     -> 1.14.2    ) [CRAN]\n",
      "generics     (0.1.0      -> 0.1.2     ) [CRAN]\n",
      "Hmisc        (4.5-0      -> 4.6-0     ) [CRAN]\n",
      "cpp11        (0.4.0      -> 0.4.2     ) [CRAN]\n",
      "dplyr        (1.0.7      -> 1.0.8     ) [CRAN]\n",
      "permute      (0.9-5      -> 0.9-7     ) [CRAN]\n",
      "RcppArmad... (0.10.6.0.0 -> 0.10.8.1.0) [CRAN]\n",
      "Rcpp         (1.0.7      -> 1.0.8     ) [CRAN]\n",
      "tidyr        (1.1.3      -> 1.2.0     ) [CRAN]\n",
      "mirt         (1.34       -> 1.35.1    ) [CRAN]\n",
      "pracma       (2.3.3      -> 2.3.6     ) [CRAN]\n",
      "apcluster    (1.4.8      -> 1.4.9     ) [CRAN]\n",
      "airt         (0.2.0      -> 0.2.1     ) [CRAN]\n"
     ]
    },
    {
     "name": "stderr",
     "output_type": "stream",
     "text": [
      "Installing 31 packages: crayon, cli, pillar, fansi, stringi, xfun, yaml, jsonlite, backports, magrittr, knitr, withr, tibble, rlang, glue, digest, viridis, htmlTable, data.table, generics, Hmisc, cpp11, dplyr, permute, RcppArmadillo, Rcpp, tidyr, mirt, pracma, apcluster, airt\n",
      "\n",
      "Installing packages into ‘/home/yram0006/R/x86_64-pc-linux-gnu-library/4.0’\n",
      "(as ‘lib’ is unspecified)\n",
      "\n"
     ]
    },
    {
     "name": "stdout",
     "output_type": "stream",
     "text": [
      "\u001b[32m✔\u001b[39m  \u001b[90mchecking for file ‘/tmp/RtmpLvjRy4/remotesf835f24a7ffde/sevvandi-outlierensembles-47641fc/DESCRIPTION’\u001b[39m\u001b[36m\u001b[39m\n",
      "\u001b[90m─\u001b[39m\u001b[90m  \u001b[39m\u001b[90mpreparing ‘outlierensembles’:\u001b[39m\u001b[36m\u001b[39m\n",
      "\u001b[32m✔\u001b[39m  \u001b[90mchecking DESCRIPTION meta-information\u001b[39m\u001b[36m\u001b[39m\n",
      "\u001b[90m─\u001b[39m\u001b[90m  \u001b[39m\u001b[90mchecking for LF line-endings in source and make files and shell scripts\u001b[39m\u001b[36m\u001b[39m\n",
      "\u001b[90m─\u001b[39m\u001b[90m  \u001b[39m\u001b[90mchecking for empty or unneeded directories\u001b[39m\u001b[36m\u001b[39m\n",
      "\u001b[90m─\u001b[39m\u001b[90m  \u001b[39m\u001b[90mbuilding ‘outlierensembles_0.1.1.tar.gz’\u001b[39m\u001b[36m\u001b[39m\n",
      "   \n",
      "\r"
     ]
    },
    {
     "name": "stderr",
     "output_type": "stream",
     "text": [
      "Installing package into ‘/home/yram0006/R/x86_64-pc-linux-gnu-library/4.0’\n",
      "(as ‘lib’ is unspecified)\n",
      "\n"
     ]
    }
   ],
   "source": [
    "# install.packages(\"devtools\")\n",
    "devtools::install_github(\"sevvandi/outlierensembles\")"
   ]
  },
  {
   "cell_type": "markdown",
   "id": "8d6a3d0d-d717-4349-bdf4-190621ee5bda",
   "metadata": {},
   "source": [
    "## Load libraries"
   ]
  },
  {
   "cell_type": "code",
   "execution_count": 14,
   "id": "f2169366-062a-4e73-8b81-e5b98eef474d",
   "metadata": {},
   "outputs": [],
   "source": [
    "library(outlierensembles)"
   ]
  },
  {
   "cell_type": "markdown",
   "id": "2c51c43a-e155-4805-bef7-d1308d389249",
   "metadata": {},
   "source": [
    "## Load data"
   ]
  },
  {
   "cell_type": "code",
   "execution_count": 2,
   "id": "a23e3b88-d7ce-4f2f-b7c3-a26010e71424",
   "metadata": {},
   "outputs": [],
   "source": [
    "data.dir <- paste(getwd(), \"data\", sep=\"/\")\n",
    "mimic.selected.vitals <- paste(data.dir, \"data_matrix_original.csv\", sep=\"/\")"
   ]
  },
  {
   "cell_type": "markdown",
   "id": "c3e8057b-2010-4381-bbca-aaab574180a5",
   "metadata": {},
   "source": [
    "## Format data"
   ]
  },
  {
   "cell_type": "code",
   "execution_count": 3,
   "id": "0d09d6a3-466e-485b-a8d3-85c7cfc59b73",
   "metadata": {},
   "outputs": [
    {
     "data": {
      "text/html": [
       "<table class=\"dataframe\">\n",
       "<caption>A data.frame: 6 × 166</caption>\n",
       "<thead>\n",
       "\t<tr><th></th><th scope=col>discharge_mortality_mf</th><th scope=col>one_day_mortality_mf</th><th scope=col>two_day_mortality_mf</th><th scope=col>thirty_day_mortality_mf</th><th scope=col>sixty_day_mortality_mf</th><th scope=col>ninety_day_mortality_mf</th><th scope=col>sepsis_mf</th><th scope=col>Ambulatory.Clinic...Center_mf</th><th scope=col>Ambulatory.Surgical.Center_mf</th><th scope=col>Emergency.Room...Hospital_mf</th><th scope=col>⋯</th><th scope=col>bicarbonate_first_mf</th><th scope=col>hemoglobin_first_mf</th><th scope=col>creatinine_first_mf</th><th scope=col>potassium_last_mf</th><th scope=col>chloride_last_mf</th><th scope=col>glucose_last_mf</th><th scope=col>sodium_last_mf</th><th scope=col>bicarbonate_last_mf</th><th scope=col>hemoglobin_last_mf</th><th scope=col>creatinine_last_mf</th></tr>\n",
       "\t<tr><th></th><th scope=col>&lt;dbl&gt;</th><th scope=col>&lt;dbl&gt;</th><th scope=col>&lt;dbl&gt;</th><th scope=col>&lt;dbl&gt;</th><th scope=col>&lt;dbl&gt;</th><th scope=col>&lt;dbl&gt;</th><th scope=col>&lt;dbl&gt;</th><th scope=col>&lt;dbl&gt;</th><th scope=col>&lt;dbl&gt;</th><th scope=col>&lt;dbl&gt;</th><th scope=col>⋯</th><th scope=col>&lt;dbl&gt;</th><th scope=col>&lt;dbl&gt;</th><th scope=col>&lt;dbl&gt;</th><th scope=col>&lt;dbl&gt;</th><th scope=col>&lt;dbl&gt;</th><th scope=col>&lt;dbl&gt;</th><th scope=col>&lt;dbl&gt;</th><th scope=col>&lt;dbl&gt;</th><th scope=col>&lt;dbl&gt;</th><th scope=col>&lt;dbl&gt;</th></tr>\n",
       "</thead>\n",
       "<tbody>\n",
       "\t<tr><th scope=row>-2147304039</th><td>0</td><td>0</td><td>0</td><td>0</td><td>0</td><td>0</td><td>1</td><td>0</td><td>0</td><td>1</td><td>⋯</td><td> 1.20078798</td><td> 0.33306622</td><td>-0.81544771</td><td>-1.1868193</td><td>-2.84381970</td><td> 2.0315572</td><td>-0.7573356</td><td> 0.8982376</td><td> 0.8160591</td><td>-0.7363648</td></tr>\n",
       "\t<tr><th scope=row>-2147002424</th><td>0</td><td>0</td><td>0</td><td>0</td><td>0</td><td>0</td><td>1</td><td>0</td><td>0</td><td>0</td><td>⋯</td><td>-2.09561862</td><td>-0.05930636</td><td>-0.97602263</td><td>-0.6680349</td><td>-0.06258867</td><td>-0.5554145</td><td>-0.5595549</td><td>-1.7088895</td><td>-1.2695849</td><td>-0.9758107</td></tr>\n",
       "\t<tr><th scope=row>-2144345945</th><td>0</td><td>0</td><td>0</td><td>0</td><td>0</td><td>0</td><td>1</td><td>0</td><td>0</td><td>0</td><td>⋯</td><td>-0.93218100</td><td>-0.50072551</td><td>-0.09286057</td><td> 1.2341746</td><td>-0.83515284</td><td> 0.6783720</td><td>-0.5595549</td><td>-0.3184217</td><td>-0.8524561</td><td>-0.4171036</td></tr>\n",
       "\t<tr><th scope=row>-2137779334</th><td>0</td><td>0</td><td>0</td><td>0</td><td>0</td><td>0</td><td>1</td><td>0</td><td>0</td><td>0</td><td>⋯</td><td> 0.23125663</td><td> 0.57829909</td><td>-0.81544771</td><td>-0.1492505</td><td>-0.68064001</td><td>-0.2569178</td><td>-1.9440198</td><td> 0.5506206</td><td> 0.8160591</td><td>-0.8161801</td></tr>\n",
       "\t<tr><th scope=row>-2136505586</th><td>0</td><td>0</td><td>0</td><td>0</td><td>0</td><td>0</td><td>1</td><td>0</td><td>0</td><td>0</td><td>⋯</td><td>-1.12608727</td><td>-0.59881866</td><td> 1.67346357</td><td>-0.1492505</td><td>-0.68064001</td><td>-0.3763165</td><td>-0.7573356</td><td> 0.3768122</td><td>-0.3757374</td><td> 2.6956930</td></tr>\n",
       "\t<tr><th scope=row>-2135620132</th><td>0</td><td>0</td><td>0</td><td>0</td><td>0</td><td>0</td><td>1</td><td>0</td><td>0</td><td>0</td><td>⋯</td><td> 0.03735035</td><td>-0.84405152</td><td>-0.17314803</td><td> 0.8883183</td><td>-0.52612718</td><td>-1.0131095</td><td>-0.5595549</td><td> 0.7244291</td><td>-0.2565578</td><td>-0.6565495</td></tr>\n",
       "</tbody>\n",
       "</table>\n"
      ],
      "text/latex": [
       "A data.frame: 6 × 166\n",
       "\\begin{tabular}{r|lllllllllllllllllllll}\n",
       "  & discharge\\_mortality\\_mf & one\\_day\\_mortality\\_mf & two\\_day\\_mortality\\_mf & thirty\\_day\\_mortality\\_mf & sixty\\_day\\_mortality\\_mf & ninety\\_day\\_mortality\\_mf & sepsis\\_mf & Ambulatory.Clinic...Center\\_mf & Ambulatory.Surgical.Center\\_mf & Emergency.Room...Hospital\\_mf & ⋯ & bicarbonate\\_first\\_mf & hemoglobin\\_first\\_mf & creatinine\\_first\\_mf & potassium\\_last\\_mf & chloride\\_last\\_mf & glucose\\_last\\_mf & sodium\\_last\\_mf & bicarbonate\\_last\\_mf & hemoglobin\\_last\\_mf & creatinine\\_last\\_mf\\\\\n",
       "  & <dbl> & <dbl> & <dbl> & <dbl> & <dbl> & <dbl> & <dbl> & <dbl> & <dbl> & <dbl> & ⋯ & <dbl> & <dbl> & <dbl> & <dbl> & <dbl> & <dbl> & <dbl> & <dbl> & <dbl> & <dbl>\\\\\n",
       "\\hline\n",
       "\t-2147304039 & 0 & 0 & 0 & 0 & 0 & 0 & 1 & 0 & 0 & 1 & ⋯ &  1.20078798 &  0.33306622 & -0.81544771 & -1.1868193 & -2.84381970 &  2.0315572 & -0.7573356 &  0.8982376 &  0.8160591 & -0.7363648\\\\\n",
       "\t-2147002424 & 0 & 0 & 0 & 0 & 0 & 0 & 1 & 0 & 0 & 0 & ⋯ & -2.09561862 & -0.05930636 & -0.97602263 & -0.6680349 & -0.06258867 & -0.5554145 & -0.5595549 & -1.7088895 & -1.2695849 & -0.9758107\\\\\n",
       "\t-2144345945 & 0 & 0 & 0 & 0 & 0 & 0 & 1 & 0 & 0 & 0 & ⋯ & -0.93218100 & -0.50072551 & -0.09286057 &  1.2341746 & -0.83515284 &  0.6783720 & -0.5595549 & -0.3184217 & -0.8524561 & -0.4171036\\\\\n",
       "\t-2137779334 & 0 & 0 & 0 & 0 & 0 & 0 & 1 & 0 & 0 & 0 & ⋯ &  0.23125663 &  0.57829909 & -0.81544771 & -0.1492505 & -0.68064001 & -0.2569178 & -1.9440198 &  0.5506206 &  0.8160591 & -0.8161801\\\\\n",
       "\t-2136505586 & 0 & 0 & 0 & 0 & 0 & 0 & 1 & 0 & 0 & 0 & ⋯ & -1.12608727 & -0.59881866 &  1.67346357 & -0.1492505 & -0.68064001 & -0.3763165 & -0.7573356 &  0.3768122 & -0.3757374 &  2.6956930\\\\\n",
       "\t-2135620132 & 0 & 0 & 0 & 0 & 0 & 0 & 1 & 0 & 0 & 0 & ⋯ &  0.03735035 & -0.84405152 & -0.17314803 &  0.8883183 & -0.52612718 & -1.0131095 & -0.5595549 &  0.7244291 & -0.2565578 & -0.6565495\\\\\n",
       "\\end{tabular}\n"
      ],
      "text/markdown": [
       "\n",
       "A data.frame: 6 × 166\n",
       "\n",
       "| <!--/--> | discharge_mortality_mf &lt;dbl&gt; | one_day_mortality_mf &lt;dbl&gt; | two_day_mortality_mf &lt;dbl&gt; | thirty_day_mortality_mf &lt;dbl&gt; | sixty_day_mortality_mf &lt;dbl&gt; | ninety_day_mortality_mf &lt;dbl&gt; | sepsis_mf &lt;dbl&gt; | Ambulatory.Clinic...Center_mf &lt;dbl&gt; | Ambulatory.Surgical.Center_mf &lt;dbl&gt; | Emergency.Room...Hospital_mf &lt;dbl&gt; | ⋯ ⋯ | bicarbonate_first_mf &lt;dbl&gt; | hemoglobin_first_mf &lt;dbl&gt; | creatinine_first_mf &lt;dbl&gt; | potassium_last_mf &lt;dbl&gt; | chloride_last_mf &lt;dbl&gt; | glucose_last_mf &lt;dbl&gt; | sodium_last_mf &lt;dbl&gt; | bicarbonate_last_mf &lt;dbl&gt; | hemoglobin_last_mf &lt;dbl&gt; | creatinine_last_mf &lt;dbl&gt; |\n",
       "|---|---|---|---|---|---|---|---|---|---|---|---|---|---|---|---|---|---|---|---|---|---|\n",
       "| -2147304039 | 0 | 0 | 0 | 0 | 0 | 0 | 1 | 0 | 0 | 1 | ⋯ |  1.20078798 |  0.33306622 | -0.81544771 | -1.1868193 | -2.84381970 |  2.0315572 | -0.7573356 |  0.8982376 |  0.8160591 | -0.7363648 |\n",
       "| -2147002424 | 0 | 0 | 0 | 0 | 0 | 0 | 1 | 0 | 0 | 0 | ⋯ | -2.09561862 | -0.05930636 | -0.97602263 | -0.6680349 | -0.06258867 | -0.5554145 | -0.5595549 | -1.7088895 | -1.2695849 | -0.9758107 |\n",
       "| -2144345945 | 0 | 0 | 0 | 0 | 0 | 0 | 1 | 0 | 0 | 0 | ⋯ | -0.93218100 | -0.50072551 | -0.09286057 |  1.2341746 | -0.83515284 |  0.6783720 | -0.5595549 | -0.3184217 | -0.8524561 | -0.4171036 |\n",
       "| -2137779334 | 0 | 0 | 0 | 0 | 0 | 0 | 1 | 0 | 0 | 0 | ⋯ |  0.23125663 |  0.57829909 | -0.81544771 | -0.1492505 | -0.68064001 | -0.2569178 | -1.9440198 |  0.5506206 |  0.8160591 | -0.8161801 |\n",
       "| -2136505586 | 0 | 0 | 0 | 0 | 0 | 0 | 1 | 0 | 0 | 0 | ⋯ | -1.12608727 | -0.59881866 |  1.67346357 | -0.1492505 | -0.68064001 | -0.3763165 | -0.7573356 |  0.3768122 | -0.3757374 |  2.6956930 |\n",
       "| -2135620132 | 0 | 0 | 0 | 0 | 0 | 0 | 1 | 0 | 0 | 0 | ⋯ |  0.03735035 | -0.84405152 | -0.17314803 |  0.8883183 | -0.52612718 | -1.0131095 | -0.5595549 |  0.7244291 | -0.2565578 | -0.6565495 |\n",
       "\n"
      ],
      "text/plain": [
       "            discharge_mortality_mf one_day_mortality_mf two_day_mortality_mf\n",
       "-2147304039 0                      0                    0                   \n",
       "-2147002424 0                      0                    0                   \n",
       "-2144345945 0                      0                    0                   \n",
       "-2137779334 0                      0                    0                   \n",
       "-2136505586 0                      0                    0                   \n",
       "-2135620132 0                      0                    0                   \n",
       "            thirty_day_mortality_mf sixty_day_mortality_mf\n",
       "-2147304039 0                       0                     \n",
       "-2147002424 0                       0                     \n",
       "-2144345945 0                       0                     \n",
       "-2137779334 0                       0                     \n",
       "-2136505586 0                       0                     \n",
       "-2135620132 0                       0                     \n",
       "            ninety_day_mortality_mf sepsis_mf Ambulatory.Clinic...Center_mf\n",
       "-2147304039 0                       1         0                            \n",
       "-2147002424 0                       1         0                            \n",
       "-2144345945 0                       1         0                            \n",
       "-2137779334 0                       1         0                            \n",
       "-2136505586 0                       1         0                            \n",
       "-2135620132 0                       1         0                            \n",
       "            Ambulatory.Surgical.Center_mf Emergency.Room...Hospital_mf ⋯\n",
       "-2147304039 0                             1                            ⋯\n",
       "-2147002424 0                             0                            ⋯\n",
       "-2144345945 0                             0                            ⋯\n",
       "-2137779334 0                             0                            ⋯\n",
       "-2136505586 0                             0                            ⋯\n",
       "-2135620132 0                             0                            ⋯\n",
       "            bicarbonate_first_mf hemoglobin_first_mf creatinine_first_mf\n",
       "-2147304039  1.20078798           0.33306622         -0.81544771        \n",
       "-2147002424 -2.09561862          -0.05930636         -0.97602263        \n",
       "-2144345945 -0.93218100          -0.50072551         -0.09286057        \n",
       "-2137779334  0.23125663           0.57829909         -0.81544771        \n",
       "-2136505586 -1.12608727          -0.59881866          1.67346357        \n",
       "-2135620132  0.03735035          -0.84405152         -0.17314803        \n",
       "            potassium_last_mf chloride_last_mf glucose_last_mf sodium_last_mf\n",
       "-2147304039 -1.1868193        -2.84381970       2.0315572      -0.7573356    \n",
       "-2147002424 -0.6680349        -0.06258867      -0.5554145      -0.5595549    \n",
       "-2144345945  1.2341746        -0.83515284       0.6783720      -0.5595549    \n",
       "-2137779334 -0.1492505        -0.68064001      -0.2569178      -1.9440198    \n",
       "-2136505586 -0.1492505        -0.68064001      -0.3763165      -0.7573356    \n",
       "-2135620132  0.8883183        -0.52612718      -1.0131095      -0.5595549    \n",
       "            bicarbonate_last_mf hemoglobin_last_mf creatinine_last_mf\n",
       "-2147304039  0.8982376           0.8160591         -0.7363648        \n",
       "-2147002424 -1.7088895          -1.2695849         -0.9758107        \n",
       "-2144345945 -0.3184217          -0.8524561         -0.4171036        \n",
       "-2137779334  0.5506206           0.8160591         -0.8161801        \n",
       "-2136505586  0.3768122          -0.3757374          2.6956930        \n",
       "-2135620132  0.7244291          -0.2565578         -0.6565495        "
      ]
     },
     "metadata": {},
     "output_type": "display_data"
    }
   ],
   "source": [
    "data <- read.csv(mimic.selected.vitals)\n",
    "rownames(data) <- data$visit_occurrence_id\n",
    "data <- subset(data, select = -c(X, visit_occurrence_id, person_id))\n",
    "data[is.na(data)] <- 0\n",
    "head(data)"
   ]
  },
  {
   "cell_type": "markdown",
   "id": "b97ed572-2752-445f-bbc7-a5e870a6fedd",
   "metadata": {},
   "source": [
    "## Unsupervized Outlier detection algorithms"
   ]
  },
  {
   "cell_type": "code",
   "execution_count": 38,
   "id": "55208597-aaaa-44c4-bd92-496ae6542155",
   "metadata": {},
   "outputs": [],
   "source": [
    "y1 <- DDoutlier::KNN_AGG(data)"
   ]
  },
  {
   "cell_type": "code",
   "execution_count": 39,
   "id": "c99dcc1c-aca7-4b80-80e9-b72d5e37164b",
   "metadata": {},
   "outputs": [],
   "source": [
    "y2 <- DDoutlier::LOF(data)"
   ]
  },
  {
   "cell_type": "code",
   "execution_count": 40,
   "id": "8b282809-1712-4f37-b379-e9ed28b45ac2",
   "metadata": {},
   "outputs": [],
   "source": [
    "# y3 <- DDoutlier::COF(data, k=10)"
   ]
  },
  {
   "cell_type": "code",
   "execution_count": 41,
   "id": "6390f7c3-3cd1-4583-97f8-4381f100225b",
   "metadata": {},
   "outputs": [],
   "source": [
    "y4 <- DDoutlier::INFLO(data)"
   ]
  },
  {
   "cell_type": "code",
   "execution_count": 42,
   "id": "0657a084-2339-471f-ac05-315ed2fdb2e6",
   "metadata": {},
   "outputs": [],
   "source": [
    "y5 <- DDoutlier::KDEOS(data)"
   ]
  },
  {
   "cell_type": "code",
   "execution_count": 43,
   "id": "3603e150-3542-47db-a860-7ac496133a5c",
   "metadata": {},
   "outputs": [],
   "source": [
    "y6 <- DDoutlier::LDF(data)"
   ]
  },
  {
   "cell_type": "code",
   "execution_count": 44,
   "id": "38e4cb67-9925-43dd-8986-3082f9492cd0",
   "metadata": {},
   "outputs": [],
   "source": [
    "# y7 <- DDoutlier::LDOF(data, k=10)"
   ]
  },
  {
   "cell_type": "code",
   "execution_count": 52,
   "id": "d4a1fc81-e8d8-42c2-8573-6bfca2edf260",
   "metadata": {},
   "outputs": [],
   "source": [
    "# Y <- cbind.data.frame(y1, y2, y3, y4, y5, y6$LDF, y7)\n",
    "Y <- cbind.data.frame(y1, y2, y4, y6$LDF)"
   ]
  },
  {
   "cell_type": "code",
   "execution_count": 53,
   "id": "f9e1fc08-4205-494e-b3e4-aa35ab11c05d",
   "metadata": {},
   "outputs": [
    {
     "data": {
      "text/html": [
       "<table class=\"dataframe\">\n",
       "<caption>A data.frame: 5 × 4</caption>\n",
       "<thead>\n",
       "\t<tr><th></th><th scope=col>y1</th><th scope=col>y2</th><th scope=col>y4</th><th scope=col>y6$LDF</th></tr>\n",
       "\t<tr><th></th><th scope=col>&lt;dbl&gt;</th><th scope=col>&lt;dbl&gt;</th><th scope=col>&lt;dbl&gt;</th><th scope=col>&lt;dbl&gt;</th></tr>\n",
       "</thead>\n",
       "<tbody>\n",
       "\t<tr><th scope=row>1</th><td>326.6487</td><td>1.217941</td><td>1.3140861</td><td>1.0000000</td></tr>\n",
       "\t<tr><th scope=row>2</th><td>336.5191</td><td>1.193363</td><td>1.2133104</td><td>0.9998125</td></tr>\n",
       "\t<tr><th scope=row>3</th><td>250.5837</td><td>1.049744</td><td>0.8295967</td><td>0.9986381</td></tr>\n",
       "\t<tr><th scope=row>4</th><td>400.2471</td><td>1.146883</td><td>0.9483531</td><td>0.9999979</td></tr>\n",
       "\t<tr><th scope=row>5</th><td>441.5722</td><td>1.269059</td><td>0.9197312</td><td>1.0000000</td></tr>\n",
       "</tbody>\n",
       "</table>\n"
      ],
      "text/latex": [
       "A data.frame: 5 × 4\n",
       "\\begin{tabular}{r|llll}\n",
       "  & y1 & y2 & y4 & y6\\$LDF\\\\\n",
       "  & <dbl> & <dbl> & <dbl> & <dbl>\\\\\n",
       "\\hline\n",
       "\t1 & 326.6487 & 1.217941 & 1.3140861 & 1.0000000\\\\\n",
       "\t2 & 336.5191 & 1.193363 & 1.2133104 & 0.9998125\\\\\n",
       "\t3 & 250.5837 & 1.049744 & 0.8295967 & 0.9986381\\\\\n",
       "\t4 & 400.2471 & 1.146883 & 0.9483531 & 0.9999979\\\\\n",
       "\t5 & 441.5722 & 1.269059 & 0.9197312 & 1.0000000\\\\\n",
       "\\end{tabular}\n"
      ],
      "text/markdown": [
       "\n",
       "A data.frame: 5 × 4\n",
       "\n",
       "| <!--/--> | y1 &lt;dbl&gt; | y2 &lt;dbl&gt; | y4 &lt;dbl&gt; | y6$LDF &lt;dbl&gt; |\n",
       "|---|---|---|---|---|\n",
       "| 1 | 326.6487 | 1.217941 | 1.3140861 | 1.0000000 |\n",
       "| 2 | 336.5191 | 1.193363 | 1.2133104 | 0.9998125 |\n",
       "| 3 | 250.5837 | 1.049744 | 0.8295967 | 0.9986381 |\n",
       "| 4 | 400.2471 | 1.146883 | 0.9483531 | 0.9999979 |\n",
       "| 5 | 441.5722 | 1.269059 | 0.9197312 | 1.0000000 |\n",
       "\n"
      ],
      "text/plain": [
       "  y1       y2       y4        y6$LDF   \n",
       "1 326.6487 1.217941 1.3140861 1.0000000\n",
       "2 336.5191 1.193363 1.2133104 0.9998125\n",
       "3 250.5837 1.049744 0.8295967 0.9986381\n",
       "4 400.2471 1.146883 0.9483531 0.9999979\n",
       "5 441.5722 1.269059 0.9197312 1.0000000"
      ]
     },
     "metadata": {},
     "output_type": "display_data"
    }
   ],
   "source": [
    "Y[1:5, ]"
   ]
  },
  {
   "cell_type": "markdown",
   "id": "00ffcad2-c592-49d5-b10f-f01cb6246451",
   "metadata": {},
   "source": [
    "## Item Response Theory (IRT) emsemble"
   ]
  },
  {
   "cell_type": "code",
   "execution_count": 54,
   "id": "0134e27a-20a6-4fb3-b05d-64ca97695987",
   "metadata": {},
   "outputs": [
    {
     "name": "stderr",
     "output_type": "stream",
     "text": [
      "Warning message in sqrt(diag(solve(Hess))):\n",
      "“NaNs produced”\n"
     ]
    }
   ],
   "source": [
    "ens1 <- irt_ensemble(Y)"
   ]
  },
  {
   "cell_type": "code",
   "execution_count": 55,
   "id": "a250c31a-63b4-4fde-82fb-676f1f87a0b4",
   "metadata": {},
   "outputs": [
    {
     "data": {
      "text/html": [
       "<style>\n",
       ".list-inline {list-style: none; margin:0; padding: 0}\n",
       ".list-inline>li {display: inline-block}\n",
       ".list-inline>li:not(:last-child)::after {content: \"\\00b7\"; padding: 0 .5ex}\n",
       "</style>\n",
       "<ol class=list-inline><li>6.23911839852378</li><li>5.84443807516431</li><li>3.7316617122278</li><li>5.35552136577889</li><li>5.88711702714565</li></ol>\n"
      ],
      "text/latex": [
       "\\begin{enumerate*}\n",
       "\\item 6.23911839852378\n",
       "\\item 5.84443807516431\n",
       "\\item 3.7316617122278\n",
       "\\item 5.35552136577889\n",
       "\\item 5.88711702714565\n",
       "\\end{enumerate*}\n"
      ],
      "text/markdown": [
       "1. 6.23911839852378\n",
       "2. 5.84443807516431\n",
       "3. 3.7316617122278\n",
       "4. 5.35552136577889\n",
       "5. 5.88711702714565\n",
       "\n",
       "\n"
      ],
      "text/plain": [
       "[1] 6.239118 5.844438 3.731662 5.355521 5.887117"
      ]
     },
     "metadata": {},
     "output_type": "display_data"
    }
   ],
   "source": [
    "ens1$scores[1:5]"
   ]
  },
  {
   "cell_type": "markdown",
   "id": "b70bf3e3-d35e-45b7-b215-cf9607d6c832",
   "metadata": {},
   "source": [
    "## IRT emsemble scores"
   ]
  },
  {
   "cell_type": "code",
   "execution_count": 57,
   "id": "278772e9-24f7-4105-bd5b-671901779201",
   "metadata": {},
   "outputs": [
    {
     "data": {
      "text/plain": [
       "   Min. 1st Qu.  Median    Mean 3rd Qu.    Max. \n",
       "  0.000   4.429   5.000   5.037   5.606  21.376 "
      ]
     },
     "metadata": {},
     "output_type": "display_data"
    }
   ],
   "source": [
    "summary(ens1$scores)"
   ]
  },
  {
   "cell_type": "code",
   "execution_count": 65,
   "id": "d43f889e-2211-4e01-8dfa-72a968c1bdbe",
   "metadata": {},
   "outputs": [
    {
     "data": {
      "image/png": "[encoded data removed]",
      "text/plain": [
       "Plot with title “Histogram of ens1$scores”"
      ]
     },
     "metadata": {
      "image/png": {
       "height": 420,
       "width": 420
      }
     },
     "output_type": "display_data"
    }
   ],
   "source": [
    "hist(ens1$scores, breaks = sqrt(length(ens1$scores)))"
   ]
  },
  {
   "cell_type": "code",
   "execution_count": 66,
   "id": "ac34a4fd-f7ab-4c65-afae-d82db106eec7",
   "metadata": {},
   "outputs": [
    {
     "data": {
      "image/png": "[encoded data removed]",
      "text/plain": [
       "plot without title"
      ]
     },
     "metadata": {
      "image/png": {
       "height": 420,
       "width": 420
      }
     },
     "output_type": "display_data"
    }
   ],
   "source": [
    "boxplot(ens1$scores,\n",
    "  ylab = \"Ensemble anomaly scores\"\n",
    ")"
   ]
  },
  {
   "cell_type": "code",
   "execution_count": 59,
   "id": "392e07ae-2575-4138-b597-91c44d24c994",
   "metadata": {},
   "outputs": [
    {
     "data": {
      "text/html": [
       "363"
      ],
      "text/latex": [
       "363"
      ],
      "text/markdown": [
       "363"
      ],
      "text/plain": [
       "[1] 363"
      ]
     },
     "metadata": {},
     "output_type": "display_data"
    }
   ],
   "source": [
    "sum(ens1$scores > 7)"
   ]
  },
  {
   "cell_type": "code",
   "execution_count": 69,
   "id": "01b1b3cc-bc70-4200-bc3b-5aabc6f91461",
   "metadata": {},
   "outputs": [
    {
     "data": {
      "text/html": [
       "11211"
      ],
      "text/latex": [
       "11211"
      ],
      "text/markdown": [
       "11211"
      ],
      "text/plain": [
       "[1] 11211"
      ]
     },
     "metadata": {},
     "output_type": "display_data"
    }
   ],
   "source": [
    "length(ens1$scores[!ens1$scores %in% boxplot.stats(ens1$scores)$out])"
   ]
  },
  {
   "cell_type": "code",
   "execution_count": 70,
   "id": "e7f654bb-be67-463c-819f-b79b57e5b50b",
   "metadata": {},
   "outputs": [
    {
     "data": {
      "text/html": [
       "11521"
      ],
      "text/latex": [
       "11521"
      ],
      "text/markdown": [
       "11521"
      ],
      "text/plain": [
       "[1] 11521"
      ]
     },
     "metadata": {},
     "output_type": "display_data"
    }
   ],
   "source": [
    "length(ens1$scores)"
   ]
  },
  {
   "cell_type": "markdown",
   "id": "63d2140e-85b5-43d1-81fa-f6742db131a8",
   "metadata": {},
   "source": [
    "## Export"
   ]
  },
  {
   "cell_type": "code",
   "execution_count": null,
   "id": "0371a108-9804-4a47-80de-8af17cf0b4c4",
   "metadata": {},
   "outputs": [],
   "source": [
    "df <- cbind.data.frame(data, y1, y2, y4, y5, y6$LDF, ens1$scores)"
   ]
  },
  {
   "cell_type": "code",
   "execution_count": null,
   "id": "18fde4ae-38c4-4146-b5eb-0049e87e56e9",
   "metadata": {},
   "outputs": [],
   "source": [
    "colnames(df) <- list(, 'y_knn_agg', 'y_lof', 'y_inflo', 'y_kdeos', 'y_ldf', 'ensemble_scores')"
   ]
  }
 ],
 "metadata": {
  "kernelspec": {
   "display_name": "R",
   "language": "R",
   "name": "ir"
  },
  "language_info": {
   "codemirror_mode": "r",
   "file_extension": ".r",
   "mimetype": "text/x-r-source",
   "name": "R",
   "pygments_lexer": "r",
   "version": "4.0.2"
  }
 },
 "nbformat": 4,
 "nbformat_minor": 5
}
