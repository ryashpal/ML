{
 "cells": [
  {
   "cell_type": "markdown",
   "id": "1c77fcab-42a6-4b7e-86e2-abc3bb7b2ae3",
   "metadata": {},
   "source": [
    "## Install Libraries"
   ]
  },
  {
   "cell_type": "code",
   "execution_count": 1,
   "id": "d6caead7-ca56-40f2-a1a8-7bbe88d668b5",
   "metadata": {},
   "outputs": [],
   "source": [
    "import os\n",
    "import pandas as pd\n",
    "\n",
    "import psycopg2"
   ]
  },
  {
   "cell_type": "markdown",
   "id": "db4e1688-dec2-43dc-856c-a2e9feac3647",
   "metadata": {},
   "source": [
    "## Connect to the DB"
   ]
  },
  {
   "cell_type": "code",
   "execution_count": 2,
   "id": "b0bc39e9-078a-4c11-99af-87e31bbe6898",
   "metadata": {},
   "outputs": [],
   "source": [
    "# information used to create a database connection\n",
    "sqluser = 'postgres'\n",
    "dbname = 'mimic4'\n",
    "hostname = 'localhost'\n",
    "port_number = 5434\n",
    "schema_name = 'omop_cdm'\n",
    "\n",
    "# Connect to postgres with a copy of the MIMIC-III database\n",
    "con = psycopg2.connect(dbname=dbname, user=sqluser, host=hostname, port=port_number, password='mysecretpassword')\n",
    "\n",
    "# the below statement is prepended to queries to ensure they select from the right schema\n",
    "query_schema = 'set search_path to ' + schema_name + ';'"
   ]
  },
  {
   "cell_type": "markdown",
   "id": "477bbc63-1739-4c2b-9c73-ca45edadaa89",
   "metadata": {},
   "source": [
    "## Create Schema"
   ]
  },
  {
   "cell_type": "code",
   "execution_count": 127,
   "id": "63149159-334d-46f4-aced-120edcdf6065",
   "metadata": {},
   "outputs": [],
   "source": [
    "dropSchemaQuery = \"\"\"drop schema if exists sepsis_icd cascade\"\"\"\n",
    "createSchemaQuery = \"\"\"create schema if not exists sepsis_icd\"\"\"\n",
    "\n",
    "with con:\n",
    "    with con.cursor() as cursor:\n",
    "        cursor.execute(dropSchemaQuery)\n",
    "        cursor.execute(createSchemaQuery)"
   ]
  },
  {
   "cell_type": "markdown",
   "id": "6d6bfa48-86f2-4abb-b969-31ef9693662f",
   "metadata": {},
   "source": [
    "## Cohort Selection"
   ]
  },
  {
   "cell_type": "code",
   "execution_count": 128,
   "id": "ce36c5f4-8ba3-483e-9380-77dceb49cf7d",
   "metadata": {},
   "outputs": [],
   "source": [
    "dropCohortPosQuery = \"\"\"drop table if exists sepsis_icd.cohort cascade\"\"\"\n",
    "cohortPosQuery = \"\"\"\n",
    "    create table sepsis_icd.cohort as\n",
    "    select\n",
    "    vis.visit_occurrence_id,\n",
    "    min(vis.person_id) as person_id,\n",
    "    1 as sepsis\n",
    "    from\n",
    "    omop_cdm.visit_occurrence vis\n",
    "    inner join omop_cdm.person per\n",
    "    on per.person_id = vis.person_id\n",
    "    inner join mimiciv.patients pat\n",
    "    on pat.subject_id = per.person_source_value::int\n",
    "    inner join omop_cdm.condition_occurrence con\n",
    "    on con.visit_occurrence_id = vis.visit_occurrence_id\n",
    "    and con.condition_source_value in ('99591', '99592', '78552', 'A419', 'R6520', 'R6521')\n",
    "    where visit_source_value NOT LIKE '%-%'\n",
    "    and (floor(date_part('day', vis.visit_start_datetime - make_timestamp(pat.anchor_year, 1, 1, 0, 0, 0))/365.0) + pat.anchor_age) > 18\n",
    "    group by vis.visit_occurrence_id\n",
    "    having count(*) = 1\n",
    "    ;\n",
    "    \"\"\"\n",
    "\n",
    "with con:\n",
    "    with con.cursor() as cursor:\n",
    "        cursor.execute(dropCohortPosQuery)\n",
    "        cursor.execute(cohortPosQuery)"
   ]
  },
  {
   "cell_type": "code",
   "execution_count": 129,
   "id": "d2e6f85b-8152-4eeb-afda-68f4a2c00e58",
   "metadata": {},
   "outputs": [
    {
     "data": {
      "text/plain": [
       "8885"
      ]
     },
     "execution_count": 129,
     "metadata": {},
     "output_type": "execute_result"
    }
   ],
   "source": [
    "cohortPosCountQuery = \"\"\"select count(*) from sepsis_icd.cohort;\"\"\"\n",
    "cohortPosCountDf = pd.read_sql_query(cohortPosCountQuery, con)\n",
    "cohortPosCount = cohortPosCountDf['count'][0]\n",
    "cohortPosCount"
   ]
  },
  {
   "cell_type": "code",
   "execution_count": 131,
   "id": "5aea70a5-5555-45fc-9849-4c109ccd2036",
   "metadata": {},
   "outputs": [],
   "source": [
    "cohortNegQuery = \"\"\"\n",
    "    insert into sepsis_icd.cohort\n",
    "    with t1 as (\n",
    "        select\n",
    "        distinct\n",
    "        vis.visit_occurrence_id,\n",
    "        vis.person_id,\n",
    "        0 as sepsis\n",
    "        from\n",
    "        omop_cdm.visit_occurrence vis\n",
    "        inner join omop_cdm.person per\n",
    "        on per.person_id = vis.person_id\n",
    "        inner join mimiciv.patients pat\n",
    "        on pat.subject_id = per.person_source_value::int\n",
    "        inner join mimiciv.admissions adm\n",
    "        on adm.subject_id = pat.subject_id\n",
    "        inner join mimiciv.icustays icu\n",
    "        on icu.hadm_id = adm.hadm_id\n",
    "        where vis.visit_source_value not like '%-%'\n",
    "        and (floor(date_part('day', vis.visit_start_datetime - make_timestamp(pat.anchor_year, 1, 1, 0, 0, 0))/365.0) + pat.anchor_age) > 18\n",
    "        and vis.person_id not in (\n",
    "            select\n",
    "            con.person_id\n",
    "            from\n",
    "            omop_cdm.condition_occurrence con\n",
    "            where\n",
    "            con.condition_source_value in ('99591', '99592', '78552', 'A419', 'R6520', 'R6521')\n",
    "        )\n",
    "    )\n",
    "    select * from t1\n",
    "    order by random() limit 8885\n",
    "    ;\n",
    "    \"\"\"\n",
    "\n",
    "with con:\n",
    "    with con.cursor() as cursor:\n",
    "        cursor.execute(cohortNegQuery)"
   ]
  },
  {
   "cell_type": "markdown",
   "id": "26a7af15-6eaf-455f-bb0b-d972bae2f92f",
   "metadata": {},
   "source": [
    "## Static Data"
   ]
  },
  {
   "cell_type": "code",
   "execution_count": 132,
   "id": "69ca1162-49b5-4f14-8f38-6a0707ee885e",
   "metadata": {},
   "outputs": [],
   "source": [
    "dropStaticQuery = \"\"\"drop table if exists sepsis_icd.static cascade\"\"\"\n",
    "staticQuery = \"\"\"\n",
    "    create table sepsis_icd.static as\n",
    "    select\n",
    "    vo.person_id AS person_id,\n",
    "    vo.visit_start_datetime AS visit_start_datetime,\n",
    "    vo.visit_end_datetime AS visit_end_datetime,\n",
    "    vo.visit_occurrence_id AS visit_occurrence_id,\n",
    "    con_vo.concept_name AS visit_occurrence_concept_name,\n",
    "    (date_part('day', (vo.visit_end_datetime - vo.visit_start_datetime)) * 24) + date_part('hour', (vo.visit_end_datetime - vo.visit_start_datetime)) as visit_duration_hrs,\n",
    "    con_src.concept_name AS visit_source_concept_name,\n",
    "    vo.admitting_source_value AS admitting_source_value\n",
    "    from\n",
    "    omop_cdm.visit_occurrence vo\n",
    "    inner join omop_cdm.concept con_vo\n",
    "    ON con_vo.concept_id = vo.visit_concept_id\n",
    "    inner join omop_cdm.concept con_src\n",
    "    ON con_src.concept_id = vo.visit_source_concept_id\n",
    "    inner join sepsis_icd.cohort coh\n",
    "    on coh.visit_occurrence_id = vo.visit_occurrence_id and coh.person_id = vo.person_id\n",
    "    ;\n",
    "    \"\"\"\n",
    "\n",
    "with con:\n",
    "    with con.cursor() as cursor:\n",
    "        cursor.execute(dropStaticQuery)\n",
    "        cursor.execute(staticQuery)"
   ]
  },
  {
   "cell_type": "code",
   "execution_count": 133,
   "id": "11337a45-5b3e-4317-b8bb-ece53abcef3d",
   "metadata": {},
   "outputs": [
    {
     "data": {
      "text/plain": [
       "17770"
      ]
     },
     "execution_count": 133,
     "metadata": {},
     "output_type": "execute_result"
    }
   ],
   "source": [
    "staticCountQuery = \"\"\"select count(*) from sepsis_icd.static;\"\"\"\n",
    "staticCountDf = pd.read_sql_query(staticCountQuery, con)\n",
    "staticCount = staticCountDf['count'][0]\n",
    "staticCount"
   ]
  },
  {
   "cell_type": "markdown",
   "id": "fa32e676-e54f-42eb-85fc-676cd9277fbe",
   "metadata": {},
   "source": [
    "## Vitals Data"
   ]
  },
  {
   "cell_type": "code",
   "execution_count": 134,
   "id": "397fc198-a593-479d-bea5-8a6c59e146e8",
   "metadata": {},
   "outputs": [],
   "source": [
    "dropVitalsQuery = \"\"\"drop table if exists sepsis_icd.vitals cascade\"\"\"\n",
    "vitalsQuery = \"\"\"\n",
    "    create table sepsis_icd.vitals as\n",
    "    with vitals_stg_1 as\n",
    "    (\n",
    "        select\n",
    "        mmt.visit_occurrence_id as visit_occurrence_id,\n",
    "        mmt.person_id as person_id,\n",
    "        mmt.measurement_datetime as measurement_datetime,\n",
    "        mmt.unit_source_value as unit_source_value,\n",
    "        mmt.value_as_number as value_as_number,\n",
    "        cpt.concept_name as concept_name\n",
    "        from\n",
    "        omop_cdm.measurement mmt\n",
    "        inner join omop_cdm.concept cpt\n",
    "        on cpt.concept_id = mmt.measurement_concept_id\n",
    "        inner join sepsis_icd.cohort coh\n",
    "        on coh.visit_occurrence_id = mmt.visit_occurrence_id and coh.person_id = mmt.person_id\n",
    "        where\n",
    "        measurement_concept_id in (\n",
    "        3027018 -- Heart rate\n",
    "        , 21492239, 3004249 -- Systolic blood pressure\n",
    "        , 21492240, 3012888 -- Diastolic blood pressure\n",
    "        , 3027598, 21492241 -- Mean blood pressure\n",
    "        , 1175625, 3024171, 3007469 -- Respiratory rate\n",
    "        , 3020891 -- Body temperature\n",
    "        , 40762499 -- Oxygen saturation in Arterial blood by Pulse oximetry\n",
    "        , 3016335 -- Glasgow coma score eye opening\n",
    "        , 3009094 -- Glasgow coma score verbal\n",
    "        , 3008223 -- Glasgow coma score motor\n",
    "        )\n",
    "        and value_as_number is not null\n",
    "    )\n",
    "    , vitals_stg_2 AS\n",
    "    (\n",
    "      select\n",
    "        visit_occurrence_id,\n",
    "        person_id,\n",
    "        measurement_datetime,\n",
    "        unit_source_value,\n",
    "        value_as_number,\n",
    "        concept_name,\n",
    "        row_number() over (partition by person_id, concept_name order by measurement_datetime) as rn\n",
    "      from vitals_stg_1\n",
    "    )\n",
    "    select * from vitals_stg_2\n",
    "    \"\"\"\n",
    "\n",
    "with con:\n",
    "    with con.cursor() as cursor:\n",
    "        cursor.execute(dropVitalsQuery)\n",
    "        cursor.execute(vitalsQuery)"
   ]
  },
  {
   "cell_type": "code",
   "execution_count": 135,
   "id": "7785616d-d114-4613-a649-d5023181b125",
   "metadata": {},
   "outputs": [
    {
     "data": {
      "text/plain": [
       "8554241"
      ]
     },
     "execution_count": 135,
     "metadata": {},
     "output_type": "execute_result"
    }
   ],
   "source": [
    "vitalsCountQuery = \"\"\"select count(*) from sepsis_icd.vitals;\"\"\"\n",
    "vitalsCountDf = pd.read_sql_query(vitalsCountQuery, con)\n",
    "vitalsCount = vitalsCountDf['count'][0]\n",
    "vitalsCount"
   ]
  },
  {
   "cell_type": "markdown",
   "id": "121d2fb7-1685-4ad7-97bd-cc65166fadb9",
   "metadata": {},
   "source": [
    "## Lab Measurements Data"
   ]
  },
  {
   "cell_type": "code",
   "execution_count": 136,
   "id": "c212bff5-de68-4a6f-91d1-e60205d1934e",
   "metadata": {},
   "outputs": [],
   "source": [
    "dropLabsQuery = \"\"\"drop table if exists sepsis_icd.labs cascade\"\"\"\n",
    "labsQuery = \"\"\"\n",
    "    create table sepsis_icd.labs as\n",
    "with labs_stg_1 as\n",
    "    (\n",
    "        select\n",
    "        mmt.visit_occurrence_id as visit_occurrence_id,\n",
    "        mmt.person_id AS person_id,\n",
    "        measurement_datetime as measurement_datetime,\n",
    "        unit_source_value as unit_source_value,\n",
    "        value_as_number as value_as_number,\n",
    "        cpt.concept_name as concept_name\n",
    "        from\n",
    "        etl_dataset_temp.measurement mmt\n",
    "        inner join omop_cdm.concept cpt\n",
    "        on cpt.concept_id = mmt.measurement_concept_id\n",
    "        inner join sepsis_icd.cohort coh\n",
    "        on coh.visit_occurrence_id = mmt.visit_occurrence_id and coh.person_id = mmt.person_id\n",
    "        where\n",
    "        measurement_concept_id in (\n",
    "        3047181\t-- Lactate [Moles/volume] in Blood\n",
    "\t\t, 3013290\t-- Carbon dioxide [Partial pressure] in Blood\n",
    "\t\t, 3024561\t-- Albumin [Mass/volume] in Serum or Plasma\n",
    "\t\t, 3024629\t-- Glucose [Mass/volume] in Urine by Test strip\n",
    "\t\t, 3008939\t-- Band form neutrophils [#/volume] in Blood by Manual count\n",
    "\t\t, 3012501\t-- Base excess in Blood by calculation\n",
    "\t\t, 3005456\t-- Potassium [Moles/volume] in Blood\n",
    "\t\t, 3010421\t-- pH of Blood\n",
    "\t\t, 3014576\t-- Chloride [Moles/volume] in Serum or Plasma\n",
    "\t\t, 3031147\t-- Carbon dioxide, total [Moles/volume] in Blood by calculation\n",
    "\t\t, 3024128\t-- Bilirubin.total [Mass/volume] in Serum or Plasma\n",
    "\t\t, 3000905\t-- Leukocytes [#/volume] in Blood by Automated count\n",
    "\t\t, 3016723\t-- Creatinine [Mass/volume] in Serum or Plasma\n",
    "\t\t, 3022217\t-- INR in Platelet poor plasma by Coagulation assay\n",
    "\t\t, 3019550\t-- Sodium [Moles/volume] in Serum or Plasma\n",
    "\t\t, 3000285\t-- Sodium [Moles/volume] in Blood\n",
    "\t\t, 3000963\t-- Hemoglobin [Mass/volume] in Blood\n",
    "\t\t, 3000963\t-- Hemoglobin [Mass/volume] in Blood\n",
    "\t\t, 3018672\t-- pH of Body fluid\n",
    "\t\t, 3024929\t-- Platelets [#/volume] in Blood by Automated count\n",
    "\t\t, 3013682\t-- Urea nitrogen [Mass/volume] in Serum or Plasma\n",
    "\t\t, 3004501\t-- Glucose [Mass/volume] in Serum or Plasma\n",
    "\t\t, 3018572\t-- Chloride [Moles/volume] in Blood\n",
    "\t\t, 3027315\t-- Oxygen [Partial pressure] in Blood\n",
    "\t\t, 3016293\t-- Bicarbonate [Moles/volume] in Serum or Plasma\n",
    "\t\t, 3023103\t-- Potassium [Moles/volume] in Serum or Plasma\n",
    "\t\t, 3037278\t-- Anion gap 4 in Serum or Plasma\n",
    "\t\t, 3003282\t-- Leukocytes [#/volume] in Blood by Manual count\n",
    "\t\t, 3023314\t-- Hematocrit [Volume Fraction] of Blood by Automated count\n",
    "\t\t, 3013466\t-- aPTT in Blood by Coagulation assay\n",
    "        )\n",
    "        and value_as_number is not null\n",
    "    )\n",
    "    , labs_stg_2 as\n",
    "    (\n",
    "      select\n",
    "        visit_occurrence_id,\n",
    "        person_id,\n",
    "        measurement_datetime,\n",
    "        unit_source_value,\n",
    "        value_as_number,\n",
    "        concept_name,\n",
    "        row_number() over (partition by person_id, concept_name order by measurement_datetime) as rn\n",
    "      from labs_stg_1\n",
    "    )\n",
    "    select * from labs_stg_2\n",
    "    \"\"\"\n",
    "\n",
    "with con:\n",
    "    with con.cursor() as cursor:\n",
    "        cursor.execute(dropLabsQuery)\n",
    "        cursor.execute(labsQuery)"
   ]
  },
  {
   "cell_type": "code",
   "execution_count": 137,
   "id": "4279489c-e09f-450a-9531-dd2eefdf7078",
   "metadata": {},
   "outputs": [
    {
     "data": {
      "text/plain": [
       "514102"
      ]
     },
     "execution_count": 137,
     "metadata": {},
     "output_type": "execute_result"
    }
   ],
   "source": [
    "labsCountQuery = \"\"\"select count(*) from sepsis_icd.labs;\"\"\"\n",
    "labsCountDf = pd.read_sql_query(labsCountQuery, con)\n",
    "labsCount = labsCountDf['count'][0]\n",
    "labsCount"
   ]
  },
  {
   "cell_type": "markdown",
   "id": "32e71bd8-4fa3-4478-80c7-3b37bfe819f5",
   "metadata": {},
   "source": [
    "## Mortality Data"
   ]
  },
  {
   "cell_type": "code",
   "execution_count": 138,
   "id": "e0360ac3-f907-4b01-ac1a-acc0f9588adf",
   "metadata": {},
   "outputs": [],
   "source": [
    "dropMortalityQuery = \"\"\"drop table if exists sepsis_icd.mortality cascade\"\"\"\n",
    "mortalityQuery = \"\"\"\n",
    "    create table sepsis_icd.mortality as\n",
    "    select\n",
    "    distinct\n",
    "    vo.visit_occurrence_id as visit_occurrence_id,\n",
    "    vo.person_id as person_id,\n",
    "    case when dth.person_id is null then false else (vo.visit_end_datetime = dth.death_datetime) end as discharge_mortality,\n",
    "    case when dth.person_id is null then false else (vo.visit_end_datetime + interval '1 day' >= dth.death_datetime) end as one_day_mortality,\n",
    "    case when dth.person_id is null then false else (vo.visit_end_datetime + interval '2 day' >= dth.death_datetime) end as two_day_mortality,\n",
    "    case when dth.person_id is null then false else (vo.visit_end_datetime + interval '30 day' >= dth.death_datetime) end as thirty_day_mortality,\n",
    "    case when dth.person_id is null then false else (vo.visit_end_datetime + interval '60 day' >= dth.death_datetime) end as sixty_day_mortality,\n",
    "    case when dth.person_id is null then false else (vo.visit_end_datetime + interval '90 day' >= dth.death_datetime) end as ninety_day_mortality\n",
    "    from\n",
    "    omop_cdm.visit_occurrence vo\n",
    "    inner join omop_cdm.person per\n",
    "    on per.person_id = vo.person_id\n",
    "    left join omop_cdm.death dth\n",
    "    on dth.person_id = per.person_id\n",
    "    inner join sepsis_icd.cohort coh\n",
    "    on coh.visit_occurrence_id = vo.visit_occurrence_id and coh.person_id = vo.person_id\n",
    "    ;\n",
    "    \"\"\"\n",
    "with con:\n",
    "    with con.cursor() as cursor:\n",
    "        cursor.execute(dropMortalityQuery)\n",
    "        cursor.execute(mortalityQuery)"
   ]
  },
  {
   "cell_type": "code",
   "execution_count": 139,
   "id": "32fe26a8-72eb-45df-9d10-30bea99ce4f0",
   "metadata": {},
   "outputs": [
    {
     "data": {
      "text/plain": [
       "17770"
      ]
     },
     "execution_count": 139,
     "metadata": {},
     "output_type": "execute_result"
    }
   ],
   "source": [
    "mortalityCountQuery = \"\"\"select count(*) from sepsis_icd.mortality;\"\"\"\n",
    "mortalityCountDf = pd.read_sql_query(mortalityCountQuery, con)\n",
    "mortalityCount = mortalityCountDf['count'][0]\n",
    "mortalityCount"
   ]
  }
 ],
 "metadata": {
  "kernelspec": {
   "display_name": "Python 3 (ipykernel)",
   "language": "python",
   "name": "python3"
  },
  "language_info": {
   "codemirror_mode": {
    "name": "ipython",
    "version": 3
   },
   "file_extension": ".py",
   "mimetype": "text/x-python",
   "name": "python",
   "nbconvert_exporter": "python",
   "pygments_lexer": "ipython3",
   "version": "3.9.1"
  }
 },
 "nbformat": 4,
 "nbformat_minor": 5
}
